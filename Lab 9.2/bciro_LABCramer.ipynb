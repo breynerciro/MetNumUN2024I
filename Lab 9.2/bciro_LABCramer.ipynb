{
  "nbformat": 4,
  "nbformat_minor": 0,
  "metadata": {
    "colab": {
      "provenance": [],
      "include_colab_link": true
    },
    "kernelspec": {
      "name": "python3",
      "display_name": "Python 3"
    },
    "language_info": {
      "name": "python"
    }
  },
  "cells": [
    {
      "cell_type": "markdown",
      "metadata": {
        "id": "view-in-github",
        "colab_type": "text"
      },
      "source": [
        "<a href=\"https://colab.research.google.com/github/breynerciro/MetNumUN2024I/blob/main/Lab%209.2/bciro_LABCramer.ipynb\" target=\"_parent\"><img src=\"https://colab.research.google.com/assets/colab-badge.svg\" alt=\"Open In Colab\"/></a>"
      ]
    },
    {
      "cell_type": "markdown",
      "source": [
        "### Cramer by hand\n",
        "\n",
        "$$A = \\left[\n",
        "  \\begin{array}{cc}\n",
        "1 & 2\\\\\n",
        "3 & 4\n",
        "\\end{array}\n",
        "\\right],  \n",
        "b= \\left[\n",
        "\\begin{array}{c}\n",
        "5\\\\\n",
        "6\n",
        "\\end{array}\n",
        "\\right]\n",
        "$$\n",
        "$$\n",
        "Ax =B\n",
        "$$\n",
        "$$  \n",
        "\\left[\n",
        "  \\begin{array}{cc}\n",
        "1 & 2\\\\\n",
        "3 & 4\n",
        "\\end{array}\n",
        "\\right]\n",
        "\\left[\n",
        "\\begin{array}{c}\n",
        "x_1\\\\\n",
        "x_2\n",
        "\\end{array}\n",
        "\\right]  \n",
        "=\n",
        "\\left[\n",
        "\\begin{array}{c}\n",
        "5\\\\\n",
        "6\n",
        "\\end{array}\n",
        "\\right]\n",
        "$$\n",
        "\n",
        "$$Det\\ A =  (1 * 4) - (3 * 2)  = 4 - 6 = -2$$\n",
        "\n",
        "$$A_1 = \\left[\n",
        "  \\begin{array}{cc}\n",
        "5 & 2\\\\\n",
        "6 & 4\n",
        "\\end{array}\n",
        "\\right]\n",
        "$$\n",
        "\n",
        "$$Det\\ A_1 = (5 * 4) - (6 * 2) = 20 - 12 =  8$$\n",
        "\n",
        "$$x_1 =  \\frac{Det\\ A_1}{Det\\ A}= \\frac{8}{-2} =  -4$$\n",
        "\n",
        "$$A_2 = \\left[\n",
        "  \\begin{array}{cc}\n",
        "1 & 5\\\\\n",
        "3 & 6\n",
        "\\end{array}\n",
        "\\right]\n",
        "$$\n",
        "\n",
        "$$Det\\ A_2 = (1*6) - (3*5)  = 6 -15 = -9$$\n",
        "\n",
        "$$x_2 = \\frac{Det\\ A_2}{Det\\ A}= \\frac{-9}{-2} =  \\frac{9}{2}$$"
      ],
      "metadata": {
        "id": "SUmNm2PmfHU7"
      }
    },
    {
      "cell_type": "markdown",
      "source": [
        "- ***Adding a single digit to any number requires about 7.30 bits of processing.*** - World Mental Calculation: News and Resources for Competitive and Advanced Mental Calculation https://worldmentalcalculation.com/2019/06/30/fastest-possible-processing-speed-of-the-human-brain/\n",
        "\n",
        "- ***The human brain can process 11 million bits of information every second. But our conscious minds can handle only 40 to 50 bits of information a second.*** - Understanding Unconscious Bias https://www.npr.org/2020/07/14/891140598/understanding-unconscious-bias\n",
        "\n",
        "- ***A new way to analyze human reaction times shows that the brain processes data no faster than 60 bits per second.***- New Measure of Human Brain Processing Speed https://www.technologyreview.com/2009/08/25/210267/new-measure-of-human-brain-processing-speed/\n",
        "\n",
        "\n"
      ],
      "metadata": {
        "id": "3rH8z64pk2XV"
      }
    },
    {
      "cell_type": "markdown",
      "source": [
        "# Number of operations to compute a determinant by cofactor expasion\n",
        "- Cofactor expansion https://people.math.carleton.ca/~kcheung/math/notes/MATH1107/07/07_cofactor_expansion.html\n",
        "## Definition of A(i∣j)\n",
        "Let $A$ be an $n\\times n$ matrix. Let $i,j \\in \\{1,…,n\\}$. We define $A(i∣j)$  to be the matrix obtained from $A$ by removing row $i$ and column $j$ from $A$.\n",
        "\n",
        "## Cofactor formula\n",
        "One way of computing the determinant of an $n\\times n$  matrix\n",
        "\n",
        "$$A = \\left[\n",
        "  \\begin{array}{cccc}\n",
        "a_{11} & a_{12} & \\cdots & a_{1n}\\\\\n",
        "a_{21} & a_{22} & \\cdots & a_{2n}\\\\\n",
        "\\vdots  & \\vdots & \\ddots & \\vdots\\\\\n",
        "a_{n1} & a_{n2} & \\cdots & a_{nn}\\\\\n",
        "\\end{array}\n",
        "\\right]\n",
        "$$\n",
        "is to use the following formula called the cofactor formula.\n",
        "\n",
        "Pick either any $i\\ \\in \\{1,…,n\\}$ (fixed row) or $i\\ \\in \\{1,…,n\\}$ (fixed column). Then\n",
        "\n",
        "$$\\det(A)  = \\sum_{j=1}^n (-1)^{i+j}a_{ij} \\det(A(i∣j)) $$\n",
        "\n",
        "\n",
        "$C_{i,j}= (-1)^{i+j}a_{ij} \\det(A(i∣j))$ is called a cofactor of $A$.\n",
        "\n",
        "$$\\det(A)  = \\sum_{j=1}^n C_{i,j} $$\n",
        "\n"
      ],
      "metadata": {
        "id": "CgrSIpDOnaGQ"
      }
    },
    {
      "cell_type": "code",
      "source": [
        "# Code from https://stackoverflow.com/questions/16510111/computing-determinant-of-a-matrix-nxn-recursively\n",
        "\n",
        "import numpy as np\n",
        "\n",
        "def smaller_matrix(original_matrix,row, column):\n",
        "    for ii in range(len(original_matrix)):\n",
        "        new_matrix=np.delete(original_matrix,ii,0)\n",
        "        new_matrix=np.delete(new_matrix,column,1)\n",
        "        return new_matrix\n",
        "\n",
        "\n",
        "def determinant(matrix):\n",
        "    \"\"\"Returns a determinant of a matrix by recursive method.\"\"\"\n",
        "    (r,c) = matrix.shape\n",
        "    if r != c:\n",
        "        print(\"Error!Not a square matrix!\")\n",
        "        return None\n",
        "    elif r==2:\n",
        "        simple_determinant = matrix[0][0]*matrix[1][1]-matrix[0][1]*matrix[1][0]\n",
        "        return simple_determinant\n",
        "    else:\n",
        "        answer=0\n",
        "        for j in range(r):\n",
        "            cofactor = (-1)**(0+j) * matrix[0][j] * determinant(smaller_matrix(matrix, 0, j))\n",
        "            answer+= cofactor\n",
        "        return answer"
      ],
      "metadata": {
        "id": "J-joKRBhC7eF"
      },
      "execution_count": 1,
      "outputs": []
    },
    {
      "cell_type": "code",
      "source": [
        "#test the function\n",
        "#Only works for numpy.array input\n",
        "np.random.seed(1)"
      ],
      "metadata": {
        "id": "Il2pcRD4DptG"
      },
      "execution_count": 2,
      "outputs": []
    },
    {
      "cell_type": "code",
      "source": [
        "n = 2\n",
        "matrix=np.random.randint(-5,5,size=(n,n))\n",
        "matrix"
      ],
      "metadata": {
        "colab": {
          "base_uri": "https://localhost:8080/"
        },
        "id": "AgKC1-aiFRW2",
        "outputId": "d0cb3ba5-89f0-4327-c365-c8b64727bb86"
      },
      "execution_count": 3,
      "outputs": [
        {
          "output_type": "execute_result",
          "data": {
            "text/plain": [
              "array([[0, 3],\n",
              "       [4, 0]])"
            ]
          },
          "metadata": {},
          "execution_count": 3
        }
      ]
    },
    {
      "cell_type": "code",
      "source": [
        "determinant(matrix)"
      ],
      "metadata": {
        "colab": {
          "base_uri": "https://localhost:8080/"
        },
        "outputId": "a26a33c3-c1eb-488e-fb29-83d0ecff3e74",
        "id": "oI0rUp-SDptH"
      },
      "execution_count": 4,
      "outputs": [
        {
          "output_type": "execute_result",
          "data": {
            "text/plain": [
              "-12"
            ]
          },
          "metadata": {},
          "execution_count": 4
        }
      ]
    },
    {
      "cell_type": "code",
      "source": [
        "np.linalg.det(matrix)"
      ],
      "metadata": {
        "colab": {
          "base_uri": "https://localhost:8080/"
        },
        "id": "iqZv7iK-KKXH",
        "outputId": "77d23495-7f67-41fd-8b02-61fe43dcc990"
      },
      "execution_count": 5,
      "outputs": [
        {
          "output_type": "execute_result",
          "data": {
            "text/plain": [
              "-12.0"
            ]
          },
          "metadata": {},
          "execution_count": 5
        }
      ]
    },
    {
      "cell_type": "code",
      "source": [
        "round(np.linalg.det(matrix))"
      ],
      "metadata": {
        "colab": {
          "base_uri": "https://localhost:8080/"
        },
        "id": "sY21rHM-KdlO",
        "outputId": "31fae78a-5225-40b2-e789-6849744ff18f"
      },
      "execution_count": 6,
      "outputs": [
        {
          "output_type": "execute_result",
          "data": {
            "text/plain": [
              "-12"
            ]
          },
          "metadata": {},
          "execution_count": 6
        }
      ]
    },
    {
      "cell_type": "code",
      "source": [
        "n = 5\n",
        "matrix=np.diag(np.random.randint(-10,10,size=(n)))\n",
        "matrix"
      ],
      "metadata": {
        "colab": {
          "base_uri": "https://localhost:8080/"
        },
        "id": "-QXGZWFIDs5k",
        "outputId": "a8419574-98ac-456f-8910-5fdf8a24dab1"
      },
      "execution_count": 7,
      "outputs": [
        {
          "output_type": "execute_result",
          "data": {
            "text/plain": [
              "array([[  5,   0,   0,   0,   0],\n",
              "       [  0, -10,   0,   0,   0],\n",
              "       [  0,   0,   6,   0,   0],\n",
              "       [  0,   0,   0,  -9,   0],\n",
              "       [  0,   0,   0,   0,   2]])"
            ]
          },
          "metadata": {},
          "execution_count": 7
        }
      ]
    },
    {
      "cell_type": "code",
      "source": [
        "determinant(matrix)"
      ],
      "metadata": {
        "colab": {
          "base_uri": "https://localhost:8080/"
        },
        "id": "VP6hRwhwD-3W",
        "outputId": "b996b0ed-5348-4bdc-eabb-77e233c26036"
      },
      "execution_count": 8,
      "outputs": [
        {
          "output_type": "execute_result",
          "data": {
            "text/plain": [
              "5400"
            ]
          },
          "metadata": {},
          "execution_count": 8
        }
      ]
    },
    {
      "cell_type": "code",
      "source": [
        "np.linalg.det(matrix)"
      ],
      "metadata": {
        "colab": {
          "base_uri": "https://localhost:8080/"
        },
        "id": "8NV7Zvp-KtRz",
        "outputId": "9899fd24-667e-4bb2-9064-627a1ec2cec2"
      },
      "execution_count": 9,
      "outputs": [
        {
          "output_type": "execute_result",
          "data": {
            "text/plain": [
              "5400.000000000003"
            ]
          },
          "metadata": {},
          "execution_count": 9
        }
      ]
    },
    {
      "cell_type": "code",
      "source": [
        "round(np.linalg.det(matrix))"
      ],
      "metadata": {
        "colab": {
          "base_uri": "https://localhost:8080/"
        },
        "id": "HXKK3weLKt5T",
        "outputId": "10120081-ed52-4af9-f19d-41840d8dda0f"
      },
      "execution_count": 10,
      "outputs": [
        {
          "output_type": "execute_result",
          "data": {
            "text/plain": [
              "5400"
            ]
          },
          "metadata": {},
          "execution_count": 10
        }
      ]
    },
    {
      "cell_type": "code",
      "source": [
        "# Modified from the previous code\n",
        "import numpy as np\n",
        "\n",
        "# A a squared numpy matrix\n",
        "def det(A):\n",
        "    \"\"\"Returns a determinant of a matrix by recursive method.\"\"\"\n",
        "    (r,c) = A.shape\n",
        "    if r != c:\n",
        "        print(\"Error!Not a square matrix!\")\n",
        "        return None\n",
        "    elif r==1:\n",
        "          # the code with  r==2 is more efficient but we use this\n",
        "         # because the number of operations is easier to compute\n",
        "        return A[0][0]\n",
        "    else:\n",
        "        answer=0\n",
        "        for j in range(r):\n",
        "            s = 1 if (0+j)%2 == 0 else -1\n",
        "            Aij = np.delete(A,0,0)\n",
        "            Aij = np.delete(Aij,j,1)\n",
        "            cofactor = (s) * A[0][j] * det(Aij)\n",
        "            answer+= cofactor\n",
        "        return answer"
      ],
      "metadata": {
        "id": "B258g8lnBgnG"
      },
      "execution_count": 11,
      "outputs": []
    },
    {
      "cell_type": "code",
      "source": [
        "#test the function\n",
        "#Only works for numpy.array input\n",
        "np.random.seed(1)"
      ],
      "metadata": {
        "id": "ZR2mjlqiGdM6"
      },
      "execution_count": 12,
      "outputs": []
    },
    {
      "cell_type": "code",
      "source": [
        "n = 2\n",
        "A=np.random.randint(-5,5,size=(n,n))\n",
        "A"
      ],
      "metadata": {
        "colab": {
          "base_uri": "https://localhost:8080/"
        },
        "outputId": "85541e50-a7a1-4533-fd89-d33eb726d551",
        "id": "jPpBCFaoGlak"
      },
      "execution_count": 13,
      "outputs": [
        {
          "output_type": "execute_result",
          "data": {
            "text/plain": [
              "array([[0, 3],\n",
              "       [4, 0]])"
            ]
          },
          "metadata": {},
          "execution_count": 13
        }
      ]
    },
    {
      "cell_type": "code",
      "source": [
        "det(A)"
      ],
      "metadata": {
        "colab": {
          "base_uri": "https://localhost:8080/"
        },
        "outputId": "d0cfb313-692c-449d-9415-a2d026f833d5",
        "id": "WKbuirZeGlak"
      },
      "execution_count": 14,
      "outputs": [
        {
          "output_type": "execute_result",
          "data": {
            "text/plain": [
              "-12"
            ]
          },
          "metadata": {},
          "execution_count": 14
        }
      ]
    },
    {
      "cell_type": "code",
      "source": [
        "determinant(A)"
      ],
      "metadata": {
        "colab": {
          "base_uri": "https://localhost:8080/"
        },
        "id": "_B5xBFirTvQm",
        "outputId": "8346b672-a154-415c-8563-782c05d6254c"
      },
      "execution_count": 15,
      "outputs": [
        {
          "output_type": "execute_result",
          "data": {
            "text/plain": [
              "-12"
            ]
          },
          "metadata": {},
          "execution_count": 15
        }
      ]
    },
    {
      "cell_type": "code",
      "source": [
        "np.linalg.det(A)"
      ],
      "metadata": {
        "colab": {
          "base_uri": "https://localhost:8080/"
        },
        "outputId": "7522cc95-1a91-47de-f725-1c212b2feb61",
        "id": "bRyF2dsFLbXC"
      },
      "execution_count": 16,
      "outputs": [
        {
          "output_type": "execute_result",
          "data": {
            "text/plain": [
              "-12.0"
            ]
          },
          "metadata": {},
          "execution_count": 16
        }
      ]
    },
    {
      "cell_type": "code",
      "source": [
        "round(np.linalg.det(A))"
      ],
      "metadata": {
        "colab": {
          "base_uri": "https://localhost:8080/"
        },
        "outputId": "9d4d8638-ab00-49d3-b6c9-fc39f9a106ff",
        "id": "sOe1w9FPLbXD"
      },
      "execution_count": 17,
      "outputs": [
        {
          "output_type": "execute_result",
          "data": {
            "text/plain": [
              "-12"
            ]
          },
          "metadata": {},
          "execution_count": 17
        }
      ]
    },
    {
      "cell_type": "code",
      "source": [
        "n = 10\n",
        "\n",
        "A=np.random.randint(-10,10,size=(n,n))\n",
        "\n",
        "A"
      ],
      "metadata": {
        "colab": {
          "base_uri": "https://localhost:8080/"
        },
        "outputId": "0abbfc78-f612-4ea4-8211-2b50efee076a",
        "id": "jzFX1soHGlak"
      },
      "execution_count": 18,
      "outputs": [
        {
          "output_type": "execute_result",
          "data": {
            "text/plain": [
              "array([[  5, -10,   6,  -9,   2,  -3,   3,  -4,   8,  -5],\n",
              "       [  8,   1,   0,   4,   8,  -6,  -1,   7, -10,   3],\n",
              "       [ -1,  -1,  -3,  -9, -10,   7,  -2,   3,   9,   5],\n",
              "       [  0,  -2,  -3,  -7,  -4,   7,  -7,  -6,   7,   1],\n",
              "       [  2,   6,   3,   9,  -1,   8,   5, -10,  -6,   5],\n",
              "       [ -8,  -3,  -2,  -1,  -7,  -3,  -6,  -5,   9,  -4],\n",
              "       [ -2, -10,  -8,   0,   5,   5,  -3,   9,   0,   4],\n",
              "       [-10,  -9,   7,   3,  -7, -10,   3,  -4,  -4,  -8],\n",
              "       [  2,   1,  -3,   3,  -2,   1,   2,   1,  -6,  -3],\n",
              "       [ -3,   3,  -6,   6,   8, -10,   3,   0,   7,  -3]])"
            ]
          },
          "metadata": {},
          "execution_count": 18
        }
      ]
    },
    {
      "cell_type": "code",
      "source": [
        "import time\n",
        "\n",
        "start_time = time.time()\n",
        "d = det(A)\n",
        "end_time = time.time()"
      ],
      "metadata": {
        "id": "I97qAqxGGlak"
      },
      "execution_count": 19,
      "outputs": []
    },
    {
      "cell_type": "code",
      "source": [
        "print(\"det(A): \",d)\n",
        "print(\"time: \",end_time - start_time)"
      ],
      "metadata": {
        "colab": {
          "base_uri": "https://localhost:8080/"
        },
        "id": "s7Ud-gBiTD0n",
        "outputId": "8e9c5d3c-943b-4195-d8d8-a60d406d444c"
      },
      "execution_count": 20,
      "outputs": [
        {
          "output_type": "stream",
          "name": "stdout",
          "text": [
            "det(A):  29129065307\n",
            "time:  88.54207396507263\n"
          ]
        }
      ]
    },
    {
      "cell_type": "code",
      "source": [
        "import time\n",
        "\n",
        "start_time = time.time()\n",
        "d = determinant(A)\n",
        "end_time = time.time()"
      ],
      "metadata": {
        "id": "kjLXFQOeTRd2"
      },
      "execution_count": 21,
      "outputs": []
    },
    {
      "cell_type": "code",
      "source": [
        "print(\"determinant(A): \",d)\n",
        "print(\"time: \",end_time - start_time)"
      ],
      "metadata": {
        "colab": {
          "base_uri": "https://localhost:8080/"
        },
        "id": "_TQFWy4ZSiDZ",
        "outputId": "61106885-53a6-4cdb-ea33-4cb56b91f826"
      },
      "execution_count": 22,
      "outputs": [
        {
          "output_type": "stream",
          "name": "stdout",
          "text": [
            "determinant(A):  29129065307\n",
            "time:  32.647164821624756\n"
          ]
        }
      ]
    },
    {
      "cell_type": "code",
      "source": [
        "import time\n",
        "\n",
        "start_time = time.time()\n",
        "d = np.linalg.det(A)\n",
        "end_time = time.time()"
      ],
      "metadata": {
        "id": "jL23i77VT55-"
      },
      "execution_count": 23,
      "outputs": []
    },
    {
      "cell_type": "code",
      "source": [
        "print(\"np.linalg.det(A): \",d)\n",
        "print(\"time: \",end_time - start_time)"
      ],
      "metadata": {
        "colab": {
          "base_uri": "https://localhost:8080/"
        },
        "id": "n94nx14VT5wn",
        "outputId": "d15fbe34-e882-4dde-c8c2-2abeed09953e"
      },
      "execution_count": 24,
      "outputs": [
        {
          "output_type": "stream",
          "name": "stdout",
          "text": [
            "np.linalg.det(A):  29129065306.99992\n",
            "time:  0.0002765655517578125\n"
          ]
        }
      ]
    },
    {
      "cell_type": "markdown",
      "source": [
        "# Estimating the time by instruction in Python in a Colab machine"
      ],
      "metadata": {
        "id": "Ssedt2z56DNC"
      }
    },
    {
      "cell_type": "code",
      "source": [
        "import numpy as np\n",
        "\n",
        "n = 100\n",
        "\n",
        "A = np.ones((n,n))\n",
        "\n",
        "A"
      ],
      "metadata": {
        "colab": {
          "base_uri": "https://localhost:8080/"
        },
        "id": "1KhlyeNi4uwa",
        "outputId": "676a091d-68c9-4317-b72c-5d10f10682c0"
      },
      "execution_count": 25,
      "outputs": [
        {
          "output_type": "execute_result",
          "data": {
            "text/plain": [
              "array([[1., 1., 1., ..., 1., 1., 1.],\n",
              "       [1., 1., 1., ..., 1., 1., 1.],\n",
              "       [1., 1., 1., ..., 1., 1., 1.],\n",
              "       ...,\n",
              "       [1., 1., 1., ..., 1., 1., 1.],\n",
              "       [1., 1., 1., ..., 1., 1., 1.],\n",
              "       [1., 1., 1., ..., 1., 1., 1.]])"
            ]
          },
          "metadata": {},
          "execution_count": 25
        }
      ]
    },
    {
      "cell_type": "code",
      "source": [
        "B = np.ones((n,n))\n",
        "\n",
        "B"
      ],
      "metadata": {
        "colab": {
          "base_uri": "https://localhost:8080/"
        },
        "id": "RKtHO3UY5M87",
        "outputId": "7933e23e-5c81-493b-c5ae-1ce3c712ebe6"
      },
      "execution_count": 26,
      "outputs": [
        {
          "output_type": "execute_result",
          "data": {
            "text/plain": [
              "array([[1., 1., 1., ..., 1., 1., 1.],\n",
              "       [1., 1., 1., ..., 1., 1., 1.],\n",
              "       [1., 1., 1., ..., 1., 1., 1.],\n",
              "       ...,\n",
              "       [1., 1., 1., ..., 1., 1., 1.],\n",
              "       [1., 1., 1., ..., 1., 1., 1.],\n",
              "       [1., 1., 1., ..., 1., 1., 1.]])"
            ]
          },
          "metadata": {},
          "execution_count": 26
        }
      ]
    },
    {
      "cell_type": "code",
      "source": [
        "import time\n",
        "\n",
        "C= np.zeros((n,n))\n",
        "\n",
        "start_time = time.time()\n",
        "for i in range(n):\n",
        "        for j in range(n):\n",
        "            C[i][j] = 0\n",
        "            for k in range(len(A[0])):\n",
        "                C[i][j] += A[i][k] * B[k][j]\n",
        "end_time = time.time()\n",
        "print(end_time - start_time)"
      ],
      "metadata": {
        "colab": {
          "base_uri": "https://localhost:8080/"
        },
        "id": "0UFSLi-F5P0a",
        "outputId": "b38fec75-b030-455e-d27f-bb118a1e551b"
      },
      "execution_count": 27,
      "outputs": [
        {
          "output_type": "stream",
          "name": "stdout",
          "text": [
            "1.17002272605896\n"
          ]
        }
      ]
    },
    {
      "cell_type": "code",
      "source": [
        "C"
      ],
      "metadata": {
        "colab": {
          "base_uri": "https://localhost:8080/"
        },
        "id": "h9zr4Z9P61bs",
        "outputId": "957e4d4e-b90e-4513-d326-bccb74ba7dcf"
      },
      "execution_count": 28,
      "outputs": [
        {
          "output_type": "execute_result",
          "data": {
            "text/plain": [
              "array([[100., 100., 100., ..., 100., 100., 100.],\n",
              "       [100., 100., 100., ..., 100., 100., 100.],\n",
              "       [100., 100., 100., ..., 100., 100., 100.],\n",
              "       ...,\n",
              "       [100., 100., 100., ..., 100., 100., 100.],\n",
              "       [100., 100., 100., ..., 100., 100., 100.],\n",
              "       [100., 100., 100., ..., 100., 100., 100.]])"
            ]
          },
          "metadata": {},
          "execution_count": 28
        }
      ]
    },
    {
      "cell_type": "code",
      "source": [
        "time_by_oper_python = (end_time - start_time)/(2*n**3 - n**2)\n",
        "\n",
        "time_by_oper_python"
      ],
      "metadata": {
        "colab": {
          "base_uri": "https://localhost:8080/"
        },
        "id": "iEhaMEK77Ko7",
        "outputId": "8697be52-e404-4d7e-a372-3d630bf85135"
      },
      "execution_count": 29,
      "outputs": [
        {
          "output_type": "execute_result",
          "data": {
            "text/plain": [
              "5.87951118622593e-07"
            ]
          },
          "metadata": {},
          "execution_count": 29
        }
      ]
    },
    {
      "cell_type": "code",
      "source": [
        "import time\n",
        "import numpy as np\n",
        "\n",
        "start_time = time.time()\n",
        "C = A@B\n",
        "end_time = time.time()\n",
        "print(end_time - start_time)"
      ],
      "metadata": {
        "colab": {
          "base_uri": "https://localhost:8080/"
        },
        "id": "TfGsw6UF9o-a",
        "outputId": "7b97a820-1a5e-4026-e093-8f51a2e49142"
      },
      "execution_count": 30,
      "outputs": [
        {
          "output_type": "stream",
          "name": "stdout",
          "text": [
            "0.005077362060546875\n"
          ]
        }
      ]
    },
    {
      "cell_type": "code",
      "source": [
        "C"
      ],
      "metadata": {
        "colab": {
          "base_uri": "https://localhost:8080/"
        },
        "id": "Q5MtZtVT93oQ",
        "outputId": "8a43cba5-5637-4359-a948-ec961fe6179a"
      },
      "execution_count": 31,
      "outputs": [
        {
          "output_type": "execute_result",
          "data": {
            "text/plain": [
              "array([[100., 100., 100., ..., 100., 100., 100.],\n",
              "       [100., 100., 100., ..., 100., 100., 100.],\n",
              "       [100., 100., 100., ..., 100., 100., 100.],\n",
              "       ...,\n",
              "       [100., 100., 100., ..., 100., 100., 100.],\n",
              "       [100., 100., 100., ..., 100., 100., 100.],\n",
              "       [100., 100., 100., ..., 100., 100., 100.]])"
            ]
          },
          "metadata": {},
          "execution_count": 31
        }
      ]
    },
    {
      "cell_type": "code",
      "source": [
        "time_by_oper_numpy = (end_time - start_time)/(2*n**3 - n**2)\n",
        "\n",
        "time_by_oper_numpy"
      ],
      "metadata": {
        "colab": {
          "base_uri": "https://localhost:8080/"
        },
        "id": "DTVYQYxT-TsJ",
        "outputId": "5f16cbbf-fa73-41cb-d6d6-feb99c099d6c"
      },
      "execution_count": 32,
      "outputs": [
        {
          "output_type": "execute_result",
          "data": {
            "text/plain": [
              "2.551438221380339e-09"
            ]
          },
          "metadata": {},
          "execution_count": 32
        }
      ]
    },
    {
      "cell_type": "markdown",
      "source": [
        "# Time estimation for the digital computer computation of a 3 x 3 matrix determinant by cofactor expansion\n",
        "\n",
        "The number of operations $(+,-,*)$ perfomed  *det(A)* algorithm that calculates\n",
        "\n",
        "$$\\det(A)  = \\sum_{j=1}^n (-1)^{i+j}a_{ij} \\det(A(i∣j)) $$\n",
        "\n",
        "is given by\n",
        "\n",
        "$$\\begin{array}{lll}\n",
        "T(n) & =&  nT(n-1) + 5n , T(1) = 1\\\\\n",
        "\\end{array}\n",
        "$$\n",
        "\n",
        "$$\\begin{array}{lll}\n",
        "T(n) & =&  nT(n-1) + 5n\\\\\n",
        "     & =&  n[(n-1) T(n-2) + 5 (n-1) +10] + 5n  \\\\\n",
        "     & =&  n(n-1) T(n-2) + 5 n  (n-1) + 5n \\\\\n",
        "     & =&  n(n-1) [(n-2) T(n-3) + 5 (n-2)] + 5 n(n-1) + 5n\\\\\n",
        "     & = & n(n-1)(n-2) T(n-3) + 5n(n-1)(n-2)+  5 n  (n-1) + 5n \\\\\n",
        "     & \\vdots\\\\\n",
        "     & = &  n(n-1)(n-2)\\cdots (n -(n-2))  T(1) + [5n(n-1)(n-2)(n-3)\\cdots (n -(n-3))] + \\cdots + [5 n (n-1)]+ 5n \\\\\n",
        "    & = & n! + [5n(n-1)(n-2)(n-3)\\cdots 2] + [5n(n-1)(n-2)(n-3)\\cdots 3]+ \\cdots +[5 n (n-1) (n-3)] + [5 n (n-1)]+ 5n  \n",
        "\\end{array}\n",
        "$$\n",
        "\n",
        "$$T(n) = n! + 5 \\sum_{i=0}^{n-1} n!/i! = n! + 5 n!\\sum_{i=0}^{n-1} \\frac{1}{i!} < n! + 5 e n! < 16 n!  $$\n",
        "\n",
        "1. Asumming that an arithmetic operation takes the *time_by_oper_python* estimated before,  what is the maximun square matrix size for which the deteminant can be computed with cofactor extesion in $\\le$ 3 minute. Report the time at [LABCramer](https://docs.google.com/spreadsheets/d/1JNUbuj3QHcyPmp8i6kNreUFucj2mOvKHkCFHHy7zfws/edit?usp=sharing).\n",
        "\n",
        "2. Run an experiment with a random matrix of that size and report the time at [LABCramer](https://docs.google.com/spreadsheets/d/1JNUbuj3QHcyPmp8i6kNreUFucj2mOvKHkCFHHy7zfws/edit?usp=sharing).\n",
        "\n",
        "If the determinant of a $n \\times n$ square matrix takes $16 n!$ operations how much takes the Crammer solution of $n \\times n$ systems of linear equations?\n",
        "\n",
        "\n",
        "\n",
        "\n"
      ],
      "metadata": {
        "id": "PhAai3wzo_Tc"
      }
    },
    {
      "cell_type": "markdown",
      "source": [
        "#1. maximun square matrix size"
      ],
      "metadata": {
        "id": "iavN9Bdj8RJ4"
      }
    },
    {
      "cell_type": "code",
      "source": [
        "#Punto 1\n",
        "import math\n",
        "\n",
        "\n",
        "time_by_oper_python = 5.8 * 10**(-7)\n",
        "\n",
        "\n",
        "def compute_time(n):\n",
        "    factorial_n = math.factorial(n)\n",
        "    e_approx = math.e\n",
        "    return factorial_n + 5 * e_approx * factorial_n\n",
        "\n",
        "\n",
        "time_limit_seconds = 3 * 60\n",
        "\n",
        "\n",
        "max_size = 1\n",
        "while True:\n",
        "    time_required = compute_time(max_size) * time_by_oper_python\n",
        "    if time_required > time_limit_seconds:\n",
        "        break\n",
        "    max_size += 1\n",
        "\n",
        "print(\"Tamaño máximo de matriz:\", max_size - 1)\n",
        "print(\"Tiempo requerido para este tamaño de matriz:\", compute_time(max_size - 1) * time_by_oper_python, \"segundos\")\n"
      ],
      "metadata": {
        "colab": {
          "base_uri": "https://localhost:8080/"
        },
        "id": "1GIYixURGxFx",
        "outputId": "54d85463-a147-49bc-ad7b-7f93806d3086"
      },
      "execution_count": 33,
      "outputs": [
        {
          "output_type": "stream",
          "name": "stdout",
          "text": [
            "Tamaño máximo de matriz: 10\n",
            "Tiempo requerido para este tamaño de matriz: 30.71059718742533 segundos\n"
          ]
        }
      ]
    },
    {
      "cell_type": "markdown",
      "source": [
        "#2. Experiment time"
      ],
      "metadata": {
        "id": "DdWIcAXT8Lf6"
      }
    },
    {
      "cell_type": "code",
      "source": [
        "n = 10\n",
        "\n",
        "C = np.random.randint(-5,5,size=(n,n))\n",
        "\n",
        "print ('C:', C)\n",
        "\n",
        "start_time = time.time()\n",
        "d = det(C)\n",
        "end_time = time.time()\n",
        "print(\"determinant(C): \", d)\n",
        "print(\"time: \",end_time - start_time)"
      ],
      "metadata": {
        "id": "53bAH6ua7FS2",
        "outputId": "1e830f63-4948-4409-a0fe-bea54c16bc0d",
        "colab": {
          "base_uri": "https://localhost:8080/"
        }
      },
      "execution_count": 35,
      "outputs": [
        {
          "output_type": "stream",
          "name": "stdout",
          "text": [
            "C: [[ 4  1 -5 -5 -3  4  1 -5  1  2]\n",
            " [-5 -2  4 -5 -2 -1  2  0 -2  3]\n",
            " [ 3 -5  1  2  4  0 -1  4  0 -3]\n",
            " [ 0  1  1  3  2  2  2 -3  1 -5]\n",
            " [ 0 -3 -4  3  0  4 -1  4 -4 -3]\n",
            " [-5 -1  2 -5  1 -3 -1 -2  1  2]\n",
            " [ 1 -2 -5  1 -1  2  1 -3  4  0]\n",
            " [ 4  4  4  3  1 -1 -3  4 -1 -5]\n",
            " [-5 -2 -1  4 -2  4 -4 -3  0 -1]\n",
            " [-5  3 -3 -2  4  4 -1 -1  3 -3]]\n",
            "determinant(C):  -117699106\n",
            "time:  74.06277656555176\n"
          ]
        }
      ]
    },
    {
      "cell_type": "markdown",
      "source": [
        "# Time estimation for the human computer computation of a 3 x 3 matrix determinant by cofactor expansion\n",
        "\n",
        " Write a 3 x 3 matrix with the first element as your list number Mod 10 and the rest row by row 1,2,3,...9 skipimg the first element, by example if youir list number is 12, your list number Mod 10 is 2 and the matrix is\n",
        "$$A = \\left[\n",
        "  \\begin{array}{ccc}\n",
        "2 & 1 & 3\\\\\n",
        "4 & 5 & 6\\\\\n",
        "7 & 8 & 9\\\\\n",
        "\\end{array}\n",
        "\\right]\n",
        "$$\n",
        "Use a chronometer like http://online-stopwatch.chronme.com/ to estimate the time to compute the determinant by using the procedure in the follo wing exmaple (https://people.math.carleton.ca/~kcheung/math/notes/MATH1107/07/07_cofactor_expansion.html):<br />  \n",
        "Let\n",
        "$$A = \\begin{bmatrix} 1 & 2 & 3\\\\ 4 & 5 & 6\\\\ 7 & 8 & 9 \\end{bmatrix}$$\n",
        "we compute $\\det(A)$ by expanding along row $2$ as <br /> <br />\n",
        "$$\\begin{eqnarray} \\det(A) & = & (-1)^{2+1}A_{2,1}\\det(A(2 \\mid 1)) + (-1)^{2+2}A_{2,2}\\det(A(2 \\mid 2)) + (-1)^{2+3}A_{2,3}\\det(A(2 \\mid 3)) \\\\ & = & -4\\left|\\begin{matrix} 2 & 3 \\\\ 8 & 9\\end{matrix}\\right| + 5\\left|\\begin{matrix} 1 & 3 \\\\ 7 & 9\\end{matrix}\\right| - 6\\left|\\begin{matrix} 1 & 2 \\\\ 7 & 8\\end{matrix}\\right| \\\\ & = & -4(2\\cdot 9 - 3\\cdot 8) + 5(1 \\cdot 9- 3\\cdot 7) - 6(1\\cdot 8 - 2 \\cdot 7) \\\\ & = & 24 - 60 + 36 \\\\ & = & 0 \\end{eqnarray}$$\n",
        "3. Report the time at [LABCramer](https://docs.google.com/spreadsheets/d/1JNUbuj3QHcyPmp8i6kNreUFucj2mOvKHkCFHHy7zfws/edit?usp=sharing)\n",
        "4. Report the value of the determinant at [LABCramer](https://docs.google.com/spreadsheets/d/1JNUbuj3QHcyPmp8i6kNreUFucj2mOvKHkCFHHy7zfws/edit?usp=sharing)\n"
      ],
      "metadata": {
        "id": "__brdhGadAXY"
      }
    },
    {
      "cell_type": "markdown",
      "source": [
        "#3. Human computer time\n",
        "## My list number is 1 Mod 10 is 1\n",
        "$$A = \\left[\n",
        "  \\begin{array}{ccc}\n",
        "1 & 2 & 3\\\\\n",
        "4 & 5 & 6\\\\\n",
        "7 & 8 & 9\\\\\n",
        "\\end{array}\n",
        "\\right]\n",
        "$$"
      ],
      "metadata": {
        "id": "jghmt0zj8I_9"
      }
    },
    {
      "cell_type": "code",
      "source": [
        "aList = [[1,2,3],[4,5,6],[7,8,9]]\n",
        "A = np.array(aList)\n",
        "det(A)"
      ],
      "metadata": {
        "id": "fQ04rDRT6bx8",
        "outputId": "a58dbf18-4a1a-46b4-95e2-dcb936b9b75c",
        "colab": {
          "base_uri": "https://localhost:8080/"
        }
      },
      "execution_count": 48,
      "outputs": [
        {
          "output_type": "execute_result",
          "data": {
            "text/plain": [
              "0"
            ]
          },
          "metadata": {},
          "execution_count": 48
        }
      ]
    },
    {
      "cell_type": "markdown",
      "source": [
        "![image.png](data:image/png;base64,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)"
      ],
      "metadata": {
        "id": "SWbA5cCv95z5"
      }
    },
    {
      "cell_type": "markdown",
      "source": [
        "#4. Determinant"
      ],
      "metadata": {
        "id": "u4tQpSyI98l8"
      }
    },
    {
      "cell_type": "markdown",
      "source": [
        "$$A = \\left[\n",
        "  \\begin{array}{ccc}\n",
        "1 & 2 & 3\\\\\n",
        "4 & 5 & 6\\\\\n",
        "7 & 8 & 9\\\\\n",
        "\\end{array}\n",
        "\\right]\n",
        "$$\n",
        "\\\n",
        "$$\n",
        "det(A)=(-1)^{2+1}A_{2,1}det(A(2|1))+(-1)^{2+2}A_{2,2}det(A(2|2))+(-1)^{2+3}A_{2,3}det(A(2|3))\n",
        "$$\n",
        "\\\n",
        "$$= -4\\left[\n",
        "  \\begin{array}{cc}\n",
        "2 & 3\\\\\n",
        "8 & 9\\\\\n",
        "\\end{array}\n",
        "\\right]+5 \\left[\n",
        "  \\begin{array}{cc}\n",
        "1 & 3\\\\\n",
        "7 & 9\\\\\n",
        "\\end{array}\n",
        "\\right]-6 \\left[\n",
        "  \\begin{array}{cc}\n",
        "1 & 2\\\\\n",
        "7 & 8\\\\\n",
        "\\end{array}\n",
        "\\right]\n",
        "$$\n",
        "\\\n",
        "$$= -4(2*9-3*8)+5(1*9-3*7)-6(1*8-2*7)$$\n",
        "\\\n",
        "$$=24-60+36$$\n",
        "\\\n",
        "$$=0$$"
      ],
      "metadata": {
        "id": "Yek0yc-u_AG5"
      }
    },
    {
      "cell_type": "markdown",
      "source": [
        "Valor del determinante = 0"
      ],
      "metadata": {
        "id": "BTmoGQkB-AvW"
      }
    }
  ]
}