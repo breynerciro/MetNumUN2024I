{
  "nbformat": 4,
  "nbformat_minor": 0,
  "metadata": {
    "colab": {
      "provenance": [],
      "include_colab_link": true
    },
    "kernelspec": {
      "name": "python3",
      "display_name": "Python 3"
    },
    "language_info": {
      "name": "python"
    }
  },
  "cells": [
    {
      "cell_type": "markdown",
      "metadata": {
        "id": "view-in-github",
        "colab_type": "text"
      },
      "source": [
        "<a href=\"https://colab.research.google.com/github/breynerciro/MetNumUN2024I/blob/main/Lab%209.2/bciro_LABCramer.ipynb\" target=\"_parent\"><img src=\"https://colab.research.google.com/assets/colab-badge.svg\" alt=\"Open In Colab\"/></a>"
      ]
    },
    {
      "cell_type": "markdown",
      "source": [
        "### Cramer by hand\n",
        "\n",
        "$$A = \\left[\n",
        "  \\begin{array}{cc}\n",
        "1 & 2\\\\\n",
        "3 & 4\n",
        "\\end{array}\n",
        "\\right],  \n",
        "b= \\left[\n",
        "\\begin{array}{c}\n",
        "5\\\\\n",
        "6\n",
        "\\end{array}\n",
        "\\right]\n",
        "$$\n",
        "$$\n",
        "Ax =B\n",
        "$$\n",
        "$$  \n",
        "\\left[\n",
        "  \\begin{array}{cc}\n",
        "1 & 2\\\\\n",
        "3 & 4\n",
        "\\end{array}\n",
        "\\right]\n",
        "\\left[\n",
        "\\begin{array}{c}\n",
        "x_1\\\\\n",
        "x_2\n",
        "\\end{array}\n",
        "\\right]  \n",
        "=\n",
        "\\left[\n",
        "\\begin{array}{c}\n",
        "5\\\\\n",
        "6\n",
        "\\end{array}\n",
        "\\right]\n",
        "$$\n",
        "\n",
        "$$Det\\ A =  (1 * 4) - (3 * 2)  = 4 - 6 = -2$$\n",
        "\n",
        "$$A_1 = \\left[\n",
        "  \\begin{array}{cc}\n",
        "5 & 2\\\\\n",
        "6 & 4\n",
        "\\end{array}\n",
        "\\right]\n",
        "$$\n",
        "\n",
        "$$Det\\ A_1 = (5 * 4) - (6 * 2) = 20 - 12 =  8$$\n",
        "\n",
        "$$x_1 =  \\frac{Det\\ A_1}{Det\\ A}= \\frac{8}{-2} =  -4$$\n",
        "\n",
        "$$A_2 = \\left[\n",
        "  \\begin{array}{cc}\n",
        "1 & 5\\\\\n",
        "3 & 6\n",
        "\\end{array}\n",
        "\\right]\n",
        "$$\n",
        "\n",
        "$$Det\\ A_2 = (1*6) - (3*5)  = 6 -15 = -9$$\n",
        "\n",
        "$$x_2 = \\frac{Det\\ A_2}{Det\\ A}= \\frac{-9}{-2} =  \\frac{9}{2}$$"
      ],
      "metadata": {
        "id": "SUmNm2PmfHU7"
      }
    },
    {
      "cell_type": "markdown",
      "source": [
        "- ***Adding a single digit to any number requires about 7.30 bits of processing.*** - World Mental Calculation: News and Resources for Competitive and Advanced Mental Calculation https://worldmentalcalculation.com/2019/06/30/fastest-possible-processing-speed-of-the-human-brain/\n",
        "\n",
        "- ***The human brain can process 11 million bits of information every second. But our conscious minds can handle only 40 to 50 bits of information a second.*** - Understanding Unconscious Bias https://www.npr.org/2020/07/14/891140598/understanding-unconscious-bias\n",
        "\n",
        "- ***A new way to analyze human reaction times shows that the brain processes data no faster than 60 bits per second.***- New Measure of Human Brain Processing Speed https://www.technologyreview.com/2009/08/25/210267/new-measure-of-human-brain-processing-speed/\n",
        "\n",
        "\n"
      ],
      "metadata": {
        "id": "3rH8z64pk2XV"
      }
    },
    {
      "cell_type": "markdown",
      "source": [
        "# Number of operations to compute a determinant by cofactor expasion\n",
        "- Cofactor expansion https://people.math.carleton.ca/~kcheung/math/notes/MATH1107/07/07_cofactor_expansion.html\n",
        "## Definition of A(i∣j)\n",
        "Let $A$ be an $n\\times n$ matrix. Let $i,j \\in \\{1,…,n\\}$. We define $A(i∣j)$  to be the matrix obtained from $A$ by removing row $i$ and column $j$ from $A$.\n",
        "\n",
        "## Cofactor formula\n",
        "One way of computing the determinant of an $n\\times n$  matrix\n",
        "\n",
        "$$A = \\left[\n",
        "  \\begin{array}{cccc}\n",
        "a_{11} & a_{12} & \\cdots & a_{1n}\\\\\n",
        "a_{21} & a_{22} & \\cdots & a_{2n}\\\\\n",
        "\\vdots  & \\vdots & \\ddots & \\vdots\\\\\n",
        "a_{n1} & a_{n2} & \\cdots & a_{nn}\\\\\n",
        "\\end{array}\n",
        "\\right]\n",
        "$$\n",
        "is to use the following formula called the cofactor formula.\n",
        "\n",
        "Pick either any $i\\ \\in \\{1,…,n\\}$ (fixed row) or $i\\ \\in \\{1,…,n\\}$ (fixed column). Then\n",
        "\n",
        "$$\\det(A)  = \\sum_{j=1}^n (-1)^{i+j}a_{ij} \\det(A(i∣j)) $$\n",
        "\n",
        "\n",
        "$C_{i,j}= (-1)^{i+j}a_{ij} \\det(A(i∣j))$ is called a cofactor of $A$.\n",
        "\n",
        "$$\\det(A)  = \\sum_{j=1}^n C_{i,j} $$\n",
        "\n"
      ],
      "metadata": {
        "id": "CgrSIpDOnaGQ"
      }
    },
    {
      "cell_type": "code",
      "source": [
        "# Code from https://stackoverflow.com/questions/16510111/computing-determinant-of-a-matrix-nxn-recursively\n",
        "\n",
        "import numpy as np\n",
        "\n",
        "def smaller_matrix(original_matrix,row, column):\n",
        "    for ii in range(len(original_matrix)):\n",
        "        new_matrix=np.delete(original_matrix,ii,0)\n",
        "        new_matrix=np.delete(new_matrix,column,1)\n",
        "        return new_matrix\n",
        "\n",
        "\n",
        "def determinant(matrix):\n",
        "    \"\"\"Returns a determinant of a matrix by recursive method.\"\"\"\n",
        "    (r,c) = matrix.shape\n",
        "    if r != c:\n",
        "        print(\"Error!Not a square matrix!\")\n",
        "        return None\n",
        "    elif r==2:\n",
        "        simple_determinant = matrix[0][0]*matrix[1][1]-matrix[0][1]*matrix[1][0]\n",
        "        return simple_determinant\n",
        "    else:\n",
        "        answer=0\n",
        "        for j in range(r):\n",
        "            cofactor = (-1)**(0+j) * matrix[0][j] * determinant(smaller_matrix(matrix, 0, j))\n",
        "            answer+= cofactor\n",
        "        return answer"
      ],
      "metadata": {
        "id": "J-joKRBhC7eF"
      },
      "execution_count": null,
      "outputs": []
    },
    {
      "cell_type": "code",
      "source": [
        "#test the function\n",
        "#Only works for numpy.array input\n",
        "np.random.seed(1)"
      ],
      "metadata": {
        "id": "Il2pcRD4DptG"
      },
      "execution_count": null,
      "outputs": []
    },
    {
      "cell_type": "code",
      "source": [
        "n = 2\n",
        "matrix=np.random.randint(-5,5,size=(n,n))\n",
        "matrix"
      ],
      "metadata": {
        "colab": {
          "base_uri": "https://localhost:8080/"
        },
        "id": "AgKC1-aiFRW2",
        "outputId": "d0cb3ba5-89f0-4327-c365-c8b64727bb86"
      },
      "execution_count": null,
      "outputs": [
        {
          "output_type": "execute_result",
          "data": {
            "text/plain": [
              "array([[0, 3],\n",
              "       [4, 0]])"
            ]
          },
          "metadata": {},
          "execution_count": 3
        }
      ]
    },
    {
      "cell_type": "code",
      "source": [
        "determinant(matrix)"
      ],
      "metadata": {
        "colab": {
          "base_uri": "https://localhost:8080/"
        },
        "outputId": "a26a33c3-c1eb-488e-fb29-83d0ecff3e74",
        "id": "oI0rUp-SDptH"
      },
      "execution_count": null,
      "outputs": [
        {
          "output_type": "execute_result",
          "data": {
            "text/plain": [
              "-12"
            ]
          },
          "metadata": {},
          "execution_count": 4
        }
      ]
    },
    {
      "cell_type": "code",
      "source": [
        "np.linalg.det(matrix)"
      ],
      "metadata": {
        "colab": {
          "base_uri": "https://localhost:8080/"
        },
        "id": "iqZv7iK-KKXH",
        "outputId": "77d23495-7f67-41fd-8b02-61fe43dcc990"
      },
      "execution_count": null,
      "outputs": [
        {
          "output_type": "execute_result",
          "data": {
            "text/plain": [
              "-12.0"
            ]
          },
          "metadata": {},
          "execution_count": 5
        }
      ]
    },
    {
      "cell_type": "code",
      "source": [
        "round(np.linalg.det(matrix))"
      ],
      "metadata": {
        "colab": {
          "base_uri": "https://localhost:8080/"
        },
        "id": "sY21rHM-KdlO",
        "outputId": "31fae78a-5225-40b2-e789-6849744ff18f"
      },
      "execution_count": null,
      "outputs": [
        {
          "output_type": "execute_result",
          "data": {
            "text/plain": [
              "-12"
            ]
          },
          "metadata": {},
          "execution_count": 6
        }
      ]
    },
    {
      "cell_type": "code",
      "source": [
        "n = 5\n",
        "matrix=np.diag(np.random.randint(-10,10,size=(n)))\n",
        "matrix"
      ],
      "metadata": {
        "colab": {
          "base_uri": "https://localhost:8080/"
        },
        "id": "-QXGZWFIDs5k",
        "outputId": "a8419574-98ac-456f-8910-5fdf8a24dab1"
      },
      "execution_count": null,
      "outputs": [
        {
          "output_type": "execute_result",
          "data": {
            "text/plain": [
              "array([[  5,   0,   0,   0,   0],\n",
              "       [  0, -10,   0,   0,   0],\n",
              "       [  0,   0,   6,   0,   0],\n",
              "       [  0,   0,   0,  -9,   0],\n",
              "       [  0,   0,   0,   0,   2]])"
            ]
          },
          "metadata": {},
          "execution_count": 7
        }
      ]
    },
    {
      "cell_type": "code",
      "source": [
        "determinant(matrix)"
      ],
      "metadata": {
        "colab": {
          "base_uri": "https://localhost:8080/"
        },
        "id": "VP6hRwhwD-3W",
        "outputId": "b996b0ed-5348-4bdc-eabb-77e233c26036"
      },
      "execution_count": null,
      "outputs": [
        {
          "output_type": "execute_result",
          "data": {
            "text/plain": [
              "5400"
            ]
          },
          "metadata": {},
          "execution_count": 8
        }
      ]
    },
    {
      "cell_type": "code",
      "source": [
        "np.linalg.det(matrix)"
      ],
      "metadata": {
        "colab": {
          "base_uri": "https://localhost:8080/"
        },
        "id": "8NV7Zvp-KtRz",
        "outputId": "9899fd24-667e-4bb2-9064-627a1ec2cec2"
      },
      "execution_count": null,
      "outputs": [
        {
          "output_type": "execute_result",
          "data": {
            "text/plain": [
              "5400.000000000003"
            ]
          },
          "metadata": {},
          "execution_count": 9
        }
      ]
    },
    {
      "cell_type": "code",
      "source": [
        "round(np.linalg.det(matrix))"
      ],
      "metadata": {
        "colab": {
          "base_uri": "https://localhost:8080/"
        },
        "id": "HXKK3weLKt5T",
        "outputId": "10120081-ed52-4af9-f19d-41840d8dda0f"
      },
      "execution_count": null,
      "outputs": [
        {
          "output_type": "execute_result",
          "data": {
            "text/plain": [
              "5400"
            ]
          },
          "metadata": {},
          "execution_count": 10
        }
      ]
    },
    {
      "cell_type": "code",
      "source": [
        "# Modified from the previous code\n",
        "import numpy as np\n",
        "\n",
        "# A a squared numpy matrix\n",
        "def det(A):\n",
        "    \"\"\"Returns a determinant of a matrix by recursive method.\"\"\"\n",
        "    (r,c) = A.shape\n",
        "    if r != c:\n",
        "        print(\"Error!Not a square matrix!\")\n",
        "        return None\n",
        "    elif r==1:\n",
        "          # the code with  r==2 is more efficient but we use this\n",
        "         # because the number of operations is easier to compute\n",
        "        return A[0][0]\n",
        "    else:\n",
        "        answer=0\n",
        "        for j in range(r):\n",
        "            s = 1 if (0+j)%2 == 0 else -1\n",
        "            Aij = np.delete(A,0,0)\n",
        "            Aij = np.delete(Aij,j,1)\n",
        "            cofactor = (s) * A[0][j] * det(Aij)\n",
        "            answer+= cofactor\n",
        "        return answer"
      ],
      "metadata": {
        "id": "B258g8lnBgnG"
      },
      "execution_count": null,
      "outputs": []
    },
    {
      "cell_type": "code",
      "source": [
        "#test the function\n",
        "#Only works for numpy.array input\n",
        "np.random.seed(1)"
      ],
      "metadata": {
        "id": "ZR2mjlqiGdM6"
      },
      "execution_count": null,
      "outputs": []
    },
    {
      "cell_type": "code",
      "source": [
        "n = 2\n",
        "A=np.random.randint(-5,5,size=(n,n))\n",
        "A"
      ],
      "metadata": {
        "colab": {
          "base_uri": "https://localhost:8080/"
        },
        "outputId": "85541e50-a7a1-4533-fd89-d33eb726d551",
        "id": "jPpBCFaoGlak"
      },
      "execution_count": null,
      "outputs": [
        {
          "output_type": "execute_result",
          "data": {
            "text/plain": [
              "array([[0, 3],\n",
              "       [4, 0]])"
            ]
          },
          "metadata": {},
          "execution_count": 13
        }
      ]
    },
    {
      "cell_type": "code",
      "source": [
        "det(A)"
      ],
      "metadata": {
        "colab": {
          "base_uri": "https://localhost:8080/"
        },
        "outputId": "d0cfb313-692c-449d-9415-a2d026f833d5",
        "id": "WKbuirZeGlak"
      },
      "execution_count": null,
      "outputs": [
        {
          "output_type": "execute_result",
          "data": {
            "text/plain": [
              "-12"
            ]
          },
          "metadata": {},
          "execution_count": 14
        }
      ]
    },
    {
      "cell_type": "code",
      "source": [
        "determinant(A)"
      ],
      "metadata": {
        "colab": {
          "base_uri": "https://localhost:8080/"
        },
        "id": "_B5xBFirTvQm",
        "outputId": "8346b672-a154-415c-8563-782c05d6254c"
      },
      "execution_count": null,
      "outputs": [
        {
          "output_type": "execute_result",
          "data": {
            "text/plain": [
              "-12"
            ]
          },
          "metadata": {},
          "execution_count": 15
        }
      ]
    },
    {
      "cell_type": "code",
      "source": [
        "np.linalg.det(A)"
      ],
      "metadata": {
        "colab": {
          "base_uri": "https://localhost:8080/"
        },
        "outputId": "7522cc95-1a91-47de-f725-1c212b2feb61",
        "id": "bRyF2dsFLbXC"
      },
      "execution_count": null,
      "outputs": [
        {
          "output_type": "execute_result",
          "data": {
            "text/plain": [
              "-12.0"
            ]
          },
          "metadata": {},
          "execution_count": 16
        }
      ]
    },
    {
      "cell_type": "code",
      "source": [
        "round(np.linalg.det(A))"
      ],
      "metadata": {
        "colab": {
          "base_uri": "https://localhost:8080/"
        },
        "outputId": "9d4d8638-ab00-49d3-b6c9-fc39f9a106ff",
        "id": "sOe1w9FPLbXD"
      },
      "execution_count": null,
      "outputs": [
        {
          "output_type": "execute_result",
          "data": {
            "text/plain": [
              "-12"
            ]
          },
          "metadata": {},
          "execution_count": 17
        }
      ]
    },
    {
      "cell_type": "code",
      "source": [
        "n = 10\n",
        "\n",
        "A=np.random.randint(-10,10,size=(n,n))\n",
        "\n",
        "A"
      ],
      "metadata": {
        "colab": {
          "base_uri": "https://localhost:8080/"
        },
        "outputId": "0abbfc78-f612-4ea4-8211-2b50efee076a",
        "id": "jzFX1soHGlak"
      },
      "execution_count": null,
      "outputs": [
        {
          "output_type": "execute_result",
          "data": {
            "text/plain": [
              "array([[  5, -10,   6,  -9,   2,  -3,   3,  -4,   8,  -5],\n",
              "       [  8,   1,   0,   4,   8,  -6,  -1,   7, -10,   3],\n",
              "       [ -1,  -1,  -3,  -9, -10,   7,  -2,   3,   9,   5],\n",
              "       [  0,  -2,  -3,  -7,  -4,   7,  -7,  -6,   7,   1],\n",
              "       [  2,   6,   3,   9,  -1,   8,   5, -10,  -6,   5],\n",
              "       [ -8,  -3,  -2,  -1,  -7,  -3,  -6,  -5,   9,  -4],\n",
              "       [ -2, -10,  -8,   0,   5,   5,  -3,   9,   0,   4],\n",
              "       [-10,  -9,   7,   3,  -7, -10,   3,  -4,  -4,  -8],\n",
              "       [  2,   1,  -3,   3,  -2,   1,   2,   1,  -6,  -3],\n",
              "       [ -3,   3,  -6,   6,   8, -10,   3,   0,   7,  -3]])"
            ]
          },
          "metadata": {},
          "execution_count": 18
        }
      ]
    },
    {
      "cell_type": "code",
      "source": [
        "import time\n",
        "\n",
        "start_time = time.time()\n",
        "d = det(A)\n",
        "end_time = time.time()"
      ],
      "metadata": {
        "id": "I97qAqxGGlak"
      },
      "execution_count": null,
      "outputs": []
    },
    {
      "cell_type": "code",
      "source": [
        "print(\"det(A): \",d)\n",
        "print(\"time: \",end_time - start_time)"
      ],
      "metadata": {
        "colab": {
          "base_uri": "https://localhost:8080/"
        },
        "id": "s7Ud-gBiTD0n",
        "outputId": "8e9c5d3c-943b-4195-d8d8-a60d406d444c"
      },
      "execution_count": null,
      "outputs": [
        {
          "output_type": "stream",
          "name": "stdout",
          "text": [
            "det(A):  29129065307\n",
            "time:  88.54207396507263\n"
          ]
        }
      ]
    },
    {
      "cell_type": "code",
      "source": [
        "import time\n",
        "\n",
        "start_time = time.time()\n",
        "d = determinant(A)\n",
        "end_time = time.time()"
      ],
      "metadata": {
        "id": "kjLXFQOeTRd2"
      },
      "execution_count": null,
      "outputs": []
    },
    {
      "cell_type": "code",
      "source": [
        "print(\"determinant(A): \",d)\n",
        "print(\"time: \",end_time - start_time)"
      ],
      "metadata": {
        "colab": {
          "base_uri": "https://localhost:8080/"
        },
        "id": "_TQFWy4ZSiDZ",
        "outputId": "61106885-53a6-4cdb-ea33-4cb56b91f826"
      },
      "execution_count": null,
      "outputs": [
        {
          "output_type": "stream",
          "name": "stdout",
          "text": [
            "determinant(A):  29129065307\n",
            "time:  32.647164821624756\n"
          ]
        }
      ]
    },
    {
      "cell_type": "code",
      "source": [
        "import time\n",
        "\n",
        "start_time = time.time()\n",
        "d = np.linalg.det(A)\n",
        "end_time = time.time()"
      ],
      "metadata": {
        "id": "jL23i77VT55-"
      },
      "execution_count": null,
      "outputs": []
    },
    {
      "cell_type": "code",
      "source": [
        "print(\"np.linalg.det(A): \",d)\n",
        "print(\"time: \",end_time - start_time)"
      ],
      "metadata": {
        "colab": {
          "base_uri": "https://localhost:8080/"
        },
        "id": "n94nx14VT5wn",
        "outputId": "d15fbe34-e882-4dde-c8c2-2abeed09953e"
      },
      "execution_count": null,
      "outputs": [
        {
          "output_type": "stream",
          "name": "stdout",
          "text": [
            "np.linalg.det(A):  29129065306.99992\n",
            "time:  0.0002765655517578125\n"
          ]
        }
      ]
    },
    {
      "cell_type": "markdown",
      "source": [
        "# Estimating the time by instruction in Python in a Colab machine"
      ],
      "metadata": {
        "id": "Ssedt2z56DNC"
      }
    },
    {
      "cell_type": "code",
      "source": [
        "import numpy as np\n",
        "\n",
        "n = 100\n",
        "\n",
        "A = np.ones((n,n))\n",
        "\n",
        "A"
      ],
      "metadata": {
        "colab": {
          "base_uri": "https://localhost:8080/"
        },
        "id": "1KhlyeNi4uwa",
        "outputId": "676a091d-68c9-4317-b72c-5d10f10682c0"
      },
      "execution_count": null,
      "outputs": [
        {
          "output_type": "execute_result",
          "data": {
            "text/plain": [
              "array([[1., 1., 1., ..., 1., 1., 1.],\n",
              "       [1., 1., 1., ..., 1., 1., 1.],\n",
              "       [1., 1., 1., ..., 1., 1., 1.],\n",
              "       ...,\n",
              "       [1., 1., 1., ..., 1., 1., 1.],\n",
              "       [1., 1., 1., ..., 1., 1., 1.],\n",
              "       [1., 1., 1., ..., 1., 1., 1.]])"
            ]
          },
          "metadata": {},
          "execution_count": 25
        }
      ]
    },
    {
      "cell_type": "code",
      "source": [
        "B = np.ones((n,n))\n",
        "\n",
        "B"
      ],
      "metadata": {
        "colab": {
          "base_uri": "https://localhost:8080/"
        },
        "id": "RKtHO3UY5M87",
        "outputId": "7933e23e-5c81-493b-c5ae-1ce3c712ebe6"
      },
      "execution_count": null,
      "outputs": [
        {
          "output_type": "execute_result",
          "data": {
            "text/plain": [
              "array([[1., 1., 1., ..., 1., 1., 1.],\n",
              "       [1., 1., 1., ..., 1., 1., 1.],\n",
              "       [1., 1., 1., ..., 1., 1., 1.],\n",
              "       ...,\n",
              "       [1., 1., 1., ..., 1., 1., 1.],\n",
              "       [1., 1., 1., ..., 1., 1., 1.],\n",
              "       [1., 1., 1., ..., 1., 1., 1.]])"
            ]
          },
          "metadata": {},
          "execution_count": 26
        }
      ]
    },
    {
      "cell_type": "code",
      "source": [
        "import time\n",
        "\n",
        "C= np.zeros((n,n))\n",
        "\n",
        "start_time = time.time()\n",
        "for i in range(n):\n",
        "        for j in range(n):\n",
        "            C[i][j] = 0\n",
        "            for k in range(len(A[0])):\n",
        "                C[i][j] += A[i][k] * B[k][j]\n",
        "end_time = time.time()\n",
        "print(end_time - start_time)"
      ],
      "metadata": {
        "colab": {
          "base_uri": "https://localhost:8080/"
        },
        "id": "0UFSLi-F5P0a",
        "outputId": "b38fec75-b030-455e-d27f-bb118a1e551b"
      },
      "execution_count": null,
      "outputs": [
        {
          "output_type": "stream",
          "name": "stdout",
          "text": [
            "1.17002272605896\n"
          ]
        }
      ]
    },
    {
      "cell_type": "code",
      "source": [
        "C"
      ],
      "metadata": {
        "colab": {
          "base_uri": "https://localhost:8080/"
        },
        "id": "h9zr4Z9P61bs",
        "outputId": "957e4d4e-b90e-4513-d326-bccb74ba7dcf"
      },
      "execution_count": null,
      "outputs": [
        {
          "output_type": "execute_result",
          "data": {
            "text/plain": [
              "array([[100., 100., 100., ..., 100., 100., 100.],\n",
              "       [100., 100., 100., ..., 100., 100., 100.],\n",
              "       [100., 100., 100., ..., 100., 100., 100.],\n",
              "       ...,\n",
              "       [100., 100., 100., ..., 100., 100., 100.],\n",
              "       [100., 100., 100., ..., 100., 100., 100.],\n",
              "       [100., 100., 100., ..., 100., 100., 100.]])"
            ]
          },
          "metadata": {},
          "execution_count": 28
        }
      ]
    },
    {
      "cell_type": "code",
      "source": [
        "time_by_oper_python = (end_time - start_time)/(2*n**3 - n**2)\n",
        "\n",
        "time_by_oper_python"
      ],
      "metadata": {
        "colab": {
          "base_uri": "https://localhost:8080/"
        },
        "id": "iEhaMEK77Ko7",
        "outputId": "8697be52-e404-4d7e-a372-3d630bf85135"
      },
      "execution_count": null,
      "outputs": [
        {
          "output_type": "execute_result",
          "data": {
            "text/plain": [
              "5.87951118622593e-07"
            ]
          },
          "metadata": {},
          "execution_count": 29
        }
      ]
    },
    {
      "cell_type": "code",
      "source": [
        "import time\n",
        "import numpy as np\n",
        "\n",
        "start_time = time.time()\n",
        "C = A@B\n",
        "end_time = time.time()\n",
        "print(end_time - start_time)"
      ],
      "metadata": {
        "colab": {
          "base_uri": "https://localhost:8080/"
        },
        "id": "TfGsw6UF9o-a",
        "outputId": "7b97a820-1a5e-4026-e093-8f51a2e49142"
      },
      "execution_count": null,
      "outputs": [
        {
          "output_type": "stream",
          "name": "stdout",
          "text": [
            "0.005077362060546875\n"
          ]
        }
      ]
    },
    {
      "cell_type": "code",
      "source": [
        "C"
      ],
      "metadata": {
        "colab": {
          "base_uri": "https://localhost:8080/"
        },
        "id": "Q5MtZtVT93oQ",
        "outputId": "8a43cba5-5637-4359-a948-ec961fe6179a"
      },
      "execution_count": null,
      "outputs": [
        {
          "output_type": "execute_result",
          "data": {
            "text/plain": [
              "array([[100., 100., 100., ..., 100., 100., 100.],\n",
              "       [100., 100., 100., ..., 100., 100., 100.],\n",
              "       [100., 100., 100., ..., 100., 100., 100.],\n",
              "       ...,\n",
              "       [100., 100., 100., ..., 100., 100., 100.],\n",
              "       [100., 100., 100., ..., 100., 100., 100.],\n",
              "       [100., 100., 100., ..., 100., 100., 100.]])"
            ]
          },
          "metadata": {},
          "execution_count": 31
        }
      ]
    },
    {
      "cell_type": "code",
      "source": [
        "time_by_oper_numpy = (end_time - start_time)/(2*n**3 - n**2)\n",
        "\n",
        "time_by_oper_numpy"
      ],
      "metadata": {
        "colab": {
          "base_uri": "https://localhost:8080/"
        },
        "id": "DTVYQYxT-TsJ",
        "outputId": "5f16cbbf-fa73-41cb-d6d6-feb99c099d6c"
      },
      "execution_count": null,
      "outputs": [
        {
          "output_type": "execute_result",
          "data": {
            "text/plain": [
              "2.551438221380339e-09"
            ]
          },
          "metadata": {},
          "execution_count": 32
        }
      ]
    },
    {
      "cell_type": "markdown",
      "source": [
        "# Time estimation for the digital computer computation of a 3 x 3 matrix determinant by cofactor expansion\n",
        "\n",
        "The number of operations $(+,-,*)$ perfomed  *det(A)* algorithm that calculates\n",
        "\n",
        "$$\\det(A)  = \\sum_{j=1}^n (-1)^{i+j}a_{ij} \\det(A(i∣j)) $$\n",
        "\n",
        "is given by\n",
        "\n",
        "$$\\begin{array}{lll}\n",
        "T(n) & =&  nT(n-1) + 5n , T(1) = 1\\\\\n",
        "\\end{array}\n",
        "$$\n",
        "\n",
        "$$\\begin{array}{lll}\n",
        "T(n) & =&  nT(n-1) + 5n\\\\\n",
        "     & =&  n[(n-1) T(n-2) + 5 (n-1) +10] + 5n  \\\\\n",
        "     & =&  n(n-1) T(n-2) + 5 n  (n-1) + 5n \\\\\n",
        "     & =&  n(n-1) [(n-2) T(n-3) + 5 (n-2)] + 5 n(n-1) + 5n\\\\\n",
        "     & = & n(n-1)(n-2) T(n-3) + 5n(n-1)(n-2)+  5 n  (n-1) + 5n \\\\\n",
        "     & \\vdots\\\\\n",
        "     & = &  n(n-1)(n-2)\\cdots (n -(n-2))  T(1) + [5n(n-1)(n-2)(n-3)\\cdots (n -(n-3))] + \\cdots + [5 n (n-1)]+ 5n \\\\\n",
        "    & = & n! + [5n(n-1)(n-2)(n-3)\\cdots 2] + [5n(n-1)(n-2)(n-3)\\cdots 3]+ \\cdots +[5 n (n-1) (n-3)] + [5 n (n-1)]+ 5n  \n",
        "\\end{array}\n",
        "$$\n",
        "\n",
        "$$T(n) = n! + 5 \\sum_{i=0}^{n-1} n!/i! = n! + 5 n!\\sum_{i=0}^{n-1} \\frac{1}{i!} < n! + 5 e n! < 16 n!  $$\n",
        "\n",
        "1. Asumming that an arithmetic operation takes the *time_by_oper_python* estimated before,  what is the maximun square matrix size for which the deteminant can be computed with cofactor extesion in $\\le$ 3 minute. Report the time at [LABCramer](https://docs.google.com/spreadsheets/d/1JNUbuj3QHcyPmp8i6kNreUFucj2mOvKHkCFHHy7zfws/edit?usp=sharing).\n",
        "\n",
        "2. Run an experiment with a random matrix of that size and report the time at [LABCramer](https://docs.google.com/spreadsheets/d/1JNUbuj3QHcyPmp8i6kNreUFucj2mOvKHkCFHHy7zfws/edit?usp=sharing).\n",
        "\n",
        "If the determinant of a $n \\times n$ square matrix takes $16 n!$ operations how much takes the Crammer solution of $n \\times n$ systems of linear equations?\n",
        "\n",
        "\n",
        "\n",
        "\n"
      ],
      "metadata": {
        "id": "PhAai3wzo_Tc"
      }
    },
    {
      "cell_type": "markdown",
      "source": [
        "#1. maximun square matrix size"
      ],
      "metadata": {
        "id": "iavN9Bdj8RJ4"
      }
    },
    {
      "cell_type": "code",
      "source": [
        "#Punto 1\n",
        "import math\n",
        "\n",
        "\n",
        "time_by_oper_python = 5.8 * 10**(-7)\n",
        "\n",
        "\n",
        "def compute_time(n):\n",
        "    factorial_n = math.factorial(n)\n",
        "    e_approx = math.e\n",
        "    return factorial_n + 5 * e_approx * factorial_n\n",
        "\n",
        "\n",
        "time_limit_seconds = 3 * 60\n",
        "\n",
        "\n",
        "max_size = 1\n",
        "while True:\n",
        "    time_required = compute_time(max_size) * time_by_oper_python\n",
        "    if time_required > time_limit_seconds:\n",
        "        break\n",
        "    max_size += 1\n",
        "\n",
        "print(\"Tamaño máximo de matriz:\", max_size - 1)\n",
        "print(\"Tiempo requerido para este tamaño de matriz:\", compute_time(max_size - 1) * time_by_oper_python, \"segundos\")\n"
      ],
      "metadata": {
        "colab": {
          "base_uri": "https://localhost:8080/"
        },
        "id": "1GIYixURGxFx",
        "outputId": "54d85463-a147-49bc-ad7b-7f93806d3086"
      },
      "execution_count": null,
      "outputs": [
        {
          "output_type": "stream",
          "name": "stdout",
          "text": [
            "Tamaño máximo de matriz: 10\n",
            "Tiempo requerido para este tamaño de matriz: 30.71059718742533 segundos\n"
          ]
        }
      ]
    },
    {
      "cell_type": "markdown",
      "source": [
        "#2. Experiment time"
      ],
      "metadata": {
        "id": "DdWIcAXT8Lf6"
      }
    },
    {
      "cell_type": "code",
      "source": [
        "n = 10\n",
        "\n",
        "C = np.random.randint(-5,5,size=(n,n))\n",
        "\n",
        "print ('C:', C)\n",
        "\n",
        "start_time = time.time()\n",
        "d = det(C)\n",
        "end_time = time.time()\n",
        "print(\"determinant(C): \", d)\n",
        "print(\"time: \",end_time - start_time)"
      ],
      "metadata": {
        "id": "53bAH6ua7FS2",
        "outputId": "1e830f63-4948-4409-a0fe-bea54c16bc0d",
        "colab": {
          "base_uri": "https://localhost:8080/"
        }
      },
      "execution_count": null,
      "outputs": [
        {
          "output_type": "stream",
          "name": "stdout",
          "text": [
            "C: [[ 4  1 -5 -5 -3  4  1 -5  1  2]\n",
            " [-5 -2  4 -5 -2 -1  2  0 -2  3]\n",
            " [ 3 -5  1  2  4  0 -1  4  0 -3]\n",
            " [ 0  1  1  3  2  2  2 -3  1 -5]\n",
            " [ 0 -3 -4  3  0  4 -1  4 -4 -3]\n",
            " [-5 -1  2 -5  1 -3 -1 -2  1  2]\n",
            " [ 1 -2 -5  1 -1  2  1 -3  4  0]\n",
            " [ 4  4  4  3  1 -1 -3  4 -1 -5]\n",
            " [-5 -2 -1  4 -2  4 -4 -3  0 -1]\n",
            " [-5  3 -3 -2  4  4 -1 -1  3 -3]]\n",
            "determinant(C):  -117699106\n",
            "time:  74.06277656555176\n"
          ]
        }
      ]
    },
    {
      "cell_type": "markdown",
      "source": [
        "# Time estimation for the human computer computation of a 3 x 3 matrix determinant by cofactor expansion\n",
        "\n",
        " Write a 3 x 3 matrix with the first element as your list number Mod 10 and the rest row by row 1,2,3,...9 skipimg the first element, by example if youir list number is 12, your list number Mod 10 is 2 and the matrix is\n",
        "$$A = \\left[\n",
        "  \\begin{array}{ccc}\n",
        "2 & 1 & 3\\\\\n",
        "4 & 5 & 6\\\\\n",
        "7 & 8 & 9\\\\\n",
        "\\end{array}\n",
        "\\right]\n",
        "$$\n",
        "Use a chronometer like http://online-stopwatch.chronme.com/ to estimate the time to compute the determinant by using the procedure in the follo wing exmaple (https://people.math.carleton.ca/~kcheung/math/notes/MATH1107/07/07_cofactor_expansion.html):<br />  \n",
        "Let\n",
        "$$A = \\begin{bmatrix} 1 & 2 & 3\\\\ 4 & 5 & 6\\\\ 7 & 8 & 9 \\end{bmatrix}$$\n",
        "we compute $\\det(A)$ by expanding along row $2$ as <br /> <br />\n",
        "$$\\begin{eqnarray} \\det(A) & = & (-1)^{2+1}A_{2,1}\\det(A(2 \\mid 1)) + (-1)^{2+2}A_{2,2}\\det(A(2 \\mid 2)) + (-1)^{2+3}A_{2,3}\\det(A(2 \\mid 3)) \\\\ & = & -4\\left|\\begin{matrix} 2 & 3 \\\\ 8 & 9\\end{matrix}\\right| + 5\\left|\\begin{matrix} 1 & 3 \\\\ 7 & 9\\end{matrix}\\right| - 6\\left|\\begin{matrix} 1 & 2 \\\\ 7 & 8\\end{matrix}\\right| \\\\ & = & -4(2\\cdot 9 - 3\\cdot 8) + 5(1 \\cdot 9- 3\\cdot 7) - 6(1\\cdot 8 - 2 \\cdot 7) \\\\ & = & 24 - 60 + 36 \\\\ & = & 0 \\end{eqnarray}$$\n",
        "3. Report the time at [LABCramer](https://docs.google.com/spreadsheets/d/1JNUbuj3QHcyPmp8i6kNreUFucj2mOvKHkCFHHy7zfws/edit?usp=sharing)\n",
        "4. Report the value of the determinant at [LABCramer](https://docs.google.com/spreadsheets/d/1JNUbuj3QHcyPmp8i6kNreUFucj2mOvKHkCFHHy7zfws/edit?usp=sharing)\n"
      ],
      "metadata": {
        "id": "__brdhGadAXY"
      }
    },
    {
      "cell_type": "markdown",
      "source": [
        "#3. Human computer time\n",
        "## My list number is 1 Mod 10 is 1\n",
        "$$A = \\left[\n",
        "  \\begin{array}{ccc}\n",
        "1 & 2 & 3\\\\\n",
        "4 & 5 & 6\\\\\n",
        "7 & 8 & 9\\\\\n",
        "\\end{array}\n",
        "\\right]\n",
        "$$"
      ],
      "metadata": {
        "id": "jghmt0zj8I_9"
      }
    },
    {
      "cell_type": "code",
      "source": [
        "aList = [[1,2,3],[4,5,6],[7,8,9]]\n",
        "A = np.array(aList)\n",
        "det(A)"
      ],
      "metadata": {
        "id": "fQ04rDRT6bx8",
        "outputId": "a58dbf18-4a1a-46b4-95e2-dcb936b9b75c",
        "colab": {
          "base_uri": "https://localhost:8080/"
        }
      },
      "execution_count": null,
      "outputs": [
        {
          "output_type": "execute_result",
          "data": {
            "text/plain": [
              "0"
            ]
          },
          "metadata": {},
          "execution_count": 48
        }
      ]
    },
    {
      "cell_type": "markdown",
      "source": [
        "![Imagen de WhatsApp 2024-05-29 a las 20.37.05_135b3db8.jpg](data:image/jpeg;base64,/9j/4AAQSkZJRgABAQEAYABgAAD/4RBmRXhpZgAATU0AKgAAAAgAAwESAAMAAAABAAgAAIdpAAQAAAABAAAIPuocAAcAAAgMAAAAMgAAAAAc6gAAAAgAAAAAAAAAAAAAAAAAAAAAAAAAAAAAAAAAAAAAAAAAAAAAAAAAAAAAAAAAAAAAAAAAAAAAAAAAAAAAAAAAAAAAAAAAAAAAAAAAAAAAAAAAAAAAAAAAAAAAAAAAAAAAAAAAAAAAAAAAAAAAAAAAAAAAAAAAAAAAAAAAAAAAAAAAAAAAAAAAAAAAAAAAAAAAAAAAAAAAAAAAAAAAAAAAAAAAAAAAAAAAAAAAAAAAAAAAAAAAAAAAAAAAAAAAAAAAAAAAAAAAAAAAAAAAAAAAAAAAAAAAAAAAAAAAAAAAAAAAAAAAAAAAAAAAAAAAAAAAAAAAAAAAAAAAAAAAAAAAAAAAAAAAAAAAAAAAAAAAAAAAAAAAAAAAAAAAAAAAAAAAAAAAAAAAAAAAAAAAAAAAAAAAAAAAAAAAAAAAAAAAAAAAAAAAAAAAAAAAAAAAAAAAAAAAAAAAAAAAAAAAAAAAAAAAAAAAAAAAAAAAAAAAAAAAAAAAAAAAAAAAAAAAAAAAAAAAAAAAAAAAAAAAAAAAAAAAAAAAAAAAAAAAAAAAAAAAAAAAAAAAAAAAAAAAAAAAAAAAAAAAAAAAAAAAAAAAAAAAAAAAAAAAAAAAAAAAAAAAAAAAAAAAAAAAAAAAAAAAAAAAAAAAAAAAAAAAAAAAAAAAAAAAAAAAAAAAAAAAAAAAAAAAAAAAAAAAAAAAAAAAAAAAAAAAAAAAAAAAAAAAAAAAAAAAAAAAAAAAAAAAAAAAAAAAAAAAAAAAAAAAAAAAAAAAAAAAAAAAAAAAAAAAAAAAAAAAAAAAAAAAAAAAAAAAAAAAAAAAAAAAAAAAAAAAAAAAAAAAAAAAAAAAAAAAAAAAAAAAAAAAAAAAAAAAAAAAAAAAAAAAAAAAAAAAAAAAAAAAAAAAAAAAAAAAAAAAAAAAAAAAAAAAAAAAAAAAAAAAAAAAAAAAAAAAAAAAAAAAAAAAAAAAAAAAAAAAAAAAAAAAAAAAAAAAAAAAAAAAAAAAAAAAAAAAAAAAAAAAAAAAAAAAAAAAAAAAAAAAAAAAAAAAAAAAAAAAAAAAAAAAAAAAAAAAAAAAAAAAAAAAAAAAAAAAAAAAAAAAAAAAAAAAAAAAAAAAAAAAAAAAAAAAAAAAAAAAAAAAAAAAAAAAAAAAAAAAAAAAAAAAAAAAAAAAAAAAAAAAAAAAAAAAAAAAAAAAAAAAAAAAAAAAAAAAAAAAAAAAAAAAAAAAAAAAAAAAAAAAAAAAAAAAAAAAAAAAAAAAAAAAAAAAAAAAAAAAAAAAAAAAAAAAAAAAAAAAAAAAAAAAAAAAAAAAAAAAAAAAAAAAAAAAAAAAAAAAAAAAAAAAAAAAAAAAAAAAAAAAAAAAAAAAAAAAAAAAAAAAAAAAAAAAAAAAAAAAAAAAAAAAAAAAAAAAAAAAAAAAAAAAAAAAAAAAAAAAAAAAAAAAAAAAAAAAAAAAAAAAAAAAAAAAAAAAAAAAAAAAAAAAAAAAAAAAAAAAAAAAAAAAAAAAAAAAAAAAAAAAAAAAAAAAAAAAAAAAAAAAAAAAAAAAAAAAAAAAAAAAAAAAAAAAAAAAAAAAAAAAAAAAAAAAAAAAAAAAAAAAAAAAAAAAAAAAAAAAAAAAAAAAAAAAAAAAAAAAAAAAAAAAAAAAAAAAAAAAAAAAAAAAAAAAAAAAAAAAAAAAAAAAAAAAAAAAAAAAAAAAAAAAAAAAAAAAAAAAAAAAAAAAAAAAAAAAAAAAAAAAAAAAAAAAAAAAAAAAAAAAAAAAAAAAAAAAAAAAAAAAAAAAAAAAAAAAAAAAAAAAAAAAAAAAAAAAAAAAAAAAAAAAAAAAAAAAAAAAAAAAAAAAAAAAAAAAAAAAAAAAAAAAAAAAAAAAAAAAAAAAAAAAAAAAAAAAAAAAAAAAAAAAAAAAAAAAAAAAAAAAAAAAAAAAAAAAAAAAAAAAAAAAAAAAAAAAAAAAAAAAAAAAAAAAAAAAAAAAAAAAAAAAAAAAAAAAAAAAAAAAAAAAAAAAAAAAAAAAAAAAAAAAAAAAAAAAAAAAAAAAAAAAAAAAAAAAAAAAAAAAAAAAAAAAAAAAAAAAAAAAAAAAAAAAAAAAAAAAAAAAAAAAAAAAAAAAAAAAAAAAAAAAAAAAAAAAAAAAAAAAAAAAAAAAAAAAAAAAAAAAAAAAAAAAAAAAAAAAAAAAAAAAAAAAAAAAAAAAAAAAAAAAAAAAAAAAAAAAAAAAAAAAAAAAAAAAAAAAAAAAAAAAAAAAAAAAAAAAAAAAAAAAAAAAAAAAAAAAAAAAAAAAAAAAAAAAAAAAAAAAAAAAAAAAAAAAAAAAAAAAAAAAAAAAAAAAAAAAAAAAAAAAAAAAAAAAAAAAAAAAAAAAAAAAAAAAAAAAAAAAAAAAAAAAAAAAAAAAAAAAAAAAAAAAAAAAAAAAAAAAAAAAAAAAAAAAAAAAAAAAAAAAAAAAAAAAAAAAAAAAAAAAAAAAAAAAAAAAAAAAAAAAAAAAAAAAAAAAAAAAAAAAAAAAAAAAAAAAAAAAAAAAAAAAAAAAAAAAAAAAAAAAAAAAAAAAAAAAAAAAAAAAAAAAAAAAAAAAAAAAAAAAAAAAAAAAAAAAAAAAAAAAAAAAAAAAAAAAAAAAAAAAAAAAAAAAAAAAAAAAAAAAAAAAAAAAAAAAAAAAAAAAAAAAAAAAAAAAAAAAAAAAAAAAAAAAAAAAAAAAAAAAAAAAAAAAAAAAAAAAAAAAAAAAAAAAAAAAAAAAAAAB6hwABwAACAwAAAhQAAAAABzqAAAACAAAAAAAAAAAAAAAAAAAAAAAAAAAAAAAAAAAAAAAAAAAAAAAAAAAAAAAAAAAAAAAAAAAAAAAAAAAAAAAAAAAAAAAAAAAAAAAAAAAAAAAAAAAAAAAAAAAAAAAAAAAAAAAAAAAAAAAAAAAAAAAAAAAAAAAAAAAAAAAAAAAAAAAAAAAAAAAAAAAAAAAAAAAAAAAAAAAAAAAAAAAAAAAAAAAAAAAAAAAAAAAAAAAAAAAAAAAAAAAAAAAAAAAAAAAAAAAAAAAAAAAAAAAAAAAAAAAAAAAAAAAAAAAAAAAAAAAAAAAAAAAAAAAAAAAAAAAAAAAAAAAAAAAAAAAAAAAAAAAAAAAAAAAAAAAAAAAAAAAAAAAAAAAAAAAAAAAAAAAAAAAAAAAAAAAAAAAAAAAAAAAAAAAAAAAAAAAAAAAAAAAAAAAAAAAAAAAAAAAAAAAAAAAAAAAAAAAAAAAAAAAAAAAAAAAAAAAAAAAAAAAAAAAAAAAAAAAAAAAAAAAAAAAAAAAAAAAAAAAAAAAAAAAAAAAAAAAAAAAAAAAAAAAAAAAAAAAAAAAAAAAAAAAAAAAAAAAAAAAAAAAAAAAAAAAAAAAAAAAAAAAAAAAAAAAAAAAAAAAAAAAAAAAAAAAAAAAAAAAAAAAAAAAAAAAAAAAAAAAAAAAAAAAAAAAAAAAAAAAAAAAAAAAAAAAAAAAAAAAAAAAAAAAAAAAAAAAAAAAAAAAAAAAAAAAAAAAAAAAAAAAAAAAAAAAAAAAAAAAAAAAAAAAAAAAAAAAAAAAAAAAAAAAAAAAAAAAAAAAAAAAAAAAAAAAAAAAAAAAAAAAAAAAAAAAAAAAAAAAAAAAAAAAAAAAAAAAAAAAAAAAAAAAAAAAAAAAAAAAAAAAAAAAAAAAAAAAAAAAAAAAAAAAAAAAAAAAAAAAAAAAAAAAAAAAAAAAAAAAAAAAAAAAAAAAAAAAAAAAAAAAAAAAAAAAAAAAAAAAAAAAAAAAAAAAAAAAAAAAAAAAAAAAAAAAAAAAAAAAAAAAAAAAAAAAAAAAAAAAAAAAAAAAAAAAAAAAAAAAAAAAAAAAAAAAAAAAAAAAAAAAAAAAAAAAAAAAAAAAAAAAAAAAAAAAAAAAAAAAAAAAAAAAAAAAAAAAAAAAAAAAAAAAAAAAAAAAAAAAAAAAAAAAAAAAAAAAAAAAAAAAAAAAAAAAAAAAAAAAAAAAAAAAAAAAAAAAAAAAAAAAAAAAAAAAAAAAAAAAAAAAAAAAAAAAAAAAAAAAAAAAAAAAAAAAAAAAAAAAAAAAAAAAAAAAAAAAAAAAAAAAAAAAAAAAAAAAAAAAAAAAAAAAAAAAAAAAAAAAAAAAAAAAAAAAAAAAAAAAAAAAAAAAAAAAAAAAAAAAAAAAAAAAAAAAAAAAAAAAAAAAAAAAAAAAAAAAAAAAAAAAAAAAAAAAAAAAAAAAAAAAAAAAAAAAAAAAAAAAAAAAAAAAAAAAAAAAAAAAAAAAAAAAAAAAAAAAAAAAAAAAAAAAAAAAAAAAAAAAAAAAAAAAAAAAAAAAAAAAAAAAAAAAAAAAAAAAAAAAAAAAAAAAAAAAAAAAAAAAAAAAAAAAAAAAAAAAAAAAAAAAAAAAAAAAAAAAAAAAAAAAAAAAAAAAAAAAAAAAAAAAAAAAAAAAAAAAAAAAAAAAAAAAAAAAAAAAAAAAAAAAAAAAAAAAAAAAAAAAAAAAAAAAAAAAAAAAAAAAAAAAAAAAAAAAAAAAAAAAAAAAAAAAAAAAAAAAAAAAAAAAAAAAAAAAAAAAAAAAAAAAAAAAAAAAAAAAAAAAAAAAAAAAAAAAAAAAAAAAAAAAAAAAAAAAAAAAAAAAAAAAAAAAAAAAAAAAAAAAAAAAAAAAAAAAAAAAAAAAAAAAAAAAAAAAAAAAAAAAAAAAAAAAAAAAAAAAAAAAAAAAAAAAAAAAAAAAAAAAAAAAAAAAAAAAAAAAAAAAAAAAAAAAAAAAAAAAAAAAAAAAAAAAAAAAAAAAAAAAAAAAAAAAAAAAAAAAAAAAAAAAAAAAAAAAAAAAAAAAAAAAAAAAAAAAAAAAAAAAAAAAAAAAAAAAAAAAAAAAAAAAAAAAAAAAAAAAAAAAAAAAAAAAAAAAAAAAAAAAAAAAAAAAAAAAAAAAAAAAAAAAAAAAAAAAAAAAAAAAAAAAAAAAAAAAAAAAAAAAAAAAAAAAAAAAAAAAAAAAAAAAAAAAAAAAAAAAAAAAAAAAAAAAAAAAAAAAAAAAAAAAAAAAAAAAAAAAAAAAAAAAAAAAAAAAAAAAAAAAAAAAAAAAAAAAAAAAAAAAAAAAAAAAAAAAAAAAAAAAAAAAAAAAAAAAAAAAAAAAAAAAAAAAAAAAAAAAAAAAAAAAAAAAAAAAAAAAAAAAAAAAAAAAAAAAAAAAAAAAAAAAAAAAAAAAAAAAAAAAAAAAAAAAAAAAAAAAAAAAAAAAAAAAAAAAAAAAAAAAAAAAAAAAAAAAAAAAAAAAAAAAAAAAAAAAAAAAAAAAAAAAAAAAAAAAAAAAAAAAAAAAAAAAAAAAAAAAAAAAAAAAAAAAAAAAAAAAAAAAAAAAAAAAAAAAAAAAAAAAAAAAAAAAAAAAAAAAAAAAAAAAAAAAAAAAAAAAAAAAAAAAAAAAAAAAAAAAAAAAAAAAAAAAAAAAAAAAAAAAAAAAAAAAAAAAAAAAAAAAAAAAAAAAAAAAAAAAAAAAAAAAAAAAAAAAAAAAAAAAAAAAAAAAAAAAAAAAAAAAAAD/4QjdaHR0cDovL25zLmFkb2JlLmNvbS94YXAvMS4wLwA8P3hwYWNrZXQgYmVnaW49J++7vycgaWQ9J1c1TTBNcENlaGlIenJlU3pOVGN6a2M5ZCc/Pg0KPHg6eG1wbWV0YSB4bWxuczp4PSJhZG9iZTpuczptZXRhLyI+PHJkZjpSREYgeG1sbnM6cmRmPSJodHRwOi8vd3d3LnczLm9yZy8xOTk5LzAyLzIyLXJkZi1zeW50YXgtbnMjIi8+PC94OnhtcG1ldGE+DQogICAgICAgICAgICAgICAgICAgICAgICAgICAgICAgICAgICAgICAgICAgICAgICAgICAgICAgICAgICAgICAgICAgICAgICAgICAgICAgICAgICAgICAgICAgICAgICAgICAgCiAgICAgICAgICAgICAgICAgICAgICAgICAgICAgICAgICAgICAgICAgICAgICAgICAgICAgICAgICAgICAgICAgICAgICAgICAgICAgICAgICAgICAgICAgICAgICAgICAgICAKICAgICAgICAgICAgICAgICAgICAgICAgICAgICAgICAgICAgICAgICAgICAgICAgICAgICAgICAgICAgICAgICAgICAgICAgICAgICAgICAgICAgICAgICAgICAgICAgICAgIAogICAgICAgICAgICAgICAgICAgICAgICAgICAgICAgICAgICAgICAgICAgICAgICAgICAgICAgICAgICAgICAgICAgICAgICAgICAgICAgICAgICAgICAgICAgICAgICAgICAgCiAgICAgICAgICAgICAgICAgICAgICAgICAgICAgICAgICAgICAgICAgICAgICAgICAgICAgICAgICAgICAgICAgICAgICAgICAgICAgICAgICAgICAgICAgICAgICAgICAgICAKICAgICAgICAgICAgICAgICAgICAgICAgICAgICAgICAgICAgICAgICAgICAgICAgICAgICAgICAgICAgICAgICAgICAgICAgICAgICAgICAgICAgICAgICAgICAgICAgICAgIAogICAgICAgICAgICAgICAgICAgICAgICAgICAgICAgICAgICAgICAgICAgICAgICAgICAgICAgICAgICAgICAgICAgICAgICAgICAgICAgICAgICAgICAgICAgICAgICAgICAgCiAgICAgICAgICAgICAgICAgICAgICAgICAgICAgICAgICAgICAgICAgICAgICAgICAgICAgICAgICAgICAgICAgICAgICAgICAgICAgICAgICAgICAgICAgICAgICAgICAgICAKICAgICAgICAgICAgICAgICAgICAgICAgICAgICAgICAgICAgICAgICAgICAgICAgICAgICAgICAgICAgICAgICAgICAgICAgICAgICAgICAgICAgICAgICAgICAgICAgICAgIAogICAgICAgICAgICAgICAgICAgICAgICAgICAgICAgICAgICAgICAgICAgICAgICAgICAgICAgICAgICAgICAgICAgICAgICAgICAgICAgICAgICAgICAgICAgICAgICAgICAgCiAgICAgICAgICAgICAgICAgICAgICAgICAgICAgICAgICAgICAgICAgICAgICAgICAgICAgICAgICAgICAgICAgICAgICAgICAgICAgICAgICAgICAgICAgICAgICAgICAgICAKICAgICAgICAgICAgICAgICAgICAgICAgICAgICAgICAgICAgICAgICAgICAgICAgICAgICAgICAgICAgICAgICAgICAgICAgICAgICAgICAgICAgICAgICAgICAgICAgICAgIAogICAgICAgICAgICAgICAgICAgICAgICAgICAgICAgICAgICAgICAgICAgICAgICAgICAgICAgICAgICAgICAgICAgICAgICAgICAgICAgICAgICAgICAgICAgICAgICAgICAgCiAgICAgICAgICAgICAgICAgICAgICAgICAgICAgICAgICAgICAgICAgICAgICAgICAgICAgICAgICAgICAgICAgICAgICAgICAgICAgICAgICAgICAgICAgICAgICAgICAgICAKICAgICAgICAgICAgICAgICAgICAgICAgICAgICAgICAgICAgICAgICAgICAgICAgICAgICAgICAgICAgICAgICAgICAgICAgICAgICAgICAgICAgICAgICAgICAgICAgICAgIAogICAgICAgICAgICAgICAgICAgICAgICAgICAgICAgICAgICAgICAgICAgICAgICAgICAgICAgICAgICAgICAgICAgICAgICAgICAgICAgICAgICAgICAgICAgICAgICAgICAgCiAgICAgICAgICAgICAgICAgICAgICAgICAgICAgICAgICAgICAgICAgICAgICAgICAgICAgICAgICAgICAgICAgICAgICAgICAgICAgICAgICAgICAgICAgICAgICAgICAgICAKICAgICAgICAgICAgICAgICAgICAgICAgICAgICAgICAgICAgICAgICAgICAgICAgICAgICAgICAgICAgICAgICAgICAgICAgICAgICAgICAgICAgICAgICAgICAgICAgICAgIAogICAgICAgICAgICAgICAgICAgICAgICAgICAgICAgICAgICAgICAgICAgICAgICAgICAgICAgICAgICAgICAgICAgICAgICAgICAgICAgICAgICAgICAgICAgICAgICAgICAgCiAgICAgICAgICAgICAgICAgICAgICAgICAgICAgICAgICAgICAgICAgICAgICAgICAgICAgICAgICAgICAgICAgICAgICAgICAgICAgICAgICAgICAgICAgICAgICAgICAgICAKICAgICAgICAgICAgICAgICAgICAgICAgICAgIDw/eHBhY2tldCBlbmQ9J3cnPz7/2wBDAAYEBQYFBAYGBQYHBwYIChAKCgkJChQODwwQFxQYGBcUFhYaHSUfGhsjHBYWICwgIyYnKSopGR8tMC0oMCUoKSj/2wBDAQcHBwoIChMKChMoGhYaKCgoKCgoKCgoKCgoKCgoKCgoKCgoKCgoKCgoKCgoKCgoKCgoKCgoKCgoKCgoKCgoKCj/wgARCAZAAVgDASIAAhEBAxEB/8QAGgAAAwEBAQEAAAAAAAAAAAAAAAEDAgQFBv/EABUBAQEAAAAAAAAAAAAAAAAAAAAB/9oADAMBAAIQAxAAAAL1ZVlFFsMKoS2qEi4Q1YI5pQg65M7xguQR0HOHQ+VnQ+VHW+VnScrOzPKHW+VnSossTZUmwEzRkOWe5lwBgjFY1NiRpDMbxQQ0EqyNmkCAy8s0CNJBmkajedBPcymdhk2yOb4MLoCJUITSLuLKkwVZUKPINpkrSqAApWkbGCy0SpKhrGsmhMnSVhjAlSRZ5Y9ZY5tGwAEHPnWCoAhslvNDD3olqqI0VSRUJK0QKBgaMaxo2SyVzlitBlyLKYMlyQVJBVTZchoqSCcqyLIYNBOk6DaDWsBm0bAxDjWJQTAYS3OgjSATI2jYHlmpUkVaBgjLzo2JgAQmsnQpMspMVJ7NaxoaYZrOoayBKkyiAYgnvGwBAJkrSqJgEqxKvINAKkKmxoYBzJ5NgBnaJ7zQwUZN6DOjZlUCarMFZEiyJD0Y2AIyZpMKrCKzMlSTKkNGtTZXUGdBEMZ0DGgBEqzqDQPLwV0mMAcaxLNANMjSNBiRvKyPedA0xStAq8sQMnaNgGDAOdzZUkFDDMWjQ08M1KuCjTG0DhaZQUipxyOunlbPTPMD05+dg9TflaPTfnaO6M8nUoTOzXl2Oq0rDGAAc1J7GmGTQQZQw9smrSGU0SKsnm0zyD3g8e3pM819ejhO1nnv0MHEvQDzX6WDkn3zIbuiVBmaTZRzCpIMbxsbQNIJWjYAYpWiWaYwAjWJcyGznuStLYhzKzSK6zoeXkI2iWykbeWYpGxp5YAHPWDLEg2YBWiypJm57wVeWNgKOfOPW4Mc4e35Pom6YidfidMSdvT889EnQcL+CevncyvBfjPWfl+oStKwADEENzqDAaAnuewDRnFpDVGSdkYbDl8n6PzTPV0BFliHn+xynEerMToGPF9/J48PoZnldvSiZVnPsqSKowUCFJ1AAFpEaTqDWglWRUTGJCXg1Pd5uW51mWTtGhrDwUnqZZpg0Bh4KNBpCJWlUFpAAQrFliIWU8mqc+yxALSEXckX5LM830vFseZ349c4vT5esia8w1yd/pHz/d1+Ue1pAs65SpKhOkPNPd1lmaRsNCGARpPYwYZ0EaTsIYKdZFnnQNMy50ORdgSegnudjK0GfK9jyz0HvRzeR7/lHNL39Hh83t4Do3ojosRKhMoEKY2NoGmEazqAASrIq0xiCephU8zrOjOghvLCnlemU5r4KMDfl+iidJ7NmNGdJkbSoaQAAQ3jRpzZtzQbkFVILzSOhwCymC830OU1ydHWT7PF9c8uVKHm9FPXOLp4g9MwGjz+4zuWjW+eJ3GGTtGpoSNCCVJUG0DEEqyqZbDOKyKaWzPke1k8Wnq0PAp7iOW7yZMXN5AOfokaGzyPQ5w35Pd2HNw9eTtdAjvNjBtmDYQpigNA08mKxqMAcqTKaTB5DG4VK5wGkkZrChRx0blrBUTNeZ6Qed3zobWWCAnSdRDQAEG9k3QMKiJDoR3pBncymsBtS5Dq3wbO1czOrEQprnZ075tF54R0PnZY55HTvysHrvw9HtnD1jpFlVNFCYKsqgNBnWTGs6BNG8awXaZnj9BnlHoUPGPYDxV7cjxj2dnh79lnh596B5L9tniU9cPN7DZvIxZ3gN50CYIAlvFAGCzrJnSZlsHPeCzzoYIxSdAQDlSRt4ZowzcL85fWQ0JE6yoZYwzuZtpgDEAc2jZh0RjNpCzvZIqE1WJRbZh60S1mphVCXle14Z6eK+Uepueikt4K7iyhNGnLRUkyk2ijmirkFSQY3OowAlWYqToAARtEqxDaDFJWDWWa8D3+Ut5nq8pqvL0moVmV1lmjIT3jYMAnSRZ4ZozoBhz0kyhgN4Mm9x0bMaHGsirwxvLJ2hYbQbjvBXDZHWmZjeJXWdCaZG0qiYxTpM2NjAGAc1J0BgKdZDVAmVCWOiR53Z4/tA6hHaoYdAkrYE9hgoEsdETOqBN1CGjZN7DC2gVQm6BMoEN4oMGKVom9Z0AmE6yPnPc5u4oATpGwxoI75DsMIseX6RSFZFWmABKs6AmBikygmMTEIJUkFXHRSeUXUw1uLKyJnQc4XUWFobLEmZ8v1PCPe5ODsOO/bU0tZKPLNIZGuKA8scqyKAAAZGEt4oAMU6SKiYAxRvA83S9Y5L8XQUpOoMYuW3CegmxDDOdoCgTKBLSsROjJJVmNVyYNhMAVMbBNBOsSyEN50Q872ec8evrcZz49ahOsqjaA870YFNTZswxICjwxiCdJUN6wGsbkVAEMJAGdLZlgPDybeA25spJwOqXmUPTcNBuTLEQtA8c9jHj1PRx5yPactlnELEUa3FlN8+jokIsSCygzRMN0lUGmilaRUQCMLqZMWOsG0GKRqNpj4uyRm60T+f8ApfDPSotDaBoRKmKCNAsUiXaYhokAOk7AAhLciyGLFInkxv7C+d2cXAe8/J6TrrGwxAeb6vnHZTOh+b6QRANgCWgjWNRvIalSZVpgDIjDOiiTVUYVcBmwRx07PG9CXMqXRzF5dfSQ09kzaFncxvMTrIbDeGaeGbWGZ3PRp4DeDJdyZsmCMhqk6IMRqW8FBg3hGzAWnKi7SRKk6iAFG8Dm4L+ieT09/knpWjUo8sYmTrOoABG0SjATAmAKktpoTCW8FUslHjRnWNL4/q2RlgSpOgDZ5GfbweTzfRh817HZkhvOjTyjQ0ZrPZoyxSrMo0DBkhhLSqTVUTVZgrCRKpYvk7TJRGHy9pNqhjTYs0mM0GNaCI2CoE3RE2bMmgzmuAewwbCQwzSdUYAsbwUADOmeJ6vjdC9PF29Z8/3etMjXGwBDnqJc47lnjRPWNm3nQlrAt42MYEqyKMYgZIQPcmlVMKTSLaiyrkEuvnR0rnkdikKbnoZhmvP6ec8zux1F64Znc9FHgN5THrGjZljhaZR5RoETGCpOiCaFK8Sups2gJ8nXwHo+R7ngL7YxMbnQSMrrBg0tsAZgWgYxYrgelsAZnFYjKBN7ZA0CpKqCAcqTKNMbTMcfXRVmjRY1knvOxACnWK0EDYie50NPOgxuZtPQtJhKsijENoJjDO5NKE2bm8rTUhLEQ1SAvQ+YS+Zpd7kJRzDXC+dd9XBxH0GvN7TW5aKGAphBRyCrkyk3MuTDbmxkwdJ0QGhxtEppA3lktz2Dlkus5Xe8aTTzpeWXoeULs5fVPM4/dRx9MrAAGKTKaQaQBKsiiaAAkAOk6IAzM6zNtMQwluezyaP0V83v4Mnp7ztGAuo0mlHCw0CypjYAh41Ms8BtAKdMFBA0MiMEyiTNhjNcCNswUCPl+vU+fn9Jxr5kvpJE3VJh7DK3hfI9goTWwkOhIqEs2yZe9E3RE1TIijJPYSNBmk6oAhxrg20GhM4Ovn4l9Xk4O47MeR6B2GWjBBKPnL7euS5sTJ0ns0mgnSZRoNPDBIKIYIZEYKkdpswzU94KPIa1lmRbG0l5Ob0OA9DWWgMPD9bzfUXzua3ec3oed6RKmKCACVpFHkG0GWmbMs0JkTQY0tpl6DOaSKLQY0wm1sw5WFi8zOtaJugcHL7WF8/n9sOd2yRb2SdGSVZgbZMqEm9E3RGHsJDBVlRNZaHKkyotCGEaY5SHZ5NV9mdJptgMGZzqRc8z0VYMjWVAGBOkjekDGE2mNpgDIjA3JpRyCswNuaKkg1uIXIBaaFoYEoTDeFleT0ZMqRY6RZRyCsxFSYUMMzrAUcgqSBkw3SVUAAxuZUATYeXPvueXrvwvH3ayUeRGEQfm9i9AmM4O8zWNQADG5FngNCZjWKCGgTRgAzWVEGMWKYKCYCZLc9HDqPUdWODuKazoOPtgc3X5fUvJ0xoU3wd5S0qDBBOkymsM0Jk942aQh41kQBPRtMa0GM1mBUMQ6tHi79Rr4HcuyvP76KB6aZbZw66tKgDD2EWaMmwxmsxtghhjeWMAE8gAKkqIxBqe5lRMGgxydXnGvSj5p7UnkoDBpGTPMvVvxO47gCVJ0NAgnuZRpiekS3nYmAsUwIYTpnaDTCdMGtJi5OzR43L9DzW+afQZk4Oi0TessAZwHVRfP7KiCEs6Y0NoHPeDesaNAjDQNphjWBgE2bTD2GFWY1RktbRgVDJpk1aa5KiTVAmPazKcB1hsma2Sdsk82mJ7DBQJj0YKMlm2TBQJUxtGZZqe8FAYhhHEuNfW3xdKUxuZRpiYHm9vi7X2sx6TxfY5QvWdQAFK0jYMaYTpLZoQOe5lBBPcxKOaK5yizkFnFkYdgcnU2bmZKakFnHR5Xr8F15+ffpnk+ntBqTKOTKSeSpJlHMFSWjZMN4EVMAnnaCGGdYKNMYgxSNDQkanuZQTG8MW5UVbyDSBPOhpgp1mbTYhhKk6iYCxSZsAlvOkYgc6TKC0IcAr5fWvSeTtPTxrJvSY0MktcK16vPmetkBbxsY0E6TNtMAZLedDTZnFMGjQQeGmybN5MlBMabPJ6OzZny/X8k6LrSmtNM4rhY8SZSHT0Hn+nvRPTYhgs7wN6DBtE9LZlaZhbwaGGGtJltinSRZ5YNBjckdHl+hzHZOsVoxhrDRamzbntXl5FvDNABKsijTAYRrPYwBxrM2AR3lo2gJ7wUaYLXKednvVvF62PPj2J52UEzSQmMtr5/ppjy0LWdGhMJVwb1ljTRKmdgDFOsygByG2mFUJ5tNWqaSebaPGx7FSRUPP6LzXBZE1fzU6vP6eFfU1pnH0eZ6Rp60YKhJWmD1onrYRZQmVCebTMlg59Jg0DlWZTWWjeWTpLZtZZqVJFGMcLh5nnfQi+G/fDwvVvMGtAAOVJFXjQwRik9jaYStEqMIGAoTCsnks5CVJA3hnke34frrbGRK6iypINakLYgy88BRyCxEKzMlSYVJg9y0UcgrJIuRBD0ZNCZzSa7BomBisar4ntgizuZQTUYGNYoeF7Xj+2GdZG0zSGZxSZQGIaMUjQaYKdZlBBgQmhA57mb0gYkYpLa6EjWNYKtMADFJUOTtSNT3g00xiBzpMqDEtIjTFAACVZFACTmFCWikxJVzS1Jh58+/iJq3eed6TyU1gNoDD5kdTWCmZc53gwYBneR6TBMMM2TKoni8zJsMMBgBOmCjBBagvmepyegQ8z2vNO/OKJvSBsZ5Hqccl6fI6PYOHh9LRbS0AAsUmbYxGkTpPYwYp0waNBzsYABikyjTQ0g8jtvBVxd/QE6yN6QmmhcSroN4Ruesj1ljQBl5KCY0MlWdAAHKmDZoOQ2GHQJ5tgT2yRbJDXkVOtzgeiuH0BvTJujIt7PP5PdwYVcAqMkVCWbZMlGTdGR0qknUI56JCKhF50AwzikyjGGkE6T2m8sPI9Hk7F2AMAlSejQgc9zKvLG0BjSNgwaZGsqjBhC8SoBz6QaMaHh5KGA25gqw0VIiVwktiQVcmPg7eI7vO5e04vQ6/BPf1JlSTNrIV1BlSTCkdFXJFcZRYmEFQJvbJquAewy2E94qef2+Z6g8Umba0AMxSezTSH4Xu+QeloYMBJo0xgARrOommEqSKDCAA3nQsbybaABGKxocvWBuO8FHnQCDNJ0ItQO6dZmhoaGZAGxg0E6TqIAJVkVAOcwiuohXOGVWEVU9Gd+dM9R+SHrZ8zvLubNvILWNGjLGnMqkwYCTBvINrRPWdgMM5pkYwiDEtBlMNazoADk6uTmPUPIsejONSwtAAS3hnL2eV6plZ5T0RMYmJPJQQMaJ0ns2CCe5lACQMQwwtBpjAA8j1vG9c3z3ked6Hn+iUa0ELs8V+tQ+d7ddJ51+5mxMaaDLRsGABPeNg0wnuZQAgaZk0yZpmSjJvYc3F6Wzz8emzndsGSwSdQlrNCFthPF5mSqMNswqZEU0RLIkOhIqiargCgSYwaDImbEwxvzzkt2dJ4uc+5Xn9vn98VYAwJUlQZ5nom56wb0gYgM6wb3hmkBOk9jEBOki5kMGWaEC1nQxBqO2edu7OefpBLWpldSCpICktHl+t5Xpm5vJUmzZMKYEUcwqTZmkmUJs3N4LkwkUCeqBPS2Yewy2E9Z2St5vpDnSJQGZNIxSexoYTpg00DEwyZKCYCDNJ7GAGNYLgEGmDTM6ns0JgCJ0lQ4u4ByrIoDAAlSOzbyDnLjPVEwYCxvBtgABPeNjEwnSZYQYJhRyRRyZVyZtY5To353cUPJ6jtx5XpFnHRVx0cnJ6vmle0889Txl2HY8Io5M3nKKuLKktC3JlVMK4EUJgxgAyekzTAJ1Dxr6A5fbR4Pr7yUExtMxGuxmGanuZRMBMM51k20wBGKToJpmpUiWAMCYNMnvOwYAHKVr4PrHRxdflnqzQU1ljEE6T0eX6W0bnrJRAMAznWTYAMROmNi0tClaRUAmTChlD1jQxhkozxX2dh4x7KJFcCewmVRGcuUv1eYz1Dj7DRsMqgYVMAb0Sewi3QlqgSVpgUCbAADG8bG8sYBPeOI7Ofp849OVZFGtA0zyfW5uUPS4+0hy+jI2NDACdMFAAAJVjU0AOVZFACbTAEZ3PZppGkIz5Pqcp2cfVI6ZbyUeQ08Aqw2bPG7zqmZKPAbMBrIijwiiSM1lQ2so3gwWJhN0CaqEmUJOqJlcks+bY7n5fYdPNvB0PbMm0T3OpCm0LFMGxsyNmc0mbBgAYpKoABOkihoJgwAJ0nQYMXD3+WdPXOgeP6vlmfSh0m2AZ0iVZUObzt+wef182T0DOgGgnTJtMBDJXjUABypMoAYeQ0YA3LRvUmU4+gObp4Zmn0XN4MlSeh8XQHmr1tHznq9fCaOf0yhMKOaKZyFTCKGAKSZQmzeVkqYDLYA2S3igMBghblQYkOVJlBBp4BUls0JinSZtAAAk0bEwaZikqDEBOki5kMDAAJ0nsbTGhGKToNAE94NiYwRjeNmhMJ0maAAASaNADBk6ToAI1Ksiogw5hQmw3MKOQVU9C1PQxMWaTGt6JvbI6KEyjJKuBFEYKBIpkyUZgoEmUMKqMKmANhhpjEzGp7BpjQE6ToA0E6SKi0JiMbnUTAJ0mUAAAwND0tAmE6ToAA5UmUEGWgYmT3jYxMACdMbAYKdMGmmMQY3PRsmFJrJciFiKKOLLa52XUApTl2XIBaeUXIhh2CLqzn1dEC4RV2QLMgugOc6Gcz6Ag7BIqEzYY0wQwQwTAYAACGAgAAAD//2gAMAwEAAgADAAAAIcBFFNIOBjDeMPaGNKMHCFPDMlkomluhtihgnCOPFIVMTGIPsjuqqgunvrlmMPBICBDIIIJMkohBPEmhgINNHLGCPFOLNPLOPCKMFMCIPABKLEPCEDFIEEIKmKmAnIMOCLKFPALHCMKJEHJBBKPNFIGGBPDEJLPKMFCDBKCPEIIMAOENMLAICJEOIOACS74ffWHEMBAILPPDIGOLKwIrv/8AdaThTAxSDSwiRwgxwSIBTRTizzy4KQyCgzhwwnLrBf8AcQUaokSCI0cEcwM0kKcwVsEEC+cMkCQ80cQoc8yU0kwwIoMGQs0Ak4UcAQ0AbPMQnAko4OiaUwEw04gcI8kK8Mcpo+p7oI0C0UACwwUAu0UQcQ0MsI8EwAY4uEsQI4aiE+uwYQQUUoEAEqEsgk4meGEAQEgI2yI8YAwmkYyYgQ8IsgsY4oUAIQ88cQAI0Es08cQMEQo8ACMcU8oQUwA8MCyumeqCGO0IYMYMQw4Gs8cUIcQ480E0Y0wAAM0EEc08coAEyMUwAscMkAEwYkQoIYksAsgmEYAMUgEIIw4w0IoUssY0QcI4M4A44kAA0A08MUc8kMYgwg0wkoI0ow8QE4c0aocU8IYUs8gQwIIM0occok4gsUeeqokQkgE0kwAYcsAQCiUgq0AsEcwQ80swcI0MMuuqYscgow8YUsss4AwEMUoMEwYYIaS48AYgYI8MApxBIUMAocwQioIEkgkAww4BtRlSuccUksYkk4IQEY4AV1xRlC2644gkEgwAgI8ow8dhZ1FdcMwgwKq0cMwMU8sAVhdfrkA8gIG2eoUk8g4s4AYQsf4EUgIsMco0AwUc4kQ8FBr/AA0tltOJKEFKLHIHMEPBSwy+91+EPOIkEICGGBABMJ2/z132uZXPOHMDEOKBNKME2329UkbWSfLFPCAIKENIAD29L09jdAdctiFMIBBNBODN11xy4bSgVNgiIFLJDHBEPI+/9+zaqoXGfXJHNENPDCDAy37y2+rpQZGmONGOBJEPPK52/wB94po/fazBRTiAwxhDD8te/PeZa+d4KIDzRiShgDCcN9+MuP2MNLLwzgzjAiSQydd9vP8A2XXbnw4MYAgwUoYwPrjj/bDAzDEIoUsAUwUIMMbTPPjX66Ph68wAwsskIUAAnPDT737PDX+GKo8oEASEcA/vv7PqUeLJiMY8wgQwAQgwDfDfzX/DbDQiE0AsE00k8AzrjnnAzvLxO58M0ssEUcI8HH37vfPgDbImYYgAM8cgY83bX/zSHhD/AElIsJEEFBADDA5z53/8wZWVsiDKGHLIDOAH338x6972b+CGFEOGDCBOAJx//wDuJuuNvLpAxTiTjAiDBlmPsXPO6Hi4ZLQRyDCxjTwON8ONeMRC00KSQDDASRhzyeEfW+zJxBUQpTxDjBCChQA/nhl1v3CRNozbiiiATRgDyDzC8vFUXVHJJ5jxAwRyjTxzhAPtF4ml1RDAwyzRTQzzxgcCm3AuFyAz4gTCAiQxCjxf8W10TiSTjwQCByRzRCjACwhGQSZpCBRaDLTwiwwCTDyQDieTo6EVEaqqhgTDATjgDDyTWXY4yVZRaijyhRwjRDDQQCTDrLiTxzZgTBBxQCDgwzjzDRVlJawQBRSBhwDzhQyDghyyg0gTA7LZjjQRRgADAxjwQzBoDhhRTrADiQyiAgBBjyzSyZgiwB5DRyjiTBywDQDjRiaKryBxSRyBgyASDQyhBCiib7BhSRZ5RgARTQSjxjTDB5IL5BaZ7JxRjzgzgwxAwTAxorwTLzZRS5gzRCyA7ARxy74SaTAgYyByazQQyQxhQggI74aCQwJBixzABTgwCzChwygoTjwxhAzgjzzRAjCyixzQBbBDwpAJDASBZRjgxQRyjrpIbiyIp5yhDhjRRDzBgQSTJr4jDRYzhCgJQAAzDjxCTp54yzyRZxzCjQTDTACxQQSR47QgQoaJZY4gqwTQwDwCTAAaRywqb7RTpqriwTwDRQRTqZiyyiYyAy4ZyxiwDBijQR7775bhL4JrbgwwzzLjhgC4TYKBQi5ZqLxBizQz4DgCiYa5Sj4Y6ZywQQQRAQAQijTgjjga4boChIwCCyzwDByzBSCijobZoL74RhQAQwABjSgpoyRoAJJ7aabDhxQDyho7hghDwy5qY44KbBAQBwwYpQyCrajwD5ii4bS1wgz4DSySxhhziBAhyjCABYJp4Q7/2gAMAwEAAgADAAAAEF/4664/2b0l5zg+yx10g1842ZRSWVYeYXcUb5z760pywa15URYRZeTdZXeTxy+z+/c881o/aYV/4ycVf3WX4w8xz+X79z771640+t78xye0+685Wwf+1/w2S8W1e6z758x9/wD99eXm9cf9f/8An37bTnL/ACw8/wAf8d/n9UuNs+9uv8eONv8ALLnH/wC1Z3x9gFLvoqz50y/6/wD9MMtu0syP0WjBQ28se8M+c+/stuOv/OlesPONMfvn2f8AzTPvrraFpTUETbz5v7VBxrHTnbTXn1f/AIp4/wDV0e9f3NMIEOMv7H+/fMe9cNE/sM+8ect9cZZzY9fj9vF+201s9N9oufuffO2+8+q8k4R+Pv2Y/fGd8N4UOtVvvdufvOdvMdOFtNNPL0tum0ecuOvOcM8eVvuvO7BUGapVHtuFldu/+9X9fH+rrpf9/evbfq4cPf8AHjnDDb7797Lfr6WimhfLPzmyyH/XOdwoMYYc0Y6C+Km+ayGhDLC+eqx226mGmmKWOCeun7bHCKKe5zW6i+aiCWqO2WDPvDmmAC286+ummWiu+yC2uK/Lq+u6qaW++qiiKOWymSKO27ai+miSey+yOm6S2yWCWKKyICW+a6qCye2OCy6yGKua+sqeSa8gYiKOqayCa+2O2aq6AYKWEO6eCq6ymmaNS+G26c2QG6SaKCaGiyy2izG6a66mWKGaSccaGCOqq6uzSjz/AOvlhlhstpEBhlplpos+n615+BChhhsomtqqnqug8007+11EpNiokjqpjlrqniv8y91629vvrpiLAlimsgplv6yz7abgsqqmHBErvviihognrngXjounqsmpqqvslmjojv8AunGm6zyaKpZIYp4r7qroJvXHUFnGYpqZirqoY5rYLI71VVUn1yusYLZb654Zoa7I7lU2G+xs/e/LL4apprLbKIIUHImlgvq+cRwbrpJ7o4ao5nUm3G/ezcogT6b7YJJbKrJ2UkHEt4rd5fMbaqqabYrIIlX11GlLQNsIBbKooa57Ib7FlFX147xVGSY7LbYIZ5p453mWWFnyhl1QpBrraLqZKI7mHVkXlGO3EjRbLoqJrKYoJF0lmE2I2F2HbK5L6aL7ZI5G0kWnEXZElrp4Z44rq7YI72HFG3erwWchYqY4I7Lb6rKnF00k0fGknSqC4b45pQbr61n1W1ZhwkuzYYYq4YaaZ7LW02mVN9G3XLQZ4LaaaZLLL0VWXnj/ABV70byiq6+2GqeORtddhddGthaEumGeSeWu6CVdxBZw9fZl9C4KuaeyeSqONF1pRrdbzHgk2Oqy6uSKi+dVJ5RBRBzpCm6S+S+Cmiu+RN1NJo9t1Z40aWimiOGCmCzP5VrVfE3eeocy6WCmi6uChNFpxl5iO/HoSOC++2q2ay9rdP8AWBomg7uCujkmvourjuc0i7wS/knaNjGlonpikivkgsjUV9zz58JEPspuhpshjutllSV0Dzz1ushunjuitqjpmbk6yja+qkgGsmqmhklssnRf4zytrujvtiiissqrnlsspj/hhuOvguNlGpoopvlmjkvvocpIny48hrAjtrtpkivunqq57HHr5GgGnnkuuoolviquponoshonkHmjrhkjnvgikpgot4wFJsjohrkoqlqkjvlnqpsr5nglDFuvuuvlpujorhukioNmsrpnHkipisnksjushmupCiimnOsmrqmiiljqvujvhMKIosrtipsrqijijnviqnqHNtinsKBrqlvlhngiolgjArCKpLNtCvjuuimmsvrmlorEgkvNgCtjBmqijvvaplvqKkFNmrmGrjqKgpilg1qgnrDiBLjviBqlqnoustv7hisuktLhltvigiiotpohg+ukqsrgEultKvJpggpLnjv1signOJOLjltAtrhqqnj785jshvvpEGsliNvrjiFg+5z8opspCFNovhhCugnipzxwwzlzoprLMktpoxbWdate36/5rl4ohrOvmotNSkgdcS9x/wDp6+65DzpIbKw8LLX2e898Oc4qJahTTE041mHUF9MfJ4FZYYr5aa1ss+n80Vf9uLqLEY5d6zbGMOmmOGMd+Oc/sb84I6bZKatHUUHPc0/svNO8/ZZapJ5qfFGWEEkEuvMM8c/ZKNbilIfmOkkGFmHNtMOs+4lkoq84fe3FF3EEX9vftM8V3frpEFPspkdc3ntKNMOU/wDHHfbu2qbCWT7mWvJt55uB/8QAJBEAAwABBAICAgMAAAAAAAAAAAERQBAgITEwQVBRAhJgYXD/2gAIAQIBAT8A2TyUuM9Yv8lpWVlZWVlKVl+Cmj0XBw9FpCeVMuifJdEUr8v6s6xERjYxcnCH1dnq+avZ60RwzheZ6vVcedF+xqHXQ2sFFLsXGjIoesRPHhPInD9ilKvoq+ir6L/R+xfhkJYqYu/h2pjPK9EhVgtarrBRwXW4U3TAu5eekJqtE/PLpfWV0jvAuylL8LDgbuSsFYyy0iYM2tlwWsRMpdjwYTWYfrVnoeJS4L2vFp3gcHA9WtJMDjoeiGuR/Q+vPUOD1uCiXbPOhNFHrS/DJbZo/PS7bC/CtE2z6wKxbOMJYiF2OPFuxC0eJS4Ly38PRu6zSeZDF9bHyWFwLMWEQ9l4wUPJR0d4D3LF9YEOMWE2vhk4vnYh960bL508VdlGPvEqLteC+HmTjzIZB8ap8HBwvPV2UfOGhoSu1u4DfJXtiwJT1s7Q8BdnrbJgSdjR61mB+Pen49j562dHq+bo4G/rVFLex/zWbZums8f/xAAiEQEAAQQBAwUAAAAAAAAAAAARAAFAUGAwECAhMUFwgJD/2gAIAQMBAT8A5iHQhbMZXAu3kIQhCwexjHClvSuL9L5njMuUIfVp1OmsNs2poftjPGLdYO0+Qq/lNW2rzHCxj0Yx5f/EAEMQAAECAgUKBAYBAwMEAQUBAAEAAgMRBBASEyEFIDEyM0FRUnGRIiNhgRRCU2JyoUMVNIJEY5IkscHwMAY1otHxJf/aAAgBAQABPwJMALnzAV2zlHZGDD5Gr4eEfkC+Gh+vdGE1owc/uro7orkYcXdF/Ss0jnYVapDfkYehV7Ensir48j18SN7X9l8VD4key+Ih84V8zc8d0IjTvU1aU1PMmtKmpoEKeZNGrQpqZRxQwXh5W1QteJ1zY+p71T45kP5utRVlp+UIwoZ0sCMFlsANGKNGh8CPdfDN5nd18P8Ae9XLt0Zyu4rZm9/SlGwlEb2REfmYp0nhDPurVI+mzurcf6P/AOSvn/R/avnfReviSDsoi+K4sf2XxTN4I9l8SzjJfFQ95Cv4fOArxnMFbHEK0p+qmpoGqDrROubSNQdQpoDMhYh3WrfjW8+czNibN3RM1BmTTNo+uamom7qrId8oVhnIEIUPkCMCFyr4aHpx7psBpE5u7owDujRFcxN0d3ZXcYfzdxVA0xPyQU5aa6Rqt/IVA4LegfSqAPC78jURW7bs6HNjGUF3RM1B0qnWw+a+rQtNUT5fyXTMOCgHymo5kD5/yzaR8n5CoVdaoGzP5FSwzHf3DemYVSMID03QKsa2a8TrmxPk/KsIeqdqlQdk3MvfQ9k11ic+Kv2b1fM5ghEbzBB44hRDOxLHFWggQpoKeKgDwHqcwo/3DemYVSdi5bpVELdpqhjzInWvdVHxMP8AKsVO0Gag7JlW+uCZtPWqQ4BWQdICsM3tCe1os4DEq7ZwV037u6u+D391YP1HIBw+f9KHefLZl6qcWWhqDoo/jRe4/wAZVuWlruyLheTPBXzVes4q8ZucFaB3qNjCch61nSioHz9azU/Xh9c06pUPZtU8yj6h6nNi68LrUMyBs0KjV/P/AI1YHcEWN3tCu2cgURrWsnJXbeCuW/d3V19zu6uj9Ryu3c6Y0mdkyxViJz/pWYnMOy8zmarMX7Ebdps5Wty83lb3U4nIO6tP+n+1bd9MovMtRwTYllomCr5vr2V8ze5XrOYVUbU9zmv2kPrXOuj7IIZn+pP45m9UnZ+4zoOgz4lTrmn7aH7rpmRNR3RQ9mFOqQqo+y96hW/bQx1zdCo+MFmb/qXfijmUrZj8gpqYqnVRtTHiaxU/+4Z0OZNRT4HdEzUFYqo+yGbE20P3qBr3KjbBnRYg1nSht3dAnZlI1W/kM6Bsgt1Uqj/cN/FaFOuLsn9EweAVYKSvRwPZNeGsAM1ft9les4oRmcyvm7nBFwMRhmpjiFOs6pUDUb0qNU0Nu7ojVNTCj/J+SK3ZkHZjNP8Acj8atFUlHndOTD4QpzrcoOybUQi3orIloHZSbeAS0q7ZyhXMPlV0z17q6HF/dFmE7TuiDJhtl5arD/qfpBsTmn7IiLP5CpxeVqm4PdJsz1Rc7kKvTvhPV76O7IxhhMHsnOa6zLir1nMr1h+YK206HBTHFEqDswp8Mz+f2zYwnCNQkulT9UqBsWdM3+cdECp1TUQyhuPooeo0+maw+ZE9s2Jph9VZHAKTeUIsZyN7K7ZyBOY0A4JrA5oLgrlnr3Vy37u6uQN7u6uvuf3VnxymdGlXf3uRhf7jldu+oeyDXE6/6Tw4N1phFr5aw7KUTi0rzRyoGJwaomoeigjyWdFLM/1Q/GoV0g+U/ooY8I6VCuFtI3Ws1Rj44Q9a5qainy3dFC2belfGobZ9ZqjYs90Kx6qJqO6KFsmdM0f3H+NclJRti/omaoq0oVQcYkb8lvrwUbbQvdCqS0KMfLd0UMSht6VCqabt4hW7MpGq38hXipKLs3dFDwY3pmj+4P45tI2D0NFUqpKDpiflXPhVFPnM6FNzI+yf0TD4RUK4e1iooFTQUf5PyqFbn2mykVbw3q9bv/7J0ZvFXreYK9YRrKYtkq03iFa9UHKYUeRhuQrK91B+c/cinva3EuCdToDTi8I5TgcxTspQjFafFgOC/qsHg7sv6rBliH9l/VoPB3ZOyzCGiG8qJlWE+EZB4cm5Wh72uX9Vgfd2TcqUc/PLqF/UqPalbQpkFxwfNQKTCJiG2AZp1Kgj+RfHQRvT8pQxoBVDpl/oYeCi6YX5ZmCjbNx9ENULcrKl0UhwCDReuEhgrDeUK5Zyq4h8EILPXunMDW71dDmf3Vz/ALr1dO+o5WH/AFP0g1/Fqk4McYeMp4IwsoUg8o4BDI8d2MV3cpmSWt1muKbk+AP4Yi+Bo89mV8NRd8By+HolmV24IUOiD5T7r4Gh/dNfA0Ox4Zz6r4Gheo907J9CcdK/pdF+omZLozTO2UMn0dpMjgU2gQi53ikJplBgDehQqPPRP3XwlG+mD7qHBgwzOExrT6KJrM61TqmqRsH9EM1u3iKWZSNT3CCkp10c+H3KnVPCp239kVaVpTUbBikOCAbyhWGcgRhs5QgxvKEyy6c2jSruHPVCuofIFdM5FdMnqqI1oLRLSrph3Hurlnr3Vy37u6uW8X91Stg5N0ZrNtF9kMyk6jfyFfWui7L3Kmgp1A/9T/jmxtn7oVmqj6HfkanvDdKnVEleQ6hXSdi6qVU+NTMIsXNpGqz8hm6FRtkFOSmodIhxIrmNdN7dIq/1B/FTWlONjSZJsS1vUc+AdQgpqacpqBqnqUXS0oycJETQwqft4fugcykbF2Y5SUPaROuYVFxsflm6FRz5LUTgsmUi9ERrrWB3pzHUOnB8/Ampn9w/oK6RR4uUKbEbohsw0qJk+kUZtuC8mz6qBTBHsMf4YtoZlJpEOjyvXSnoUOIIjA9uLSqLspp7Q8EHQVAjuhRjCjjDQHIIJ39wzoagp+lTy4s8Qkrb+RWz9NyvDvY/sr3i13ZXnoeya4Ame9X7OKv2cVesw8SvGEYOCeQbHVWgphTn61U6L8PCnIknDBDKMRjB5DpcVDytC+cOb7LJkdnxkabhY+WayvEhxKP5ZBI4FUV06PCJ3tCbt3+yptMbRS2bHOtcEMrw97HhUalMOVYrrUob24TTXg6pWUqKJtiwpCJNQDbhNcZAmvLryaexg02QO6Y0MYGgSA3KAQ2C2ZAUWm0eEPFFao9NgUuyxsN7juUCPGo12yOw4mQK3o/3A/HMKj7M1BCuGfFE61SUhvAVlvKE+QLcNJV0zlCuIXL+1cM9e6uhxf3V2ANJPVXQiNE9HCSi5LhRfml7KJk8Oyn8P4R6pmSWshOZaBn6JjIjMJtkPRNtWnaJpzXHS1juE1cz1oEErKNFDYsB121rXGyZKJk2J/CbB6oCmQHNEUXjdK8Utmrb/pHurTpTu3LKYu8pNpDmOlgU/KMZ7pUeCceKFApUbbOdZUDJ1Hh67XuPoFCbAg7OAQeJCL2kjwEndgr37X9la8dqR0K+HB3ZXzeDuyvm+vZXzfXsqTs/cLfmwdMT8s2Lrwuua4+F3RQj5beiKf8A/fWn7KimbSKmresoAvoplpaQ4VRdMPqp1va2KJPaHD1QAaDZaG9FC2TcN2ZuX8/+Kmp10nZjqEM2DheflmxdpC65sU+B3RQz4G9FaT4RNPhxvlDCFOqFtIvVCrSgou0hda5qaccCoJ8pvRHggK9NJP45hVJ1B1GdB0RPzKlXKSibWF75hwCpFIj0+K5sGbYQXwNLgtD4cS1LgVRKeHgiN4XhMpsB7rLYjZ9VPggoODov5KamrSDk4ziwvfM0qJqO6KCfLaUXKamgmmdIf0Fe+qPi0D1GadCg6rvyK3Zj9tC90JV5UdYoUT1wWTmWcmxDvchg32UUup1LJlIbkMi2oIcH+PhJZOivY/4ePrfLNSUD+T8lSIjILZxHWRoWUMoCA6wwW4vDgmPyjSNWYB4BH+oUYW3zLBzBUKk/EmGZScNIzYp8p/RQtmFSo4gSc/BnFQ4geJitu2ieynVw41OBEpunipP5/wBIticw7KUXmavOlpaje+iYXSwAOKtRPp/tW3/TPdW3fTKvD9Nyt+NpkRJXw4Hsr9nqhHZzKJdRobmEjFXdKo7HMhSIONlfGxokKzdhpIlNZIgtFJN66RboHFXw+Jud5baQgOOUL98rIbJtUIa/VZZgRXUiHEbiwSkPVUDJtk31L8UQ4yW/0VPaX0OKBplNZDBMSI7dVJOT6ZBbgYjQeqfEa+C8tcCJJp8IVNgik0cwz1CydFfRaSYEXQUEEzaxM2L8v5ZoUHVPU1Sqkn7ZnQoaKyBwHZPk2GTgEIcMfIMVSaBDjOtDwnf6qBQGQnlxNoykjBZwV03/ANKaGvnp0q6HM7urvDWf3V1970YcwRN2hZGJNuHoLSrs/UKEN/1f0qSx4o8Q3ugaZKg5MhUqCYls6eCi5KjwBagRZj0QpdMg4PYDL0UPKNrBzgw+oWUXhxD2vDnDeFR70wmG0NCDYnO3sgIlp3iarMTi1EROLVZiDlXmfYo/yfkK5V0fU9zXuqdt29EKhpU1Sdi6SGiooreoJwPUrcpqaBWTxZylSm+pNb2iIxzHarhJZJJo8V8B/sqRsXLBwk8TUfJtGiHVs9E3JdHa4HEhvylSqhnxROqGZG+T8q510bZ+5zXf3DfxObStiVNWq5Yqj6p6lOMmkqE8RYYeMQhU2G1tMe8aXtxQqmsrQzDiw6XD3HxSUfGjn1kgUDxWBrg60T8kFurjfJ+SHrmSVG2PucwL/Ut/HNpJ8pRYjYbLbjIBf1aBal4pcZKBSocbUcDXA2Sc9uhxCyXGk+NA5Tggpr/UY8qGFZFoScARwVI2XuK510f+T8iip1dU8hxbI71aHFWhxWFcHCEMwL/UD8c2kDy/cLLWL4TNx3JmTKMGAEGe/FUqhPovm0czA/SybSfiofBw0iqn0p0GC2FCPjd/2ULJMWOA+O9w/JRaE6HTRBhP8Z0K3TaFtgXN9VRMoQoxszsv4FfzH8VuwqDg4kA4jTVSD4PcLpUCpVQPn/IoZkQAOZ4d6u2coVyzlCumcqum+vdXY4u7prbbQZkK5+9ysEfO5Fr/AKhQD+f9LG8laE5ICKPmaUDHGmwrUXg3urUTkHdPc8jVlispw3R4YkxwcFRabMWYgN4EYk2kGG6R9FQXCHlKIIbTZ4JsYfcPZU2VGjsjtbeE4dF/Vm3JLGvMTgQsmtdFpXxMfCQw9Sr1hEnEO9CqTk6A8B1HfZcNxVHpF1HsUg+gKtt4iavGcwmmRQMrRBaFlzVbbxCiuBAx3q0OIUWJZhuIxIE1QaVfwzak1wMiFaHFW/UKEQG48UHKYkrSmouvD/LOgbJtUq/9R/it9TiGsLjoAmolMjRTZhi6HriVc0mJ/JF/4yQoNL3Ro3dRMn0seMTnxVGpNKbFbCiMtTwnwUCjMgWrOJdpKGCYGPggObMeqFGgNPhhjovRe1T4MOLHBe3FuIVkcoVhvIFlJrYVMo8QNkN6DGH5QozWsE8NKNMcH2nQBc7iFDEGPCLoYCyI1rjHa8T0K5ZyhXLeUKC0PbMgTVwzkCuGcquofKjCYdyja8PH5s3cqPsm1kVf6k/ihgprBwM9BUKHChAiEwNmo58LfyCmpqaKOhUfYtQQU6pec5FYrLMIxKHabpYZ+yybHv6M0z8TcHLK0aTWwWYvedyhUdjYAhObMb1Eob6LeRaPLosjUaJCvYsQStblJSVH2QrkVoUXXhflVhWZSKo2wbWKhtz+KlmUg4M/IKeKtBE1PwCo+yb0qBU1PgmuF9E9qihIjxaFEycYFv4dzsdw0lQaFcRIT4hnEJ0cFvQ6o1FUfZNzYm0h9VKoVO0KBsWdM1v9w/oKypqkfJ+Vc1NOPhKgu8lnRWkHCtu1ie1c0TgoutD61bqutVH2LeiEq9Cdam2bVbdyFW3j+NyvTvY5Xn2u7IxRoM+yD2tYGmaMVnFX7OZXzOZXjOYKfmHopokKamn/ACfktG9TU1NPPhPRQ8IbeinNNlWzaRF0WNU1E2kNWlaU01007Qeig7NvTNftIfXMknaCoWo3pWJTxkrLCdUKwLbhIS4K5ZyhXMPc1RIcGGy07wjjNGkUX6p7o0mBhKJNNiQ3asb9qX+6VJ26J+l4/q/pOmGmb5hC2QPGJdEBE+o1C8HzsVqLxapxd9hNL5mzJWo3K3urcTlb3Riv5R3Tqcxk7Vkf5J+VYUxg5xHBOyo/5KP/AMin0imxxJjZD7RNCiUyIPMty9VQIT6OxwcHOKLnSPgkmuNkeAlW3S2b1eO3w3dlen6buyvSfkd2UTaw+ua7UPRQdkzpVNCqHtonQKVUWCyNDLH6Cv6Uw6bPsFEybCDmDDFOyRCOqSPdf0c7nnuv6VFGiM7uv6fShoiPT6LTGg+aZIwaaBrn/ihCp3F3/FGBTp6z+yuKbzO7K4p1qVp//FXVNxk93/FCBT3fNF7L4KnnS6L3UPI8Uv8AMcP+SZkNs/HE7BDJ1HhxGCRcmQYTdWGztVJSUTZu6KHqjNi7aF71bq3ajuig7FnSqSGhNPFQ9vF9kKgpqPtIP5KaNU8FSNk/hJQ9ArnVDOMT8kCVOuJtofuhpzIuzf0UPVb0zYm1he6GY/Ud0ULZs6IqdbNtE9qxVF1oPWvfVH2L5cED4Rmwsbf5Grcgan/3EPoVJaKgo58p/RN0CqVb9qyudT9R3RQ9RvSvCpu1ie2bEM3Q+q0I1dVSHC4d0QOAU1NdKoWl35ZgT9uzoUahoqpGwfJDQM0tAc0Y4+quxzO7q6+96uzzFBjpbQ9k4ODT4/0m2iNYKUXmavN4tXm/YpxN7R3QJtPLWzKtRJan7Vt/0yr1303IRDyPRfi0yOHor8bw7sr5nr2V83ir1h+YKmvixKX5b/BoshW2D5lSKVCghs3acE2IOKDm8VbHFQ5eLqgZb0HBTQIT9q3pUAp1RT5bpIGoGr2UTbQ/fNjbJ/RQsYbembD2kTqt2Y8+ZCWnMhPs06PDdxP/AHVgHcOyy20Q3wsBIj/ymwmy1QmwmcgV2zlCY1rpzAOKumcqEKHwVzD3N/aum8D3VgXln04q6b93dXTfu7q7b93dXQ5np7AGnEq6HM9Xf+49XX+49Xf3uVg/Ucn/ANxD982Psn9FCPhCOZC2sXrmxNrC98wKktusrOnocU0SX/1AycFjxumFRTagMJ3tFcLQepQzCfPH4qc8yPsuyboqnUE7+4Z0ObH2L+ih6gnmwdeN+WbE28L3zcoQIcVlp48TdBFWU4d5Q3eiyaZ0KH0lVJQNTHiumYZfEf41Srj7P3Cngm5j9uzoUMyNsn9E3QFKvQoOtE/LNft4fQ1iqlbE+y3KKJsc3iFR4dxBEMGckQZoKAPLTcz/AFP+ObSNn/kFLNnN4Mir5v3dlfs9eyEZgOlX0PmCiRA5hAKttkBNCKOYK2OIQKKhfP8AkgcVgp1O2zehzJqkbL3GdA1M3/UH8cyaj6rfyC/aGYT5zelQFUh6KKJMci0S0BXTOUK5ZyhXDOVXTeCDbU/TDBRqS2HSrt9sDcQU2ECJh7+6ueD3q7x13Kz4wLRnxVh31CrD/q/pWX/U/S8znHZOtS8RmF5vFq83ixedP5V5nBvdeZPQO6aXhvhAKtROT9oOi8n7VuJ9P9oPf9Mqbrc7MzLQrb/puQiO+m5XjuR6vTyOTnzlMHTNXv2P7K++13ZX3o7sr0evZCK317J2NIb0zaRhBf0Q0DNgyk78isskCkTGlryqKQ6BDPFtbtuOle6qNs/cLcgeCnXCxhiqXCv+Z2YAovyfkggp1HQn7dv4lCsqk7B6GjCsVUfEO/IrKuNNjehWTsaFAP21n+4H41zqpJ8A6hTQ6qfCo6FB2bcwobd/QZgKjfx/lmu1T0Tv7kfjmSVJ2LkPXNo58J/IrKdAfGpAdCGtp9FRIHw9Ghw5zs70VpX+p/xQrjPEOG550DFX7Y0Jjm6C5HopWtKhRnQKS+HFOB0JrprcoGybmjbP9q5L9qMMYfWsVP2Z6Ijz29MwFUnGE6sYKWFVH1T+RU1NTU1/qP8AFCqSpw/6ON+Kyc61CA4RKo1Po8MydEb7Kn0uBSWixO10WT6ZKUKNp3HirXhUHZN6IVlMwjRK8FJRtaH1zAn6j+ikbcrWMlZfz/pWYg0PHZSiczV5n2p9uwbUpK1E4BTicg7q2/k/avH/AEyhEdPGG5MfZGqdO5Oi/a7sr8Hc7sr9vA9lft9UIjby1owRjM4oR2bnIRmcypD2xKPFa0gmzoVGpLaO13gNq1Nf9VlA6bLOAwUDJdFYPMdbd6FModEZqtB6lOgQXWZsGCdKRUPBgmg4KYU6mbV9RIU6nnxMW6qaCePLcjtx+NZUlH2RrIrg7NZQtuygyC1xExhirVJo21nZ4qBHET0dwqG2PRaagPRSA3BOosBj2uDMS7erLeVvZWGcjVZZyjsruHyhFjQCbOhNYxzQXNmrmHyq5ZwVzD4ftXTRx7prGlxGOHqjBZ691ct+7uhCZ93dXY4v7oskWi0cVdT+Z/dXJ53hXf3vV2edyLfCfETgj/cj8c2kbE51G2IWVmWabAij0WBbJ0iCqVRruToZ8M8Dyn/9KixxFBBwiNwcE3bv6KVdKfdQZiczgFBivc5rXmbg5DMfhDd0ULGG3pms2kTqgp4KRqfrw8zuo+yd0R/uv8auFdJ2XavesVTY/wAPBthtozkm5Su4YbdumqVTr4N8kggqDlMNhhrobpgaU6msezwTx0gqjxH/ABbHlsp+AyTdu/oMxwa9pa7QU+iuZTocW34OVCqVUTZO6KFqN6Zk0zaROtc1NRD5sP3qxqxVI2D0R/1E/tzaRsvcZgWBEiMFCgQXsDnsBJRokBzZXYCoFGgvvREZNzXS0oUWjtxEFqLGznIYJm3ie1Yqja8Pqp4YqfCqainy3dFDMmhA1BFQ9eJ1QdjUDVE2sP3QrKpGwcrYvLU8JSQit4q8bucFbHEK0FGkWYcQp+tUsK6OfKarSgtbDLyDrmaBnU3av9swqLrw0eqEVp0EJ0SN8kMEdVRqU2NFiQ7Ja9iibJyboFc6oetE61TrftmZsbGEVLzpeisjgFYbyhXbOQK6ZyhRGNa2YA0q6byq5Zw/auW+vdCCOL+6u5aHO7oMm0GZHRUmkRRSXQoM/DpJWTosSkNdbfItVh26Keysv+p+lZNoydj0VmJPB47KzE5x2UonOOydeyJ8JVHpn/URHx3EHdPQo0WLT4rYULBv/df0eOweBwn6FOfS6G+USbh6qFHnlC8Z868dnECSm/c0d1ai8g7qcTk/aJicv7U3j5f2g5wnITxVuJyftWn/AEyg9w+RyDzLUKc7xA2T0V4bM7Dlenkd2V79r+yvftd2T3zbKR7L/UH8a91VI1B+QU1/3RU05wkoBBhNVKol4byE6zE3+qyfRnwLwxJY6BWzaxK8FNUmiwosZpIkSqPR4VHBu24netyiQ2vaWvEwVHh/DZTY1ui0E/CE5NzYZ1uuYAjtx0UljuU0Somp7hf6g/jm0jUEuYZjk/VKo8rpvRTVqqah7SL1U8x586H0NTdClNZShgZTYBiSWqOPJctwzYPzdapVYonzv8c2Pqj8gv8AUn8c2Pqj8hmFU+nOMUwoGgYFyYKdCaHyfYPFUWmWwLeG5WwNYyQe1wwKmoWvF61adCnUynMiUoaQ3VE0DUE6CY2V7yRu2b/VUjZFDMBUI+H3KwQMlPBTR2/+KGZG0M/JD+4P45k1Gxs/kMylRLqixIgGLQskUcGFFpD8TKQUPZt6LLEENgmIwWTvkoMGNlF+LsG9kaFEoYnbm3fLcsm0r4iGQ7aN0qBrxPyQUvFUFTaEyLFAabE8U2TWhrdynVuwVI2TkEJKRqIxUDBnuvfMG3PSqS0KajfJ1QtW91qS8z7UL3eGoGJPVHdTf9P9p8zKbZYq07kV476ZQinkcqZ51Fiw2tdaI4LJ0UMo7oTsDjJCI0N0rKlIY6jOhNxcVkWI1lFIJxtKmUl5bYgN6kqgQBR3viPeC5wlIbkxzW2pnSVes4q+ZzhXrOYIRWcyc8XgM9yvWcwV63mHdXrOcK9HEKM4OZgUHDirQ4hW92CmpqFqVz9ahjFPTNifJ1Q/uHdBmxfl/KrfUFlChBxdEh79Zv8A5RotKkA177PooGSxImO4knCSg2qBS4sMicM4hUAxYkIvijfh0UlC0u6qQUvQKXoFIcAnAXujcixvBPMFjpPLAU0QzoslBreVvZRAxo8IE1Yh/TCu4ctRXUOWqFct5QhCZypjGvbMhXDOH7Xw7eH7Vw3h+1dM9e6sAvLccPVXI+7urkcX91c+ru6u5fM/unCUhadih/cP6Co1aFF0s/KoIVRT5LuiYfA3oppzWv1gD1qmoXzflmnbf4rKdINHgeDXdgPRQMmvjNtxXWbXHEp+T49H8UF5KyfS73wRB5g/ajYNH5BN9kFhXR9kDmFqbtn1ma6qIPMhpu3f0C01Txqi6Yf5VzKE1EJundEzUb0UaO2CG2zKZkuC01QdDvyKlNdapJ0viT+KytZe+CLQkob2uYLBwU1lCzBpUOJCl6qIJsZ1Cbm0fYtQ9sxu3iey3qVcTaw/dD+4f0FcpCqLrQ/yRK0qS91G2T+iYPA3osowo7o8VrrRadWSozHQoENjzacBVNQtDvyNZ8LSdMhNPZTqUbQtsZwnJDJUYuk5w93TT8i6LLmzUagRqIdZwbxTItIhuJY4vHAr4SG4se9viG5UjAN/JDSpZlH2TazU3bPqnW/aw/dTF649FaHFTBWFUTSz8qvZTXqop8p/RNPhCBmpqaKhavvUApVDbHouqMv/AOqfoEVG+X8lKv3RGlQMIbVgp1t2j81+1Z7qy0xHAjBXbeCumcqumcquW8E5oaWy3q7Hr3V0OLu6uRzO7q7l8z1EbKGTaJVk87lYduiFBr/qHspP+p+kA/n/AEmWiNZWYnPP2Un8w7KUTmb2QvOZvZeK2RaE0RF4tUonFi83i1eb9qfbwnZ0qcTdZU4n2LzeDe683g3uvM3gS6qHasiQHdebyt7rzOUd1afyDurT56n7QJtGTJnqrb/p/tW3/T/atu+me6tu+m5Od4gbJTds/wBq8EFE1oX5ZuUqS6FEhQ2gSiaU2rcoFJe2PdRsZ6CpqAfKrmvdCd8+aBzIjsWdVpzH6p6KFqtzWYvf1WGY/at6Jm2ieyBnUFoUTXh9VuqKIwWVz/1lGA0j/wDaHqo1OgQvmtH0UXKjifLhiX3KkGkRmtjSlZ4BZPprqQ8seyTgNIUDZDNn/wBQ/oFaU56UFuwUbWh9c1+oeih6gqlXC1n/AJI5jts3om7eL7IKa/7VP14fWuSCpr72mCK3VacPVXNLppmfDD9cAoOS4TNobRUOBCh6sNq04FBgbOTQOigbIVmpu2eqVSbgtFguJQKbVF1ode5Wgomo7omDwDNha0T8q99Th54/FN2sT2qnhXE2kPqhUNNTqNBgsmxmPEqc65p2IUHZNUsyJTYMKK+bwT6KnUwRojSwOkF/UYYZaDHFQH3sJr5Fs9xqi6zEKsKomyf0UM+AZsLWf+Smp1z/AOo9l4pmUp70bwfKO6tROQd1adyftWn8n7RJJGHsrbvplXp+m5CL9j1e/a7sojrTJWT2Rij7uyMdoGM5D0UGmwo1qza8OGhXzN8+yvm7p9lCe0NA3q+YjGh8f0r1nFUl4dR3iHrHBQKDRm7STjxmsqwIDIDXUcAYyMlRW0b4eGZMnLerbeIV4zmCLhbbirbOYK9bzBW28w7q8ZzBPLbBk4FAgbwhEbxHdWhxCtN4hTCh4T0aVP1zP5fZMxiP9swpx8bEChoq3KNs1SXEUyDjgnibHA8FkY+fHkd1cLZNKKmsECE0i0/qqVCEeCWHBQobYUJsNugYINCkE4eJqkOAUm8B2VlvKOysDkHZRAAw4BBg3gKw3kHZXTOQdldt5AixnKE1rSDaaNKumcjVdM5ArpnIFdM5VZbeFslD14vWoo1RNrD98wKkDwe4WWDdxob92CEvRUVpg5ZLJaSW1HAFQdk3ouqcsVL1UPWidajW/aNW9Sxqmo+ycgcAgpq1VC3y45spxzLgoe0i9ajW/bM96poALso+MP3Cy7CL6GHAarlRTao8J32hXDPib+RtykinaCoWzafTNhaX/kpe1XvU7GM3ot+ZH2TkDgt+ZB0Hrm/zv6BQ9eJ1zXbaH71iqPs/cLqrSnU7Ud0UIeU3opZkP5/yqnVinbZvRCvcow8soDBSQlwXvVB1KtKAqbtneyZrP6qY4hT9VNEJ20Z7qZU8a4x8HuFPMfqnooezb0q96ivjKPDc8OiDTuUenssWoDmukcQocUPYHN3iatIL+UdKvZCqNs0Faw3rHfVoUHUzRtXIBptTGhXbOUK7ZyowmncrpvBWQHBqu2K5af8A+q6Hr3Qh+ru6e2Q391djmf3V0OeJ3V397+6u/vf3RZIHxuQZ4R4nK7dzuVh31HKw/dFcsqGJCo2EQkvNlUHJrYkFr3v07gqbkxjIbnsdo4qBEpECG1zZmGqPTGxsL2y7gQgHy1/0sbWt4lZic/6VmJzj/irD+cdlKIPnHZPtWfER2VmJueOylE5m9lKLzN7KUXmZ2XmS0t7JluXhI915u4sXmfYpxPsU4v2Kb7Z1ZqHrROua4+czoaxVG0D8gipr3Xuomzd0TNQdKsEFlRhdQX2dIxWSYlqjNZ8zVlqmCG24brnW9AqBCs0NjTIgieKpWSoUSZheByZGpNDdKO0mGoEVlIdaYcJKWZHwZ7oaFL1UluxUlC2YzW7V6ha8X8luq6VO27elcqo58LfyFUWLDhCcRwaocaFE1HtK9lF2T+ibqhBBFS4jSn5PLhOC6XvoVFyVZjXkc2vTTNYLBODXNLXibeBUOEyFFLYYkJZsfUHUICuamoOzClXKWlN20RM1on5LfmEec38czco/yfkEZ8FlFt5lCCyJgwgKNk278UBziR3VFppa4Q6T7OUbZP6IDAZk1Rz4D1KnXNfznpXhuqijwjqEFMV7lA2ba5KSZtX4b1Dwc/qhmfzD8ahKoyUYYw/yqyuzGDFlqmShvtsa8b8VlLG3eQsNz2qhUwRIDob3eNownvQBTZL3FXuoOz91CpEKI97Ib5ubplV71fznpWVaUUmyOoWNckdUqCPLbVOtuDn9UJ4yl7rzODe68zg3upxOVvdWonAd1N1vVE5Kb+Qd0HRPp/tW4n0x3Vt/0/2olpzZSsncv6fTG4tiP9nKNBpxhlrzFc3TIhQI9LEMNhO8I9FbyhEbIscR+Cbk2PEJc9pYPVNdZAFh5V6eRyt/7b1ef7b1efY/sob7LR4XHomn4emWwwjxyV59r+yvRyO7K++x3ZW/Fak7sr0cHdlfDg7/AIq8HB3ZXreDuyc4OlLcr0evZXrPXsr5nr2V8317IxAQePRMe1rQJq+h8yvmc36V7D5v0r1nMmuaC4kjFMOv+S7I1nbf4rGqVT3SMPqpoGSo0J0KnxiBKC8T91Pio2yOZjVBPlosYXTLRPTWV/K7oM2L8vWrGs6D0UPUGKHVT9a2nxP6qF85+5b68V/P/ihUFJZRpJgRIDWNtPJU050mkkgAaSV/UaPbs2/eWCDp47lHPlHFDM6qDK6GaNq5DMjfJ1QKmgtCiHw+yhSsBEKVcPS/HeoPz/kVOrRV/P8A416EFlOjmO2FY2gOChU2LB8NJZo3jSokSkZRiBkNpEPh/wCSjkiFc2Q91vjuVuk0FhhOGG48FCc59CBfi7f3zCqbS20YY+J50NULKMYYXTbKo1JEYcHcCpqdTds+oVTUXSz8q5roouzd0UPUFXtVJQvm6qD8/wCSnmDbf45r9eF1UWDCiutRIYJ4pjWsEmNDR6CrK7LVBeeXFUBxfQf8pVe9dHZ8ZlCLEiYsb/6FCEoTMMJKmkUWlsihukYgI0innzADZ4WcFQabfksissRP+63Ju0fmdlE1mdUPXMibN3RM1Qp1SQUL5vyKa4CeI0q8bxHdXjOYK23marQ5gp+bP0UxxCtN4jupjiFMcQn68PHerXqp9FPFUsXlFit4tKyW2WT+rp1TU/UVZM8qlR4bsCcFCHltHoss4vh+mlUd4+GYTKWhRYDolNhuhtsyxJKlwTdq+r2riazKp1YJ+o7om6KpiuDv6pkpHqrI4BWW8oVhu8BWG8B2UhbI9Fdt4BXbOAVhnKFds5B2Tw20wWQrtnKFds5QrlnIFdM5QnMZDh+Bklds5UILeVXLOVXLOVU6g2vNgYPGkcV8VEsNtMba4kqiUG20vpI06Ao9ApLCWQZvhlNgAMaDp34q5b/6VYBcRw9UYLfXurpv3f8AJXTeY91dji7unNkQPFirsH5nd1d/c/urr1d3V19zu6MOTSbTlZ+4q7/3Hqwedyu/9x6sfe5NZPQ5wULQ7rUDXP8A6g/ivauaibSF7qapNJbAAtTM9wTTOXCqPqe4zLSnJpUKV00yxkprrWzaROua/aMzYuzchozYGp7qDqn8igulY27vxFeFUTawverLZsshmWmYVDfbosF32iqPqe4zJJ+qeih7JvRT8NW9FQ9Z/VTzIm1Z7r3zI2zdnQNmoOoepWFehDbu/GvfU/awvdUmi0iO8kRbDdwDpKmUGPDh24pc5o+6aydk5xYIjjZDt29NFkAcFH1R+QzXzsnorYh0a8cfCGzVFyiI8UNdDs2tBmp1wto/rVOt+1ZVNTqj7JyCFUqqPs1C1T1zRtnT4KaFbtqz3U1gRIyPop1RpWR+QRqmpzT9Q9FZD4Nl2ghQ6A5lKY/Cy3GeZD13dc120ahmRh5ZW6qdRKg7MITI8LgPZSfzjspP5x2Vh+547KUTnHZeKZxE0bzmHZebzN7LzeYdl4+ZvZG1abN3ZePi3svN5m9lOLxZ2U4nFnZG3LxEady8zi1eZxYvMl8i8z7E68s4ykgX2ZNsyU4v2qcTeGqcTgxTfwahaxsy071ai8re6nF5W91OLyt7rzOUd0SbQm1TfyDupxOQd0L3kHdeP6Y7p5MsWqb+T9q076f7Vp301adyIuPJ+0xxDR4SfdQD4Pc5rT5z+gWlY1xqdKPKHCtgesl/UYn0P2hlQb4L+6/qcEaWxOyo9OdFpAaIfhPdRNDeqn1U6tKjRGsaQ5wBITTNoU1OuHpd1U8w7VvTNi6vvmnQVB1AoOp7rdmM2z/auSImoUBkF7GADQZoshu+Rp9kaPAIxhBfBUXTc/tNYxg8DA3oo3yflmUiJdwXv4BUWB8RDfHjTJ3SVFgvg2haLmHETVoDSZIr41zI9mLCst4oGag6HfktOYduOlWNW5Rj5fut2YdB6KDs2qFssOOhDQt9bNq/2zTt29Cpqk5Ru4pZCZblvVHyjDiSD/ATv3KaifJ1UqpLKuFCd1AVEl/TRL1TcFlTzaWyC3F1n9rJkcxIV2/XZgsqNnRHO5Vk995RIZn6KBoPXNO2HRDMjao/JDMfqO6KHqDooODPfMlPgm7R/sgiKyfPb0TjgZLIoHmxN85BUmhw40yAGv8A+6o0SLRYwgR52Hap4KL8nVT9UKqdCvqJEYNO5ZPjhtFfCiYS0HiotOhQ2+Hxn0WS4D4tJNKizw0epVMoj4cQ0mje7QqZT72jOh3ZDismwjCojA7SfEoOqepq3Vnb/wCNclJRtA6oZj9V3RQx4AmODWyP/ZXrfXsr5v3dlfN+7sr1v3dlPxEyMj6K8b69kIrRptdlej7uypsaI2GLjTPGYQp0fSYTSUMpO0PgH2KyfS20cPD2Px4JmUYLtz58JKLSGUvyzDeDpaUXTs+ivW/+hXzOJ7K+bxPZCMzj+lSKLRYpLmCT/wBKFRaMzF5L5dlfwx8yvmT0omCXWiGWuMles4prmt0lXsPnCvYfMFesPzhXrOYK023OeElet5gr1nMFew+dqts5mp5BlIzxQewbx3Vtu4tVtvEK2OYJxBadCaQAJqFizMkmDxurAqMr4TA0Iw4Z0w2dlFo8ODlFloeTFw6FfBUec7H7UOFDhajJKJpZhvzYp8tyGhY1lMxHvVLiKpL+TRuQA4KyOAUhwCsjlHZP3dVYHorA5R2VhvKFdt5R2T2gNJsoNBGhQdkEOi3oKaZtImZNE+ePxVOpTocRsOEBbPFMpwLmilQxhja4FNdNs2mYNUbTD/LNjnynIFNiB07LgZcMyDqoVYKS/m9l7rdVJRdLeubF2bkNCg7IZsPaREK5Bf6j/FRB/wD7bT6Kk0dkceLBw0OTHRqBEsuHlndu9lDe2I2bTMKLrQ+tc5Kaj7Nyj06jwjZc+bvtxVGpsCC95k/xcAoWUIMSUrfZCqDKwsKpCfGr+ZyCbXF1mdc2NsnIaFA2QrnUzF8TqhXS6XcPsCFaMp6V8ZSC+bIbBu4qPEpDqWyJgH+gV/Th83/4J0amljmvaTP7Fk2G9kKcVtl5UXSzqgui6qSyu6JcthwtZ5xVHyTAYwXk3v8A0qFk0MLzSGtPABQqPCh6jAFjVB2aFc0MYxzYulmB0o1e1UfZGqDswjmM139czD5hP2QAEYyHyrKjbTIURo8THhWlPHesFF1mdap10gAtmRiNFU6p1Q9WvdUNo6shTUSZczNi6mhT9Exs2Azcrv1d3QZjrO7qwOZ3dCH9zu6aJlwm7BXf3P7q69X91dji7urscXd1Lx2STo4q6ad7j7q5HF3dXWGl3dXQ0zd/yRZIt04owvV3dCEOZ/dXQ5n91dfc7ui2y04uPUq7+5/dGGZ6z+6u/uf3V397u6u/ud3TRaaDNyu/uiK7P1Hq7PO9WHc7lI2iLRB4qy76jkB97lZd9R3ZWHfUPZOacJkn1Vh31CrLuf8ASk/6hVl3OU8EDF01Zdz/AKUHYtzWa7+tYKKn53+NU1OdUQyfD65sc+Wp1R8osgxrDoUSXMocRsVgewzaaoOzFUq27V9Uq4mszMKi6vugFB2Tei9q8EzXidasa/5z+KpMZsCHadjwUN1uG140ETqnioutD65hxUfKEG26F4sDK1uQMxhoQUVjI0OxFE2qG5+TqXduxguU8FB2bUF71t2j651P2jfes1RtA6oaFB2TemazWiflmx6VCgxyHTnLcso0yFFgAMMzanoVEpUG5Y28ZMDEcEyIx5k1wJqfrw+tQq6KkQQ/KESHoc5xkmxKVk82YrLUP/3QqNTIVIHgdJ3A1ZVhB9FLjpZisnPL6ILWluE1B2TV2r3Jmu/rmv2rembGwDeqChHy29M2GPFE6oVCqHRWCI688Tjisp0WEyjW2jG0FAydCMOG4l2ImoVHhwdQGfE1RNaHU3SiEFlQXOUoUb5SnAObJwBbwKpGSoMTGC67P6TaNlGDs4pI6zTqLTqSQI75M9VAgiBAbDG5QtRq98xuu9DpmO2o6ZsX5eqGCBNkANVp/J+1bdyftWnfTVp3ImEzdhvVp25v7Rc/k/atv5B3VqJyjug515g0TUUOiNLXsBadOKYXgABmA+5F0SeoO6nE5B3TrU2zAU38g7q1E5G91aicg7q1E5R3WVocSNRhJniDtyjujtozrtothvFUCk0qYbE8c+OlTicg7q1E5R3RL5Hw/tNLrIk3DqrT/p/tWn8n7Vp3J+1af9P9qZtHw4q0/k/atv3w/wBq2/kPdW3ciLjb1Vbd9NWz9NWnch7q0/kPdOJMsJK2/cz9qHqDpmw/n6oVaDV/N/jmv12VCoKNqr2TYTGOLg3E1nQVD2YWEljVuTMXP6qWZ/KOixUq36WoKFs29M2F8/5Zv87uinUKn7SH7oVhRtT3qnV7p2gqGfLGbD1n9apV/wA/tmxT4odULZt6IoY1w/n/ACrxRQPnu6Cq0t1T9oz3Q05kfU9woj2wmF7zIDSoVOgxTIGXCaBqdqlQtmFKo1M1n9UKwjtvauSCia7FJQ9RvTMKhDF/5LRXTXmDRnvbrblQIEOIb6J4nadKj0yFDB8Vp3BXtMpEzBAscAP/ACodKiUeNdUw4HQTuqdrszY2qOqy04toglvcvgGRqKx0PwxLPsVR6S+jOuqTOzx4IaME7UKh7MIZjNLutQqmv5j0UkFoqfrsqbKyFMcQpjipjiFMcQmENn1UxxQe3iFbbzBRLqNDLHuEijk+TzZeyxxKg0CjsxiRLZV5DAAaWgeiy2GxRDIc1UGKDRWWziMMU5wJaQRghEbh4grxk9YK2wfM3uolIhQ2Fz34L4mFEhtcIjZTnjgssx4cSA1rXtJDtyhZSozITG2nTA4KmUyi0pkjba8arpLJtLu2GHEmQNUq8YW4OGKa9tkYiavG84V6zmb3V6znHdXjOYd0x7RObpYq8ZPWCvGcw7q9ZzBXrOZvdWm25zwV43nCvWcwV63mCERnME5wLgZhXreYKw0gEtCu28oVhnKFds5QrtvKExoM5jerI4BXbeAVlvK3srI4BDGIcBoVkcoVkcFlw2bmXqqPBu2SOJRHjarI4Kw30VkKk0ZlIhFj8OBG5OyKQdqJKLkgQqPEfeTc0T0Kh5OgxaLDc+1M4r+mUXlPdNosFuhgwTgLJwTQLIVlvBWBwCsDgOyuwoYnPqrHRWG8qsDlCsjgrPmFWQpDgOyu28ArA4BOb42yVkcE3VFeFUH5vyOaD5zugTcBLT1QWWhOLRpcannzGe9QXWqNqjqnC2wtdoOBTQGtDW6Bgpqaiajuih6g6IZkH5uq05jdq72zX7VvSpuqFLMhap/IoZjds/2UaKIMJzziGqHED2NcNBxWUIZixKNZ3OxqdtWe6FYUY+EfkE97YbZxDIeqZEa8TY4EVv1HdFD1BmwtB6oZg2zs122HSpowGbC0O6lCrFEgNJdoCdSo8eM74YGXoFSGUwQSYtuyeKodMfBhMaW22DuoEZkZlqG6YqO1ZmxtUfkFSoN9BLd+kLJ1GjMjFzxKVb9R3RM1G1CuFod1QPHMG1epZhHne1W4ZsPV9yhXlMyoT1khoFHnxxWVonl3c/ERoVHosOJQITYjcbPuE+BHoUa2zxN4jf1VHjtjMw07wjtW5k1F3dUXNmBPEqdb9Q9EzVFU64QwPXMKbruzAjth0q8f2rzPtXmfapv4tXj4jsm2iPAQFKJzfpAROf8ASlE3O/SjUd0eA5jomn0VGdHowfBs+McVAyfSKVHvaQ6Su3/UPZWHc57KBQTBpDojX4ESlJFptDxGfFWHfUKu3fUKsu5yrs/UKcyUpuJxVMdLKEJtrgrB53KwR87k+Oxke6fFc1x0IggHxFBhI1yFdn6hV276hV27ncrLucprSd5Cuyfncrs/UcrH+45XZ53IN8RFpyuvverr7391d/e7urv7nd1Z8cpnQrv7nd8zBSUHV9zWKmyv4kxwU6jU7bM965T3KJlOG15AhvIG9NpkGNZsvAx3qnf/AHaER9qCmsuQQHMjDfgUx1ujBw3tTdVTW6uFqnqhUKm7VyCnWT5ww3IDit2bB2fuUEK27eJ7KeY7bM6GqS0I0SA57nmGJu0qk5Mh4XZlM71TKHEo9JhtBmXasig3KLMBfKeURpvP+KbQaVSSDHcQz10osDIBa3QBgm6EMyDq6N+a3aurNX8/tnwNX3qnWNs/2U1aB0Gdbtuzpmxfk/JRILHRWxHCbm4DMi7N3RDBoQzIOrms2j8Fv0VhH+49s+CPD7nNbtX+ycMD0WRojviXN+SWNZ2rOmZgo3yflVNTFUXZu6IateiqDgyudTNd+ZNO23tUYjOYK8ZzK9ZxV63ir1qY8NbIq9b69lfN9eyEYfd2V6ODuyESTnYHFXk/kcslus0qMA0y9EIv2uV7/tvVqbgZHorZ3Mcrw/TKvD9Mq8dyFPccJt3q27kKvt1nHqrbuT9q27l/aLnWTNskHOA1VbfyftW38n7Vt3J+1acfk/aaXBuDZ+6tP5P2rT+T9qb+Ud1N/J+00umZBWonIO6Bib2ftWonIO6nE5QputaMVOJuA7qSs1yUHFuZJN2j03SqIx8HK1jGU3TrO1HSqVcX5eqKymLvKUN1qQwKAUlE1HJujNhambD1n9asa/5vZSzoOpms20T2QrJTj5zembF+T8qsr/8A3KFPR4VKVUbZOTdVDMgbMIVyUPXf1rmpr+c9FjuqGZB2Wa3axFOqdR2zembF+Tqpqn0L4mNCiNdIt01FRtk5DVGbB2YzYeu/rVJSq/md0z4GzClmN2kSqaLgNJqO1HTMmovydahXG2TkNGZuUHUCCkpVM1ndc3+d1W7NhaiGZEdSIlIiijzAB4Imng/MfZXlP+7srdOdptdkyBSvliWfdfOOin6qY4q0OI7q0OIUQjw4jSrYHzDurxvMFeN5grxvME97SwyIV42WsEIjeYK8ZzBXjeYK8bucFDcA3F2KEVnMFfQ95V8zmCvWcya4Cc1eM4q9arxv/oV4317K2LZP/hXo9VZdz/pWHc5Vh31HKyedyuzzOQbaaDMq69Xd1deru6uuvdXQ9U66h2y/DFPpjJ+GBMdVCpsInzINlMbCiNmyyR6K6ZyhWBeSlghDbwV03gFdt5Qrto+VUyO2A5jWtm87lApLYkcwnwy1/qNKdZa0kjAYqC+FGZahyIVJhxLPkDFUWlCKHw3YRWqyJaEGjgrI4KyOCshQ5WRNSHBWRwUqm7+uZ7IbR2ZKuBshmPdYY57tAxVHhvp8dz34MBUKjQYYkGD3UehwYo1bJ4tVID8nxw5jsDpHFAzAI0FfzDpm5S8rKEF50aVZBksouu6HEPHBQBSIENtIgg2XaRuUDKMF7fMN27gV4YuULcDQMSpZhUHZtUvXMhfN1rlhUNo9SzoGzGZThOhxeiyMf+md+SFWVYDntbEcRJqoONEhT5V/N7ZuVqPesY5uu2eneFRcosuQIoIc3hvVIivyhEEKE2TRioEMQoTWbgJKNk6jxHTsyJ4FfDw4MEiG2SGjMdoUHZjNg/N1zW7Z9YzIOzCFcphMBoMV+m7taV8XBDQXOkolPgsExN6JjZQiAaIfAaAmMsMDQMAjt/bNiazOqfQoD3WixQ4TYeDGgD0rjbIoaMx2hQtmMyahfN1U8xu0epIoZkHZtrmppoDjEDsQSvgYU/CSG8F8HRwbVifVCy0eESVrBHbe2bEPiZUXSGKa+0JtcD0QUbUqFZ0KFqIVBFQtB61Sqmm7R1Vscruyt/a5Xv2OV4eQq8+wpjiGCTVbfyftW38n7Vp/KFN/AJrnWiBZnvRMT7U+lNYZPiMHsmUkPMmxoa8ziOy8VrTipROYdlKJzfpSicw7Ky/n/SdamMVdu5ysqwn/AA07ZLQfEsmNiCObEw35lZPOUQQMXTV2eYq7dzOVg85V2edyLDZxcU1uAxKsfc7urv7j3Qh46x7q69SmNtDerkep91cjie6uR6q7A490GAvIO5XQqkpVHQoWMJq3IIhRGkw3BukhUWNEoj4gc2088UXUylmTfCOyg5LljEin2CynQbpt7D91kmNFiufbcSF/N7VCuJrsra1rNQAVRtnmu1D0UPVFe+qBoPXNbtXqWa5Qdk1DMhtFuIZDWQqiNa4eIAhZG8USNLVWiN7LfmRNpDzAo+p7oZj9Q9FD1AhmQNB6oVnQm7Z9YFZUHZNUuGZC1on5IFTUY+RElylZFZYo7ncxX+o/xzYm0ZmxtUdQghW/UPRM1AhmQNB65o2z0M0qDsm5k1C14nWvcmiyJDQv5/bNdi9iosdxpUWHFf4twXVUvKQabEDxHmV5TofmG2eqgUtlKZhg7TJCSFb9R3RM1AhUKoWg9UMwDzXIacwORKhOlDCtjiFbHMFbbzBXjOYJrwHOx0lXzOKvmcVfM4nsr4evZWxanijFb93ZXvo7sr37XK9+xyJm5pslZQor4rhFgs8W9EU6N4PGQfZUChGB4nstRP8AsvFyftWTBymGt51N3KO6tP5B3Vp/KO6txOX9ol1k+FNLpaokpv5R3VqJyhWnz0DurT+UJsxqqcTcGq1E5WrzftQMTg1AutmUpqcTg1XfXuroevdXTfVXTVdtG5MYHNBIV23lCu28FZHBWRwCZpd1qpdJMGmQWYBh01SX8p6VSUqjtGZtK8GWm+pqArfqu6KHqioVSULf1NU6/wCZ3TMAUkdCg7MVSrhaX/kgFl1oFy/2QxANX8x6VzU0/aQ/eqddLbe5ShuGhrtNQwrfs3dFC1AgpVwt/VSzP53dBnHQoOyb0QzIWl/5ILKlHdSYLbGlp0KEJQmB2mVX+od0Ga7asqpVIbR2BzwTjLBQIwjstNmPQoFRpWR1zX7N3RQ9QVTU6oPzdc0bd3QVHMdoKhbJvRDMhfP+Smpq0pobZ3TNdtGVUqDfwbO/SFk2jPg23RNLtyko2qOua/VPRQ9QZsH5uuaB57umaAnapULZtzYfzdcyaG1dVaCmOKmOITj4mq23iFbbzBWmcwVtvMFEILcCFabxCERnMFeN5wrxnOE9zS0iaY5oaJkK8bzBXjeYK8ZzBF7eYJjmi1Nw0q8ZzBXjOYK8ZzK8ZzK2Lyc8JK8ZzBTfwCm/gFOJ9qnE+1TibyJIF0hiJLx836Vl3OrLudysHmcoxpESM9kCfh3r4enczu6FHpnM7unUenAYFx91BotKdMRpgepUGFZaGO8UgrpvBXTOCum8FdN4BEAPAkrLeAQa3lCk3gi0cE+Ql1VkKQ4KyOCsBOAsnBMALRMBFvoFL0QA4KyOCa0GfVWVZkpBWRwWF57KQzX6p6KHs25sBrhSHxPkdu9VNTVpTTT5z/bNdtW9E4yaTwVAjGNbmSSDvQUaK2C20/R6KIRZaeJGa/Ud0ULUbmw9LuqnmDbn8cyVT9U9FD1B0zXUgQYR3uJMgv8ArY+IJA9MERT4R+Y/tfFxLvFoET1VCpHxEKehzcCE3avzXbdvRRD4H/iVkR3ijDogqX/bvPBUKJeUUDlfLNfqO6KFsmoIVwtMT8s3+f8AxRzYmo7omajemZJQfMpxYfVNqjwL14LjgFQfBlCK3c5N2j0FuQVNiRIUG1CbM/8AZXlMebTMfZOpdLh4RGT/AMVQaXcRHzh2p8F/VWfTeqTlC+Zdw2HxcVQYDoNG8WBc+ea/VKhbMIZkPS/rUKztv8c6JqO6JmoOlYqcTR8oW9zkxwImNBU1HjMhCbzJZOa6JSnxi2yzQE3aPqnXLz29KqDAZ8VSGuEwNCNAgH5P2odGhM1YbQeii6o65rtUqFqCoGuHrP65rtt7IK8arxvqrxvr2V6ODuyc+00iRVvACyUIn2lXjuQq27k/atP5f2osC+hSIHoeCLKVQ3eAWoaDqXGbh4P0hk5zvFEiYqFBMJoa2Uui8U3SImpROYdlKJzDspP5v0gH836WNoY4qT+f9KFRyyK995i70Vl/1CrDvqFOBGl01ZdzlWXfUVhx+cqy7nK8VnSmh0hJysROf9KxE+oeysxOb9KTuf8ASaHYydJWX8/6Vh/P+lJ4+f8ASk/m/SkbzW3aVZd9RAVSUlEHgd0TdAUsyCfLVqanW3aPrkiE7at6VTU6o2gcZ5rtUqHs29E3Mha7+ub/ADe2dF2buibqjMjRGwobnu0BQ4lKpPhhYMUOgxxjaaotLjwJwvm0TXw9MDLds9LWKybS3Rpw4uuN/FQ9pEQzH7dvSqanVFPhHXNdqlQtm3ohprKh68Trm/zDpnRtm7omaozMtOlRW/ksntDaJDA4LQFGdap5f8ociRZtbtKosJ8WlfESss0hQ9o/Ndt29KmPllmIyeEq4+qOua7VKhbNubD1onXNdth+KAzYuzd0TdUZlMo/xMAs+bSCqDSbll1FwloVJpbnNsQm6d81CoAdRXCLhEdjPgrmlwvAwkw/QqjQbiEGpmvEqFbts3pVEez+tz0EYVxdUdc06pUHZjNZrxOua7at6IGdQNcTZuQ0DFTUxxVscR3V43iEYcGKwNiATChNo8PFsv8Aur6HxRis4q8ag4Bx9Vej17K9HB3ZXo4O7K9HA9kXeIGR0K8+1ypcJxykyIGOxcCrz7HK8+xyc60NB0q8+1yvPtcrz7Xdlejg7srfoU1wA0FXg4O7K8HB3ZXreDuyvBuDuya6ROlXg5XK8HK7srwcruyvPtd2Rd4hgdCt+juysHmcrs8zu6u/ud3V1hpPdOaGtJ/8q7arpvBXbeAVhvAKQ4KFixPIYwukqPFEeHalLcQhU3XfVgipI7VvSuVUTQOtQ01nQoWoKsK4eu/rm/zN6LDNi7N3RN1RmFQNmn6jlkd9oRvyrZtImadq3pmxtUdc12hQNk3pmw9eJ1QzDtmdFuzYmyd0TdUZsGVhaRJZOor6M6LalI6K4e0iVCs7dvTMMt+CjHwj8kMx2gqDsm9M1mvE65r9vD6FTzY07pybqjNg7OqdbNrEzXuDYwLjIS0oODtBmPSunUb4iFgZOColIfMUaPtGnBDMOgqFs25rNpE65r9szoc6Js3IaozYOzFU1Opuu7NyoJwCRuxVHhxbkRKM6R4JlOs4Uplk8QocSHExhvBqygWvp8MwTN7SASM0qFqDNbrvrmgnbRnSq8+wq2fplW3cn7Vt/J+05zi0zbgrT+UIGJ9q8fMOylE5/wBLKd4yiONsqhQnmA17IhE0YR5nKPSX2nXDiWs0qiuFIhWmOcHcJqiWmZQfCe52Pqg2drE4K69T3V39x7q6HE90ITfVPggusEYELJjbqO+jxNIOCdRoTx4mAqPkqbpwHhvVf02lOMnRARxmqPQW0YTnafx4K6arln/pV0317q7b691YAQbaCuxxPdXPqe6uvU91dgce6a0Fzp7ldD17q6HqroevdXQ4lFoDmiauRxPdSrkouo5DQgKpKlwr+jvh7yslRrpxgRpjhNZRpbYcMshu8Z0y3LJVGu4NuIPE/d6KmwYtEjXkAEM9FQ7dJygIstGlQ9o/rml3nNHoolHnTWR2mRGkccyNqjrVvrOgqDs25sPaROtYK0p+1YsMzEKOfKchuzYtEv4YLHWTwVFycxjg6IbRG7dUZEJsNrB4GgKHtInXNP8AcN6Jye9rBip1RtUdRmnVUHZNqFbNpF6rdmP2zOmdH2TkMwnBUc+U2uDlGG+KWFpbLeUTima780nz29FvVOo8RrnubMh3BQpiG2emSCjao65p0KDsm9MzSoe0idapVv2zOhzo+yd0Q1czKY/6N/7VGixaMAdaGoEeHGHgd7VZSgMgOEQYWtyo7rUFh4hM2kTrmu2w6VTri6o65p0KFsm5rdo/NftmdMyatDeVEIcwgFW2y1grxnMFes4q9bun2TyIrHMsu8QloWSzaZFgPbakomT32pwp+6AyiMBa7oUKkRHTjzl1TSQJXeCE5uNnFW3fT/atv5P2pv5P2pv5R3TrVsYCajUi62jmBOyhDwxCa9zhNtghAv4NTrW+StP5Qg6JyDui5/KO6tv5R3U3n5R3TbVkSbgpv5B3U4nIO6m/lHdWn8o7oF1p0m4q1E5QgX8B3U4nAd1N/KEZ2hMYrx8o7q6adKumcFdM4K7bPVT2hrDJADgpBSroNGEJ8WLOd5Vhwra7xPU8zKce4lZ13DsqJk8xxbjTAOjisp0KHAYwsniZJ9DpNGk+A62PTSqJlC14Y4su4yTiCwFpmCRnQtmEMyHrv61Coo7VvSsVxtm5DQsMyDshVHLmwnlmmSybHfGgeZrAynUzaREJKVeV8KVBJ1U0gtBbi0rKs4kaHDA0YoaFSIDIrHeHxKiwXwWydqzwzJrcoGybmw9pE65rtszoc6PsnLcjOYlo35kDYhOpD25QsO1Sn7N3RZFnZi8MKoeu9SFYVMgCkGydMsCmwKXCFlhIHAFUejRL68jnR+64+r75u5QNm3NZtHoHHMdt2dM6NsjnQdkFlN1jKMM+gUTZu6LJIs0c/kimbSJ1qNc/Ob0U1OuNqe4zToUHZN6IacxuvE6oZj9s3pnRcYTkM2Dswso0R8d7Hw9YKICYLhvkqCy7o7Q7SphM1nqY4q0OIVocQrTeIRPmAz3K2zmCjU2MYsawbLRqqix7dHY55FqSvG8VEcCMDvVpvMFbbzBW2cwVtvMFaHEKGQGATVtvMFeM5wrTeYK0OYJrhadir1vEK8ZzBXrOKvGcU5wtgzwkr1vMrTuUd1OJyjuvM4NXmeiNqz4pSXj4qy/nVh3Ors8xVj7j3TG2mg4p103Wc0dSgyGRMSIV23grtvAKiOvTFJxbawV03grscFdt4BXbeVEC8A3SVkcFSKIyL6cZJsNrAGtGAVlPwARaPRSHBWW8FZHAItChgWRNSHAKyOCsjgFIcE3WcpBSCkFJO2gQGbG2bs13hBJTosakEQoJMuA/8puSnSm6Jin0ekUR1qHOXEKhUwR/C7wxBuVPiWKM71wWTmWYEjmnbjpVNTqjHwjrmnQoOzFQNcPaPzXbdo9M6PsXLdmZXi2IIaPmWToIg0dvM7ElBaVlKE6FSocSEJDeU+J8dSmtZqBQBjE65hX+ob0qp1KbRYUzrHQE2LlCILbbXZUSnWyGxcCd6i6o65p0FQdi1TzIW1f1zTt29M6PsnZuWRN0HhoUDYs6VRojYMO2+cvRZZpEwIMM6dIWTaL8PCm7XdpULWidcwo7dvSqnC3lKGDoEqspUdphXg+VUOKYtEZPS10s06CoWzbmwtd/XNI84dM6NsnVmrKsK3R7Q0tKyXGvaM0fO3Ap0RrdLgFSKa0ktgziPVCoBa++pBm/TUzXida3vaxtp5kFGyg0YQml3VOpVKe7y4f6V7lAYyeVHpEVzw+IyTh6SVGp8KI0WjJyjl0RhFHcHNOkKg0Z1HgkP3unLNKhagzYes/rmnajpVMcQrTeYK2zmCvW8U9wc0gK8b6q8HByvPtcrz7HK1aaQWaV8C+2XwTZmv6Y+eJCgUe4HhY2fFeZwavM+1Avm7RNeZxapRN5CiwXRRJxEuihwLvVsj2Uja04qy7nKfR2xBKISQouSpPtQHSHAqHQaSIolJmOsCnNI+aasO5igx3OVZdzlSfzKTuZAEiYdJWXc5Vl31CrLucqwecprSZyJCsHncrB53IQ56XO7q7x1j3UvHKZV2PXurtvAK7HAKyFZUXBhUkMyBsxmYJmvEzTtx0zY2hvXNOgqFqDNhHF/XN/m9s6PsytyFU6oGyFZqZtImadsOmbG0Drmu1SoWoM2HrP65v8/tUUK6RsyhoQzIOzGazXidc07YdM2Nob1zX6pUPUFYqhaXdc3+c9M6NsytyGisqDsxms135p2zembF0Drmv1SmagrFULWd1zJL+Y5oKjYsOaSoWoFaHEK20bx3V4zmCvGH5gmuAc71V8xXrfXsr0evZXg4O7K2Lc8dCt/a5Xn2uVv7HK2eQomY1SFbdyK276f7Vp/J+1bfyftEkjV/aBdLBv7Vp/IO68zlHdTicg7rzOUJtrGzJeZwavM+1eZ9q8fFvZSNsyOKsv5/0vM+0LzOYdlJ+936Vh3P8ApObITLiVYPO5Xfq7urvr3V0FYbwUNoImrtnKFYbwCsN4BSHBN1nqWZ/L7ZsTCz1zJqJqlM1RUKiVB0HrmjauqOZF2ZzSoGzGbDPjf1zSfO9s2L8nXNi6juih6gqFcDVPXMkm7V+dH2ZzSoOyGazWf1zTtx0zYvydc2LqOTNUVAYVwNU9c2HtH50fZnNKhbMZsPWf1zf5vbNi/L1zYmo5N1RmwNXNZruU82NszmnQoWoMwqHpdXNWhxCtNvZ2hoRiM5291es5291fQ/qNV9D+o1OiwzLxhfEQucL4iHzr4mFzL4iH69k6OwiWPZX7QNDuyv28r+y+IHJE7L4j/bf2V676T017wNk5XkT6J7q3F3Qv2rUf6be684/KzurMb7ArMfmYviGfd2V+OSJ2V/8A7cTshGd9Fyc6I4bP9q1F+mP+StR+VndTj/YvP4s7KzG529ldxfqS9ldxPqlXT/rOVw76r18Pxc4+6+Hb93dfDs9e6+Gh8P2hR4fKhR4fKFcQ+UK5h8gQhM5QrtvBvZWRwCsj0UgrIUvRSrGaM6SkpKWcR/8ACf8A5Zf/AAGsr//EACcQAAICAQMEAgIDAQAAAAAAAAABESExQVFhEHGBkaGxwfDR4fEg/9oACAEBAAE/IZlYkkJQ1lDZmcM59Ran6jhnw5Ply64/hMRf2lQeq0ypKItKXcplsPmwyJwoUl/MY1fmE+JIxy+yMq1Hcg8F8EYyTvjuSq/J4gmlRoeqKjSCZNyXJHSTMqujcJz3E8kS3Y0YJMpSYia1REPxGFZpP1AluONBCob3T7Jc5JOJSLJmHXS7vrJc7jJ7Pwaz0FlJ7EVBS0JGTw3TaRYj7jRi94Gh8kp6ZpPcbt7pkOl2kKb6C5MIFrUp1SUj3+DNeoSTTMiSZLcT62P0SP78Kb62S4NI8s4I0MuSHTdE8n6/BImScDxyfcKWgyMkw9icGszY8iszKoTBxNCIFaNMeYtdKY6R58i0ew51F3J2JOh16hiezZIXkNDmhgSeC5zL2G8+k4XyNSaNSqw52CS+ZDIrlcoaBGx0sSydX0uhg7GpSTVAsC8iZkSSmPoYtgFnBVKHXSCRqFUamo8khhUw0CzqL2OxfBk8V9D4ddHBFlYzlEKkJ8mSaJI9jQLg4YHRJRVd3p3KKZ5CvsJA0KEw40Lsbz9gtQdpCQi+7IhmhUC70Nk6HwhrgUG5gmhN+B57b6E9iKIi0TPcjMxJpavcs6yUcINmRkLVGejdZIPK+4WlilngSFb4E5UDH8hJ/MJ0CIihUSXkdQQUIFUfszvk0JsTQX2Ts4ZcTA8s+QrcKqCWtZQJTH8jJuRLJBOckVsoxzRaz4PA21OD6u5Iew0TNCPiP2iYwJvg0yeYCtpQ5PxDWt+CT8MZ0qe49D5kq0dio4IvUVcITau4ol2vqyahz4YgfwksGkmmAxCKejBuT6M5bH9oWiCwkNhBrZotFqMaHYltzEaFELBhcvrotulTbIvs5OyosiiMxA8iqzi9mEdsElMvsfxE4WRBKyFGhFsuvLf2UyTZAWpMOnj+RcURkYyDa8D32OBiRVFDfqT7semw4r6Lupn4QzxcMSa8QkvOGtPlRKlcvJJEimjomUODc05kUvPog0Z8LJLyGUIxWJk7LyJlR6NP5B4P1uTD0glK2ZsiDH5fQo6LkSTTgkvL9kHZFyiJUHkbn9GSTDGlKafRljP5B/JGuguDQ1Hl/wCpikoNUJsXsVgEbGxGFgqJoa0VS8wR2gzlEqhpT2NDFy32Wxt+r7KH9CW9R9EzUNK3QpmiHCstMyhX2H2zISeNCF5Inue19hCCiuqmWfd9nRjFSWzgsDnTohf0g/rRBlCsdIkn9/s1FnI026wKS3D+BlclUMfDIG7yLQE0HqO8k4TJLTBft32IpF5GU2NHIDWxGo1DyujVlO4/soLtQtg1sYjWr7GINFoTdI7AM8AtogQWyxolNEjT8XRDv4DaUFaiY/LTYriQk5YtL2EHiH5E06TODM1gklheOiby5HKZtbmTlQHTcjppyiTQtbIspVtJrDFUpJEv9HKz7L+QSaU9JvJMmswvyJnOBJjUwKnNECBJqQpeEVsIocbFtSUQaigTom4gTRqOqSNtaaHahtWPtnEvZhafgMb4VydDnkkTCQv7IQdrwoIpfsFR8LFphJSFh/MrIFHcwQNBhZxIayRE3RZEK0E0vsLXyRbf2QKcqCCS3DgvkSJ3F9HcmYWgmms+xpVsN3oVMTpJpDxxe8mqkiHBXtvpC5GR7HT5G1juZQKx2JLVj8tYbG0G3TXNjntuSTafgOrlT0WabIWosc0Rs/gK/wAY0gZY9Y3kqaUk9htLUuTjxc2H7SVJkrz5xd1XHcHNzdI2K86RH/EJzNi0pqVAwkeQcC5TE6IZHPu5wsj0gwODueDR5fZpOSw3y0TiTkrEEeIGDZknTpqtn0KNVZF6FiCqb38CeUUjIyEK3UfBdNUPFDI0KWyKTEMlWrFQ8ELQvkk0eukC8Od2J1baGPRkjzI0/vqTmpEP9MdLklA3TCdiEYwJWihaZFj2Hf8AAjwIREDlaob2BJyQ4iBsXDUk76iILZ0aVRcZHjsWkbfQ3sQocD7CWprtQiVWSG6yQxLyN7g3KSGdbO2pNjWyZr9n2LJFnDIE9BgM2PwEtGeR82d2T0G6miRabyGUNEnklYgjVTDOGF0g0N0N0fOS+DgpIMpoST0Wjup7ktA1AtCcjtqLRRUlRRMCmsxBUe6FG5BIU07il7hQlMieqmEmwkqUJyGRSrGHeBPcyG6QXyMO1VEokXLG6X2EXTOyLrkxBowgKso9xy4oPAE0I0aKKh7isbgMe3iCeizb2RGFNkk8E/AkwraxzG3ezglJfg4Vcty/6MFSKktSnmhpnwPFofEwNLUKlue5BvHoaVnYYbYkWhbfqHo+gmrR5Z3XuHZp5pRJJXnEE6k2kX+GQqF7BeLl2gaX5CbV7D9rBOWHkU1DxBav4DBSK1yVR6LOekzDkinLGmDJacE5/onZTNq8CvDlk5lXZondN8ETTeLHC1oPFiIbw3YjKXcP5sG5p5eoi2bSKmV9i5DINRqI0ZYSXCFag0yJbqBqYFfpLYEqOxGrMfa+ejRNogqZ5FRPPf7hNew3eRskglaDUx/seXKNF9ClsyDXGqK3Rj9v0ik/CiPc/YRUZuBL8h4odyRlFQDbbT2JUoexCYJ9GLP9g1se822vZxYHYPgmBK6H3Fk79L8X4CUJDQh6I/2FAsc9EJDeKGUP0sVNRjkSIbJfuR4KTupOwpSofBvR9jbCgdiY3GeN+QxZHt4TwKkqGheSTvMqaE2GhntoUNLRoy1GtVlGMCI1O9SvoXXQugs2hdGxtytdGpt6FJCpwRYFM/H7G+w6KULk1bBeDQa1lXyUoWroZkGrHVf7MjttCQ9XGLCNBOH/AGX7QgdkqS+5kSUEYgQmLKG0OzN4fRJrgX6jGsitLxUUnggUDy2EKV6EzRI58ZujgSqWVvLTyNXRS3lDTaGAlto3BUQjdoUqIxQSJia3XgmsC2E0SWhq+hMeu5v7EpzkGrkjkfRZUZbMSVzhhEanBCaRKyO3zxIefhl+twawjjNMR0Mw5Kc4IVbLwJqN8ktSjUh3HFphW4OdF2Tg9iJevspbpBCaGIoYqz+qYjcsm2aKkcm31NlMdf7j8EXq0EW6SVtHYjimEVyZ/ks0tcMcQ2tVJQxLXJhZI1Qg2Y1csIQKRDCPZADg1eFbYwkFaIuBU1qaZ6H977KeYFt0k1RXclfZ3E6Gi1jBiLSj8FP/AAg9CWpXYv8AwiL0kROiXWOR7D0UvZibS8xYDK9RayT7LQitnzQUEaYbgqaiSDMdNxDGggS4aNBJZikZpxX6fRAArqtQ9fuRG+0fmJE75y3wmJokQjSUQ/wBTrWyix1lcMbUTq0kTv7Cpdu/oZTshqQ8nRUhoajQZMtIr3R5+kai8jSk4LGp8kitpRx+4/c5I8ROyU+OiNHuFavJtZ8jhIwN/wATAu4p/omxyctx6kdwsd1+CcNUZFu8voehxga5oNoY3hof9uxYnkmJhOBIVTlJJE9VaCS8oN5MssT/AKGHWq/Ic8ImiW7kdwLP6VllIkiNR4HWB1JzHbFGwkfRSiL/AEYwxGnSC+HM1q0hogQRWB7Mcu5CNPx+BGrJ3KTuW4Lo5P4EjKKaCvm9DKu4ZwKgNL6JwtTRamCtgnDzZkdRY06n7rcSif8AiKItnkIaER0bNQ89z6C1FS6OmNtJLLN2Q1Vcsm2ZZhr+CM665dExLaLQ8CyLDR/gPn4Gmo7UdhnMp+h5QpuME9jKmpIJ2zHZyQhtEErINMpJyBKMsagjASE/arJH3I3XkjuJHIdpL1CghwOdzU/qBBDgmRjH9MiVmr8UNFxYhyc4RLTSeRSDkpTwExzryVozBCS33cgWY0k6iNVbTHcOqYoZ9Dmww6D4mbDUayMbhkce81KuBTZHAQGtyaW5ElBmLYKVmg6BuhS7OTuTtNLYadngeZdmRB9rGjh+zFHyjLgwqEbwKb7SG/TsKfD4HJlKVNCTb9orltFOwy1CEjZLvhjmOsmvyhvsIBz3GRk+KX9Eac4JfLGNW2jB7DlNFkYtgWyF/jT5GnCK2IrETzRY8CwgWIFJ56aHWmgyktAhdsrOuTkzt9S8MZw5g2yLn3X0SdoFY4WLGhdg1O5RFCCfrailOsGA1HR8kH3CvUShw1PjoBCKZGiELhOqFEn25iD+lJOgwso7shwn7E43MODUhupEaRCir3IuSTZQ4hijJNoncpPEIey67qPGilewvBHZc0vyGfcEo+BhEclRk1bddFkAJGWUalDuQa+JvImL8LEo3eRwnLruxLX8mWVC1g016FXTM3f8xTxPkfIguCbTz6F7IbkO0NDvwPsdtdybGuxrE00ySMfm7k6lXRZUrHKJWpH6hL5AhWZSgxEfLlpysjxFWPsiLV1TRKpBswbA3yYKNBo7Wo/AjcxDHWUzQ10FjjEh6ENZGkD5sY+v9mQLO4pMEqQTe1C4L6M1DuvvqyNjbkZWZwdyeG0kpY8eRUMvA3JUAp6ElSuRO1OCmDTcofrVEXl+jKBMU87DatZNSKtGbTvIltrUhvB7ikpCz4yYz0Y6fRgn9GZQhuHY0rdDXtfYlDciQ8YgTehY7r7GRPObYnxfAlExWhJrQ8J3f2K4B05JIhprtpI6ihSsTU9NPkZMmnRl4Q5UoQ9zZbDFwwqPfRMwahEZhmpZi0QYWNydg2E0ryWxD2KbCRPDomR8j7E5WaJ9Do5dxqWaz++kjI0gmRNX+YRu5d2xudRwTGygP18t926JVtYG0yIwRiM7jEhiBaqcv0Mm6/AnY8kfIhp8m7Cc9oJTJJeoxInSEw5gfb9pKS0F6y0IwK2R5gwy3PJ2slGekMJDi1HfoeiX7mzVUPIaFQFJXnsxtLycMcA0ojyIgx8zDwblGhlvAMgf2R7Qam7AgLSNWiVw88EXiylMrclyovcMtXUPsHFjuBWnaTKMEsLkbYmKxH3M1GdqUS6k84GIwXJPyPfdhNPI9PiNimijlFajNc1oVkokkxokwzsUuZIpyIcWzIWkgllJheUXfyJWY9m+QkwjuQ0W/pEObr/h4wmOnVHRBoVQ1KRMR/diyimbsudYaMnHztPj0J6Tzq6BJq52QMYHncL+Bg2VUQ+Q2eTUsECiWxYqBWdhWhRokO6gNK4SlcCmbhCZzM+xXML7C7yVENpE839iL0mpjE8ZxkD6WU0uKEKWTa/IpaUKVBLGZuBNDdTbIlYh5Z/CWJuv6EtMzg06NqRhaR0dO0STQstD+D9jahKtENIkmhoUwWtrUxt0G+5JjdtSzNkEz4Mng0SxoW/JbQziCSfpCOYuRF2ZTuyIaUouSUOiaEK4QyjWuoikklKyniDRC0tVTfRlyL832KhtxRwZFysSf0YYy3fomRMjQVeEqVY2aB/A6fbGU9FmrJWRBSjsOQ2Sd15OYQrkKIgogp/RHVY4tK1+B6kktjeDU1uiSRKL9hdzCpjTCxhGLOhkk8Dk+mQm9grjyI1tmC+yn+hSNBJVHiyEt4FaNPBKfcklQWwFaQsFP5MITGx4mWN66blruSVGEzDHeDgwuxhxLkvpFRRP8BOtJJh5IxEiQ990/wBFXLLpKIuLW5WRNPt0JtRWNSt/YnIeZG06uZE2fiaMiT0KCn46I1Klb5D1KLRFJ/UgwhK4gJuCSTq1DAl1g3SIRuhraHlM3NCoQ3knpa7iktSL4PeCaIcClUScTqYcwzI2DdfRDVjkkQo2YmxTROVaN/Q2ali8GRJFQzKjVaKQ7Bw8GMro6yh2l1Db6FkiSB2nBLxHx/Srn6Eaj0KhydhOkKJYChufsK6DumPDGjU8GgR2cmq9JuXgZy2dhwNTWsRHNBsamIKUnYxL/Cf0gaUN1pCaUdzcixAp9gWel2iWVqrBiblgiTI1oHIjNrsXgnOMwp1wOLbI1mhfAlkTpNXESQZIcugMBnnDi30Mx2ZM2PEHyRlPaVmRiDcslrQZc4JtMkTcCmta9GPIKt4GWuJ2nXBPTGjDRN4w6nCEaff/ALH0/CESGrj+g8jUFgrucJ7enQSGkub5mjXijajsQjOMt3FZyk4iTmZcE21vkTPC4HebszkRV7iV84Jh5rY7DW7lnaRlatfoIaC6PHeGFwHGuBrUyjI1K4ZoIN6voM47CyQSEm409x9EBtFUs02JapgWYXDOU1lBM4wNxhSQcqbJrkZ554ROy5G9icUadBM8k8MeB470klB9OUz4L1YbfBqrpHdEHyg0qc4kVZhGgrUCtseHvYTeaFKotT6Wuuf0PJKkcoVqOrk2FOlUoZMcGbJ6M2pAaCYowO5cDzJ+kE9I8jSky4olqQb0xXzQPyWyYVCtkPaLJOxgacGI9wqSptIPX+CFwKmgt1DJ/u0M5FiCr0FKwxia3fRLyITS6OFNkRFVMJFKxOrE9rTdmzQWZLwqPdYjGhMeRf4M9Js2CnWKK1BCgpBkVYtepFz+SdiatUVKhEp4SkbSTu+YgqsovgDhcls4CKNJTWxElL/BG9FDd3noMvgDqRWWsbhf3iFqekgy/UTNol3Ej+1Gly4ruHpuYsD5EK9YZlciQiELYYmfCB/KTuNaCHQQSbyxGECJQ03GMO0d1ca5KMFFZKvA5yGIqxtzgRqJ6igUh2oJzx0dInMofDuE8INXYqbPgeNSTXOE+hdCe5EVK+h0SnLY3LJ2cCU5EpalJ+BiQqZgRzQGqQ6yIpqDsSfxn+SSm4I4Ro/mzcO6cn0PIeuRb2LJp2cozDhxTNzuCT/IOBMdZecEyTSOzLfyCZZZ5RLT4RJxZWg/oCzI+jtVnk0G49WibK0VjMI+H+umtFs22MLW3x0iRcCNxXoc6jlJPvDkSho08DUymbHwTDE5Yz/eyXQlWTQ7SOXF+RBHOeUKSSWTbVc/YaQo4IRkbW4ilQ0PKQVM7kYMOhZ7omkophWS4sV7GpCi8H6nHTUkWLwWXAcCgToVXqIdxXkCVKBCe6SbvK+BnImkdznqFjZ0b2kU2tR4Vq/zM46MSRTNt/6EqDZm4EpeqI3E4aEniBHuoIk0uxqWJrC+/CLZIUZsQ3lIyb4yGkxOil3KkaDOwkLTsUtXR837IrLJD1OCROSCxzKiszkny1f2I1RwumhcpSx+xYo1ITdqfIltSIQBUWjJaWBbnYcoWkxPSyDSHeS5YWjwaE4FSW4hQQwNI0PkYnufkEOLQy3kSHhbMg4SPkJIJok4dATJNKJYmBZf9LJ1RlWPclDiZsVoJ4NBTnHA8nwoLcQ8YHsSJNFoFMXTcSjTovBAprLiSin8ll2RLsesglpJUtDLRNbGCY+wv6EcFovI44fyEpnaEoJNReU2EJjIdPtHB9iSUrMa3xotTl5XobUtIw06cVclIj5xXpvsaS3jJJE6mKHneJHHj4Gq+I5MdhrvjEhkduDKISaONX6j/DGVNKhkk68A/a4kxzZEDaarpI0XDI1nLiR7Ed1Y2GIeIw4aoqOjVlk0Uo4qNsEopgc+BOzKGUPP7Fw4goa4CgrT9mJhehDGqG3OB2y9hL0Q7uTGUfYnPCkZovFjncc3c9ysHqglZaGgXgJNt2ySa8IlFqFInK6RGYEE78Eo8BOVBFDcGXkWVhP7hocZV8EFm1DlGuzJqZ/tkkbEEhvZpFFK/uJtEE5YSPIuZMkuHBlTO5UToQnqIw6cmVyNT2FQjWJJvD9Lo5FawSNFdSs+W+yBIjGhYTK9CHoeROdn0WhN+5Yh9EZbuRrVHRqHcwvQb0Dw/eRFByTAiuFyHbBCJQ3AatCSW1yXkQluUUm7M0SqBcCEpa3H7Qvrt46LljCXAkm0mvQsRI2oMBFNFyLCNYuSkxtu8mgaEOqHAiapHoMWk2Y8f6EVTGg/QeyCJkMJFhkuCFGbCeJI2UGm0eCUk1pYQkq0nrQ3tp/6sg2laEl2w1UySEcEYvj6FpozWxqENEJTXoaE7t9EbkIfB6Gsu40KjZJjQ7sQAF+Sgq8l4i86P9se+dgpN40CwgNV1IUgmEx/aO27os1KYOU8GzDZ+wwgGjcKRuqrwYr3roCz6wQ9lixctbyo0EbBPAsXQjiwJqyiC1TE6Ehs5ax2KeohyJatD7k12r+jcKiXA0qMicuU1A37NzUSQi6ILPp9iSEvQh5RB9jpp3Y8Y0goWOCptGa8imGlktnlCO/hDISrC9CtU9Ei/GhN984kJNKILZvHTzcCCInJlgsslGPs4/s1pT3CuR7By6UXghhR95JhwCWp6JEagsvA9FHYO75AmVr4Byfwj06FocDqDX+ZW09J0YtUV7q+xOsdH2H0dSvn7GUfdymNtIRbSmWzSy1iKLToV7URQU2QLsTtiTlcN6muDFrNF1z00xBqP5AaFwPZ7ZvCG+48dh9HMaURA+NjFuxl5meS9MGRTOAzTRa2f5jW3ouLE7qxcmWN/sTRMOcE2hisxk9ZAkxTx6ZuDU4Sbc0NfYDDWtkXAoJGoQxE3wSpv4EgSSDJKVS24IptSxWYWyYyh/aGjagI1iRq1m9hwZm8foW7FVoUs56NpQdko+OjfIbWwhGTZ8kZsUqU3ncb6LdPP5B5cDvRCV2PUSORKbRoy/WcnalNCDUCaIHtgQSK0QJcnLga4E4WOiCTw5fQovJlWJlzNl80SLV2LHsi2htvVGUx0NE9HUYE6o5kQMoYWBiSPuW5K+H7E9oPsSYMfBPfsGz7hPcODME/5BpMJJO8MUshToN7kCpuCGg8ZMuThDwy37sCTWBMuCUQsGu3fih4TbgkZLdmKPYzTsNbkCY2HMD+IrdDqx8yVCKO0bocRn5FwQk5E5PQT6VKpwUtDFKjN3aXyQsVX+T/AAiR5/BZ+EbDS0zgPXZeRQW09w9B+JReAwbuA9FOUhuzQ7mNB3saikQ4PgLWdmnSkiXqMxJbFnonbQiIUKdSFgOCOBMQ2oTjufA5rwSUgWmtdxSEqyUTiV/I27RIXDFgZQgYlroW+I1VQw3Y4Y0Zd8if+RCi+1KFrT7SiwyJQIG8GLH/ACwu78Ro/wA4moUx8hNRLb9iHRMw6Ug/RlH3KbFcZPUkHCmBC5cGkagJRIopOi3E3KqujTDuvot5EJBbCMD3MFQVDd2KrJmx2zFsOmnZi+CJWKNh8tGKycQi7bMXCZnS+w5cfZRUFf6YkimTsEpKNR8s0fIlHZfYrmPQpwxITinRrV/kHbwZzkxYkxBXtNjSW6CSKIKibv4HKS2b/Ik0E7RJKJlAmlWBspoaLmHwSatj9idOaFVHPRKpGISF3fsnYs6Qk7oaTMz3Jl3X5CaFjvsZzKHQqRC9CfZMPkmqPBT0wP2Sgrc0h/IsEc67wfBPk7hDkEk3bnZjTlKcsUon2ZPGo36dhNKaJCWGfQwITlmpmtkiieuozUFY000KRuJj7JqVsZRNj7+iJkTP9JJ0P2XCVtOBysaY/q+nlM1zfBEqz40v2RgnSCVv0K6GkC8yzuM/mtJmVHd1YzSuEoc8c1oTsODrFbpCHWb/AGh0BniOq0ZkBJzAqUx9xHSa8mdYPCpPcXQhF5ZLVCcYJfIPPcX2YakmU5GzREexrQXK4cvsz/QitSKyRsLc1pKmvo7heRKGoSMf3wQvH1CrDbBwxHL7F7JltJEavJa7VyNCl/GUHl4JYQKdl/gtrGgSlJNJaD9czsRZptBjlTSX0fv2MnYrCrPA9uWSDfa9xAiIzEQmU+SCZU+4kPSC/sCV0ryMKklr7E9CLq9xBQzRuiS1Rkm4OCpbwRrRQk0gOYqB56hKCE43J2HRKmy7pPfwSaW8E3yaFSTOEzXm4IxJGSElsRimQLQk4r2E9KKyEEIaXjuM5bEm4iUpeIdLVEOWdjU5UMhH4CLf4DnPAwihBqyqfYWtCk4EFEdjW9wSBKSVIX8SiSy+CT8EvpgjoT4L1XjJI7uFLv7hLi0dxHiPkaZE0YkuhZ2PGYAT8wy3jprH8HCiF2NWYPii43EfYSlQoWh7n9FgthgP1WuoExhUtENHhDTOdRCnF9Wov7HvX6Ymur5PkyPxrZM7i9p6uFT9DJ13Ii1GfsJRhuRtLI5DFZfdCWuTSvszk1F6LbKjIlye2asUP/QqjkXGS7DhohTbUnOp8AKdVBTz9mZJDNl2XHeN2kg/E0gm41Il0Nq1E/U1KCIcUMvJL9ZYt4RF9FphzsORDgV1kmFJ2iyO3DJoeSHpYpLcFWLqXAnLD8HajBn/AKoTmjRIbhwJudvBwpga0uxnsJY1oJwfv8Mgd4JhEi2iWdnBWLMhDs0Ccmaa2rgqDC3yRDhuxQfBOav7Bzma7mdR9xEFqMimHSw/yQP4UuUMa5NbFZp24i6JyM3pHHvA3yE0OBfQm9zdJM1cstZG8/J8MUEGQ/2TNqK+hONYPET7FLUWbNGFcKaQvw9ieace8kwiUSXav1BM4Vky9gk5TJcwSMxuIE6JI0WR77gg7U+RtaJp61P5Fenso0Qk3RFKGPq6B09Q7JzD4ShporlI8hJUdmTO0ROC09hOacktBGrQ0qaG93gSaGpb0IJ7334MqU0QNXlCd5PhfgQIwS0JVj6OOXSlnuQ2njuxJzvGR/1wqSpCrzhxLF3K4iVpsbFj/BI/RgTz5E6TqEZScoKdhomiYKPb7fIWbkiboUVNUWI86Yk/gkawlXk5fcfUnhAsNPdlMx7sltHyFqO2icPVkI8tUVIe0Lgz3/WddBcIJ3o7CQ8/UTk71pCWWw5ewutfofMXCcLU0uiQjsZ2LO8kmqGib9QQtx8DU5hEpZcjEqZM8jJrkSlMw2jjVFLm0HwLeVXy/snkw7IJZPQdEbEMjA3vRfstJOybwfgWgoaWSF+s2WoztYG3vIluIjhQdiCD8HdCIw8maHMfQc2BqBKs4YLK0n9C2dEGOiGRVH2IKcOWUb4Vx+iJ3NjouzTMEcl7cNBimoeRdxWOJFoUFYSuR6xSNzW43qQX1b/Q7aiuBS0KNSHGSr+Q8zrTInOUNmpQk1UNEYZ8sPBTyUloTQ36dx+x/ARLBb/CYkaRqR876OxMYQ0FUPgVhEnig5Zk1/0MdJvi0pCCF+Yljo7E9NDNP2JSZpqO9TKJHko+Nl8GtiaqEUKqESpIXa+TTbsU52FpRMIJixk7ax68S5EksFzwYdof2CJHOnyQ848Cok3v5FWpxeXYlzoNHZQQLElVNavo7oJIPB+yoa0dDypGLpeRUZNsGHk7zQZFSViiyz2EnNwROkdy7TLZBELJDbNp62RKFsJ1WUCwWv1f0LgiO3JoorQvmzPQkyKD9yRD1IrvCl6cmOCROr0JPhH7J1/iE8DMy9hBqBV3XY+SHS4tNxLgaHLo5N72jGqmFovEo6XWYCsadi8NVsbbwXSzaVxMdPcSvc5DCWixBNctLsSIb+wnrEcvK4RWtiaPACH6NNKmSQZyt5WacaWIoX9mOsjCm0bdZo+4RpMaUfMjCmjWjFkX9xBilx7z/aG500/JguEu9CCynhkpvKgqV/J5Q0k7SlxEoxn6FonXYvQVwxnfn6NxkJSyb1kz/QdSSTyvsQDhrusiLgm9ES8iMqMT5Hh9h53SFaeS2fkmUEioGp5eBnG6rQvwTZ5ZImFJZhehCQkoc0Jmp3RmmcPSeECiFTS0RFUieBPwzxEjQfaPX9JSj1E2i2gk6ngcles3w4A6ghJGujD66QN2RKVUCRR+kKf9QlNovT6Fu0JTc/YS1Tu3aRWhqjRV4nyW2Ufg9UxsIUtPUSTrUlnfqDWw0RTf4mNYINf0TtMGRvWxJSiJZ5BN+hO8fJKSLgaE1nA3m3BCKJmIgd8U9ORpcz2NDSythpIJUo8SH0JC0iKsSejJueMYCUZJTwxiWpEkF/W1JU2bhMnTXMuC/YdvuUwia7TMc9B7Ha/kuHVEZ/CEdM+A9QrYxHwOUTZipWJxaDfFnwTzI2ssfkQ0Emtgo1claGM4MrkTdT5ZMZZO2RLuJLB2B1430eRzqJrk1qj4A1MO+hHN/sNKIstZUiZCdjibH5FI9SMNPJjo3A0PuE9hNgXkblxyOrszLNSVNpCSicDW74IvH9kCChnAyVXkbjUKHES/JdO715Gow5IXcMStnZQafMB0mtpT+B/uENEEreeg7mWUhiU0RdrJJqVPkwbX8hlq/A3S1KcRkm8OB/aGinQSnwYCaZnSZZPnugi3bkIKHkge49aDXv8A2Ildh3ihObGcszK+xq3EuClyWsT2NEKOwrjq5f2e/JDjDEo1G+DKjRDBEXiI4HApjXA9uhlrFPXuyFlTTZVh+2aKfY234MJX8oUty7lK23LrDRXkMf4zNz7Q++1MNk9MowJDlfEJrSfrRNXoojcdShYuRlCQPdwktIbCZqiNdtlL0f1AaWhmNDBCeSpTd2K1UjDfWsQFAmkVvhTce2ajI9RwW2C9g8LnZmefkLfb2WVBeRUDwzsdp/USSUwZE34E1GhREnfBzJKBSy06/wBBoE242tRK5fAynlZjekTuWRCCBSa/Bai6uKGp03EOxMwYLugKtmyZmok8ECmw2r8MkHdL4ciZavyLCK2IkRo5QTJ/CEgwIVG+B7GlwLRJW3yTIlOxDQj9X0focdF6oXcJpbDtolxP7Jby2aMSPVsrC+zKWG4pIjxLyPIe7JijkfMipVvCsSVoZaGCUX2MGkQkRuhnhm2oo+xlV4ObSblmVKV26FInZRJnxKGL0S12EYao4DLmEiUlaOI2alRHBDBXKIbfI1w15PZRNvI6o4+jQBBy41Ow1OckXefZ3SL1ZmtTlMCNpGkUAuQie2PTbjMeDMgDqGJ7loBBLOELJWhL0FdfTJJM7nIh2ka1wOmRbWVsq08i+BoFMbmCsqYEybhlLnyTpCHlvA1TUUXsaw8ilp6Y+KFjjPojJ1LGtMY1Q/mfY6w1nURlc9iqVkGBj2BrDIn5Jjfa+hUBhbDUe/OKMHQM0REEnNdhkmWU4DWJgWUJNW1cr8imj9RPPs9vJkizFBlRkoXwmPJkqJPBc3kS5PkXTwyPtD7+D2LIHtfIvjzvkTK3+QnnP1SPMrfciCpDsMbmAMv8VEtNyZNTMMssXkJUoVmJCcM4L7PaI4E3LdPgdShIgcT+C+j4JxXpNFHcMUdzImVNsy4YtNYakoGpYHnpNRGSHkfvj5XuHn9DlX5ImstLlQKW17xK/vNr5yiaTswmFNID7smlsz9CZLt7Cz82J9AiilKkuZ7jRaCCHvECW49V+rJEITRNj3WRSTqfxZjiBuogzgj+n2PsEafYuz8ELnuR3RG41h53FJN52JV0sjvPhDzYnnlCcLnDBWs9J5LVjOORTgmWU0KGNj59wmGFDX0HmSY3aJNhbjOTUSh5InDjoaeWf5ncydxJY+CLWpZhRgTedRFzNoCdZLcfzSAkctqhKfw05Lf4dzjQ1G4Tg13ItEnmUXRNcmUaPZdEbR0fgaH++BByGs5JFvuoZKVhWI4vkglp7PBmnXkzlqj5ZJsnDVD7i8vB4cH7eRc/QnoLcS/wXyqQ4VpuO4zxk+SENnuruCzrI55eNiqJqmnwG/y5CfBNYJSf9CSq0FVbHP7EaaNSiSCKhS0CvdCR63yeJLYaj6MPJDX7HWlEFKZDL+kRdkJMgiZDNdwVp0yeCmJ4jyJHwZaL5ILLWPcp5G0OE6IUSpFz0/kfRPYlTYvfkmmKc/o5YMVs4jbEaQIcW3Sj23p+IuMCVfwOCpWRNkzcPVYQQhDY0HloemokjJ3iwVoFrZDHAi540+ilaI3lDT1gl/6FTQ57CU5Ncn0KVrXYvcb2hL7wL2FLU2ZZEl3J/cG95nb6O2PaWyvYTzDPJCUkl/M43yd7Ccp+Q/2Bk2KUN9EE8PZHV+wsyh+TgeRqRM/uX8DgpWhYElNyNrQLOsDE4ooUeSlQiINmI6aRQoZJi26yvovgaazIpMUPAjdUWydCXHo0yKDv6IYhgwKsyvBsQJilXvwNS4t9itLETyLHzYHRHoF/Ax9uxCEkRRY1X8Q+a7H+aPWEtQHKiOBvX4itxH2FoyH9eUii0kl3HtH5IOFiZoFsZ7k9xJ5tG3IopqMJhP0TQVeg+4glhTTrySAtUpSyKSYfuK4oeBCte85vcUL5WP8AdCET5JGp8MxbfMYTl8xJBrIIWGxLEq3kk3Pyj/uxM/5RX/jIrdqzVSriKP5JuNGaYgWhWAsCpixFBsur+g2H+rJUaIhM25WUVi1H8xvkwqE1I9nwNm2naZYk3GrFemWG9lI6SH/RsRckRZ4kisEopbzg5FJ9ntdh4zM0dTSzzAxRUwiGG7TkedH+QRayYD5+CVyW/QskTmZRhH4F5Z+hwY0+CIl4+kDICZBNswR+zLN7kSEiihuO+B5z4ZE1DOnsdNBjJb1zCj2Yr6NBkoXpY7yfAuJHyZZberk0UCaaHqJ2ZMS7mw/2EoWdsmU0zDVkL9gtoErkb6F/EHOkcY9CWwEbUmltjTQh1t4XknI0v7DWrPgVUm2fA6T3DE/ClKkecTCkJJp+zWmoNFEyeTzO8uRNhuUPuSS8bL/oUHaZZaPuLmEe1H2WWSWrnwRbhEov6LjRjNqzgTMSjRDF3InX2R7KjKFJLdtDTvpJ6MILj8ktIQ8sZcdz0SITCkYMuxw6DYXqEn08JM5cpZ7IxAlyONOjunqxNN6o7OTUWeFOxOxG5SxY/JNI5lr7FhcC3mTLKNdxHSo5kHmQoy741oAd4CToUVKXH4ElR1oPsMotYNiiRDbTv8jt/IUG8vcdoClr3B2RM0iEEVn0sS/rMeJ07MnQ/kWZvBzBHcDMi5PkWxeGxI/sJP5S6B3lKCBx6Aprl/WxQKVuky5Mw1TFjXkLJya64MztHc1cSq0zitdpXDf1OV7Qt/7RDzXgKZKRmBI06/cNKZRgWSekGWPREMOBrgeFFjnMLtN/UQtzXQTK3ZGNql3QRLbt6LdoaINpCFNuBUodkpNRlIEJtSyZ5oUc30LP4Ex9HXoW7GVSNNB8oZNEJWKSTf2StcMUN0OdUhkttPs0kTpih5HO5JdgyeBo832Zoa49iXgxNm70C7CTjREiE1o1DHP1jNWxtaXaRyPxK+htdXsQpVwgoqaBQ+/YSiIMEGb3djZ/lBIH2byT1RATQjqzdHhDnsx1N67nAE94T2HyW3fSspvSzVleBYK7ChGqoiUMaIyPDqR9/IaGTpuZGkuWXI0pMo9iuzLhKaFvzQUZiDwJUNj3yihpjsXnqucr0RBlQpWfcaHEe4g4xHcz+H8gmVsT5JIk3oXu9Atw1bsnLRBDuH2PeSaXwEvxf7F3PCO5nYnVEfzGsmxUiZ1NfGBNLgnkiGfDF8DC6M8jBeZZ7kuMUKqaHDVSJmqxR8CH6xiS/kUrSRuuDkLjcSYcMfeWCbTkRM5qlXcjcMW57JJTXSU/sSevRmdFPgQHOzbHSMj0l+K8i1ms23NuyHsOU5UtdtyTU628IU08hPktD+zJ3UE6CSY1LL+sjytRRUufPQhg8SG3ojiV0qbTG9wgyKi3FNvURfjMTHOXeN0fkJNPaJVhhAm09wyp7RNwm8x3LvX0hFpfqJTgiuXdE4eUIhsJlC9wv4j81CdR6pR3/YgcQPuE3PuCeH9iZOZhW8EGwYJqE8FCMNIJhf2DcrfwW0rYlaUpbYiJnU5/aRtVm1VdzQUmiJ/85/oDi/IJoMJMpIWP7ATq1eT/AFSOXJrQXDJONxmhzuNbqCJtC21HNEMejWvBD5ZG+Rm4qEaUKeVOoxl2d1GGnHhtHrhvlmPpU2JyPH7tCg1UihTEtGswd/jI7a2RyIW5CqxHG581qJTgcghLReiHHoqsGNUvohf4CNx8QoxR2r0LMN3Roe0JiwPsLcRHQoWiERtb4ItscwItjG0qfRDKIbDT3F9EVrB8io+fYbBLT/kN+LnCRRZKCLyR+RSFbya1E5wr7EtK9nDI1gh+xUjSZsysTBClEYMuFDknDE6L2hH0PLy9XyQh6kp/0dynoSU5xDoSkeC2osJmZ/AilJShExrBc5k1exVelT6fBBTvr6G4b8ja0QzZkd4fpjVoGj+IEeOgNP5ROLJm78tp2YkrM+CnPmnwReWxxaaksxRZVJLNKjU50BJQynMhCEm3EhEhxULyO0nu/sSbDgaUW5Y8AJn1LUVz0RQ7X9n7fBMlKbYnKPYyXbLrEmSxclEFgmdxOzT6JWhW3PspDk6mKmmSykMo46Swftjedm8Qv6CuDS8DQtjX5GhKt/xGO5ETaCYQbNQ4VXcwAFuWpEszcOUkSrdTO9kIx5yQhMRLEhVZh4G/2ScErOiE4eT9yKxqqJzgZq4FMaDiAySrr2aFMuDkJVGTXZEXqUlWj6N4TRa5KkhkoXxLkQdKdFam7BnDf8wOztm4uFjyaTEf7NBdx0yTVkkvzbk8CdLJ8SaeSUQSk1KoTG9cmslXEidid/sg3cIiBMQskko0Jhy9CXIrWDtKIa39GbK1pyJhTFKwngdLnEPQpIyTVwRKeSOgYNETkdTQvfI1HKcjU+VNn3xIoTd3G9wFEk7NXZki0atD6bYUwzZRNJCzmINSuGqTZYwrKTU5TomUv5hZKRwynIW5+hUAFhqbnwDUsnhC/rAtj8CQtpTI/wABEeH8IN38KF/TkmatZRLh/Q0Ows2KNVZHAsNEaf1BlXDMFH9DORN++4mzOmSoNtONBkB/pdI4G1GH0Yn8fZYh/wCFazsFw8Ro0LPZrA0f+EQhn0voy7ku6ftEQbEuK9CJa0IPXg3JC1pYDVqiZu4+hPt5Gmy1Pc/U4Mjgo0E9x9hONr+Q9qyhG4li5mkkTNSySL730exPpZAhBRraGUkC2nJPRmGhepaPTkcp2JXHJajlQYTmY1IxascioPrsJ719HknBtg7IZPPgJpalTnol7jTdcRnl9iq1DsYy+kWLH7MCgUOi1Ke5HcnZwpxmBo5KwbKhiMKwsPSYtqdDO1Ct8DfRT1INY6RLTDrO4NJdqRbmOLry/kingNinAlL8DYuC5OY8+BUsN03xA6Gz7vBWfsWdhUinkiqHkTXJPb2I3k9BErQij2EvUmBLtBOhAz90SI5OViyThgyc8kq8EOXNSKoGhogvaGJrghRufOYhB+8lCeljdbqn8DK6solMaTNrP9BlCPhJUa8jMckw34RZRC3uxKsURu3svRibmyTQbiTvO5EZ6PhcB3yLx0mxNYZQUisxSWZFNm/A3HXgZrPyj9TFWJ3qvBGx0zTaKoLVBmGy63MRSBQlVa4FVIunbM5ZrCkzgtCksa1pzCbCald0SAKD3QYy3zVDejLcqA5JEZHQzQ4UF8Mz6/BsygKQTNspvBJj4xap6mx6BHl/aG0vMYk5XwW5ryja9Qi1vAvkyeJyJKhj8CL7YiLRK1rokpmSw2y+1FTmPAn2RtYhE3WnDkUXk3iCFEjhY+Bp77+h9/jqR5Q2dO1juVrbkRbWZohaocbMxOBF4yAcFwRbr4JawozWA0giMkRhkKIgdqNO3Ra6KlHq/wAHZRbsBrY1uTQ1GxrIV6weSaEyXEsR+xvqPWBnh45PJpHr9BukR/A2w2XD7G3TWDtJ2dE+Q3qPViaellLBO5pH4Pm+j2SMuBinRrddH3Qxdx/R6NTmAxoZ8laULCM7TbPR9ujATCmpxSTfAwnMpvrWxBiydsjq5sRwc9ruZ6bZl358MnATOg7XbZ8UWA4USJRlWkLgu4kzaE3EIl8moy3NCUiFp9ktxN2je7itbEo4dIoXJhkZ5D6NtBpaEfrRRPEsQmRtSeD5KMI0C24FL5CX5Hu4WB4jdWJyxC0JPhyncQORMInI51Y1EZC4Jrf80OmjssytRpZw8iNW6bkuTUUqpF2M3ngVvolndZMxPSTTIYG/Dpvt2JraBklaVIWl7DiG0ESf2GYpNsyLKQQPzi/uRe5pECwl2fAxSCsy4XoipmEGgkTrkQtdtTH6iKylhnKOLIoND1UjekiniXaxrLskGkTrWQ01A5rEU4MEf6kvgU52UGmw4OgoQS1Q3L/z9CN6Qk5gpZJss/uZN/GOR8klAsx0Vyf7p/pmX7xr+cllJTqKH8gpkDRD0IWh6TY9IjiuGVoWKrsf4/Siyrzogm4ElQJv8A2rHwjEYvAUlkjluBccU5oXZdibKmRxq+xL1ryGJi5ThNmKGyUZHHomShfwJeWGH46bFYVTgfdcwWWno/xCXhHAhEETbQhqoEWj0f4gn6PSFBFUlUk2V8DnyDUXYgWiCmhFh0JTwfcV5dEPuOHkQzhwyyBD/wBNLGROxVgrQjacrG3Q3RH+RhsdzQE28lMCYV9hMeUohAlbRwVGLgZUQw0N7hJPSEnCi0WmZz0Zparnkd2IaUakI3mOiJIZDc0UU5yINTshdwr0OyHmJH/c1GHO4kyR7+AkJoS4MQSkIOPOyWFRCctHnwLJDXBAzJjGpVeWObRokmtBsy1DJx7CJHXAskrbluvQgScOnRHg1E/Xua7FlOgvPTTFncaz9pKHx0OQhUtvQi6v3h47Kh/4FVkMYRcbiQt8y7iZftMTNcMlQTwRemCGN7jVDkK0h6nwaHyhXtGvIhrBQuDcQIVMo8EnnV9EuBpTRb0Etyipf+xRr9CXqF0iTBFNz9w2MmohlnMIYlhtxBG9rt/USLkSHhhZh74k2X8is3hO4hO6kzXcc7z5E4fBwIRlixN1ViU5FbJ7fcW45peATExoLOV2IJYtvshaiOxIRTxtqImzOGND0Hsj9sdZOKiLkJTX0IZTk7E6/GF1YPSRQWr+pCtZO0mKZCuQtqyTDftDFFO21l8Ii/Ag42p06aaWNor3EX36A/zUbvrRXH1m78IyCTDXrRT2I/8AmbRjFKWGPuWFhiI0l4oUOXo7g/iKjQOL+EJKvcQ59qE6/lN33kjSo1Wo2/uJakmLAjhj3uL5YEpSMYJmkJNf2NNEKv0amglXIimaM0XCG0rROgpdjvnoR8To0SElMhjRIgIpBCqkG1TltTkZ2nhEMR8EwWg5WCJ2N76GChJYlulCJ0ongi3RKi2MkTVDP0/Qz6G8aGpRLu+S6AkFiD7Jl2TiKJvR/cINCi0S5yIb0hQdNSS2LYbYxmubFuEg8C/c+47NlOkx+SibmzMzyMpJcqRypR8jnZTMOwlqIacE47CSKq6JlX5CdidRPply9Pr/AIOUrXkmU4Nq9NyErwJuf6PghnYpyl9ifBgy3ehPIz8YTzohM0QcU5gTwQ3rgpkyyaoWRiodZ7CF8bMLkljk8k2B7Gw1cDK0GTeOrIglQTcngvyNOxeoNOKFi8dHMY3RKXYT2gz0gir+jF3FJezJUYsjxwJlqpZSRXbf6dfnCbgTnQpky3NjYN3hEDiO+OhXXsJbCQkJvQ+YTJoLckStBGnRqLJDbH0UVviJXkUpyCjxN43uPsbb+GWJmXoQ4j5He+ZsfaSgQ1jLCNhq7GPpdaIdDI/GfoRi3Cdhye1Qv8U/3ULQX5Q/cUSV5GjY7k000W0iT6/QToxDi2pGZkgl45GjBUXYIbfEMZoWxHD6aceCg+9u02SYYEnSuiUn8xpVrFsaRu2ew0qEyODvk0EPK9eR+yxJiRzRdfYpxH9lIimmU/owrGrmR6eRngSOIZDJ3GW6ysjEjM8WhNAuFkVNOCESERWCt0Rdl1aEt0NWR1VvuPlKGTRq5TQhqKooSbGn1ZNWlFv7FZL589MvU8f+BkO3NTuP4EM9lJdQT0avHQJTGSDWs1fIoi9RonjBgtjPcs0GNiGnXolIxNbpk1krgkfQFoYxgQ1H0XLl/YsCs9E43I6uV9dWEEzqeBP7FG3T5Ms/T2FgMQzqutnKMogijOBWHjo31qiNjwMcj+2JXnodhI5lhRL6J9umO3T5z+xCzvQ3RfvL6Fv0PFEpxImiz0VWhNdUJtBqhtHDKnQbvQaUYonGOiILTSfHFpmAxO4uHea7knkk+tFrqlodiKr5Ee43wQNN5RSF5uFsc0n2EGhuceIq6MuUE7VaVKUTDm1yEk4RycD30J/vDTgyJTPRbc9pwvk5XyKRpvnoiX+boDOpsMR4EmjOQG0opmQlcwL+iXKour4Mk1fpk8W/YqphGzUwHzvDJ1o8Dd+I2PIbzCS5/JUD2fRWpIbv5CRp7MkMJad6O21cSHeDceC4z1G4GQsU41NnIa+AWj6Cw0nglwX1EtcpWALHxUqPUgDNRatDvQhQ3YtELEo+6NtRbAaFMJeCR1mT6CgRWEkLOEX8wrWERtBWyH4IT4hrjqh2NCkosCM2JqK5DDXaR9EkPmwmqKcVNCuUfF4icYJQ4/TqZdGVkUwdhtFkvDBJZvlMW6yke7PuFCar8negg3HXNJiRUkU0KJgjZk4c7FpNiWgtZZ3FDd5L+UWITIrPQg1z2I6GliRqa5o04EJYEhIYmriZOhZk2PlEExEWtkS4cbf3Yhk6EUrHRFfwAK0YlGUg7VaN/bElS1Qf2fOqGrBJVruIoRno4TxJNl37HxxOMoRnJEYLKmv7MYrolyx0P7V9FIcEOixwOGtZK9ZMEIHh0yO1JBaI2Y4h73RlKYil8jWuB39pqzCUQJ+vIhOxC8FcX+CKudUqQq7JiOk34fvoLEmhZk7HxDB56ZIfDl0eemkk1dqjuJLUhqLpp4NBgTNTGMiRbeBUiwrRBLYXAlrI63CwFoNA368mvRNwJ1oSVVJKmhrmySStsTEPlIzLP4+zRGFD5E5VDOXCJpETuT6ISUFyXbBGyyJtrEms0xh7eS2pf2VAjp6zcjUmiSeU+hITcyJCBw4dxNp+T/YJ3xuUkSbSp5OdshmLzRvETZGoy0UUZxoKQT2PQzvmEs3mqwS/1EEtKBRSG6kRsWmTuF9IcGN9M7fzCDyfI1ujnRMV+gZOXtGX5xLnOTw4HqMCk0e45fYxwSJUI9ELhJ+yOhQ0PAyFwowKqdGwNEhxJ7OBAJi9SgYJW+CHRZ8ApUkKFT5ICkkl4PwkNvVwJ3Y3AhpQ92JxGxTTWU6aGnpUN3Bkhar7E5QnPJ4Mi5dw8TKaPBBEhKxo7z7FbxRByO0NyWvoptJoKzz0wwN6iAlIqYnIy85vIjwiSFZm0zBoSILaim+ruYPLG4UUQdjUN8H30LPTSj5IWO2YEWQXN2P7w1kGOgrc7qV9EcLojexqiawNQufYSLL2adJgaViCRW08kLKP8A1pxdkhuWCJdEuROGxXXVshzbEyVJ4Hkpthp6t7w8dsoYJNTUbuk1Qn0ZUax9GVMkTFZ3QlYE9BCjk0oT3LKD9njo2ZZPD0FJqTEGp8enkkd6yKk+5FyndjwTUtW70GFKwyxPG5p4y0kqOUIMYYb+I9FNicGlCPmCLm2FHZTI2j5ixo5ErwOhw9ZJIOPooPo0E3IxPJKxKOKGjT8kP8ppv2j/sCSEiREJ53o/0BThvIePhEYs2ExFk2fEQBqCiaeWVg2E/KLntjoU2brNcENumoQ6CmYmtGw0EVRJSJFRgPSJebE1SZukc8Ag/mEPSb/cZTgnep/YGf6rJwj3EH9DJOmCVJnofdkIz7i237D9DOGfI7hTYba16ZBp9HHNj0G1VQIT0RuHHvNCrQSaEVcCORbEchJbwLCp3E2rGk8xJEIakTtP5QopkgtZwI+UPhkCJ1BC2RaKLsENcipaknZDODKC7Cz0kEzZOfY+GcvUVHR46XeEMeNVw/RyKtJakisYM9voa9MrEnTJsc0JsTe3yNQXCnRRErpTL6Jk3HxzO0fIT0ZNoWbxkcCMEWMVO0BPXAxMRL3M/RsOs6De0NZnV5hMbiFU/RFCEeCjQbuIJ+FjENRwoIqkY1DwCYCx6skWbLkY/BMPZiaKFuMuDKmvTkddZepciKG6LArJ+I+OML6R0b5OhRJNUxMNM+wpmVQzU+wNsU/Td3BIJqq2F0fC9YwcQUn3C6mnRfAvnp937I2vphqTOTyamBihiUkGD4A0djpF2R5LnB9s8GTHRmvVIrUgUSvZwCIFu5am57i38w/wC4Er+YXk9aeSj8gwq95/qn+qQiuoEAk1yLRP8A1D/TIf5ipCWaTEpl/tHGNlZIWzISckNn85/qnENsV/BFWTDYmLDnekPM4DESwkTWlD/o421KQteoDhhlUKmJspSxaqdAlqoEd3EN0NEW92EXfoFhS+jIgKiGxCThQcQ4D8HAvRj6kO2RGYESrPBV4rwOafRZgOJrDEdiMK+DiEh4PwK1VgcC9D7QNFESU74v2EJyaHwiLFoacqeyQo6V0qQyhwJ0JTeI6J9IecUThIu04NHTfDsSxpTDCF0kTKMWZDeoZfRMhr5lMMmUQalJNn2Ox7EEOnzxr9gumlmzKI+cOo1Iw7UkhOFHMCFV+6YFuZShX8IuldIz8iZSz+Aa2M/2MCG4SSEm3qPZoZqTWOnyA3oQzJeBKdSNy024TUIXB5G4PxZ7lHmCowdhGD5Ar2gukcmyRMths/AkIvAmC9NISLpDhdhfj+uhLcQkgKmhtqYClTuSEzDtXMPobMUjOEEK1hz12DlL8IVtodhOF0fJOh8dm30OA1ZS16V70Y/ofgklFrUbUNC79fnBBJURsIxUNUXnX5Et82JpisPqf2Y0ghNLFjmgTh4GkYRqJ/JBQKE3wZcPGIGE2AvZja28sNpVNVYX0BicUSjXBfssovgTW4hZmCaobMipZbe52KaH6ElfmWOdj7bsxP8A7DlAqAZ3QoSGhii82PM0X0SZoQuLScsyw82W1/A7NHwaGvBmM+x9KpoIgYCXHRFusOOEdIi87hmC639BKmllwK9DsjZ9BnK3o/zEKfJ90hfwJGex9hqSZ70MujlUkizKR2Dkc2OBO8vQnTmm6yPJnuOW/AdZv6C1viJ0WWwayaexAhLggWVEHAEv46YrRiK0PmPQSQhp+RRxkmSY1HnuIiEQIQHzgqEI6ZJ0PSSU43IHlRgR8RlINhwQ3XSMmCxFjHfcmNDRH7khbdF0gub46JHQiRuD2S9G3il7GttvaU/YgkcMlvwLLyJuYmZOHY/kv3l9dFoXGR/A0JmpkwhJqccElVOkwJnspYPgsezA3hIvrGPfR4JHd6XfyK5ehGoiCCy+ZrtiSZqSoHKrX8TQAyNREqYH2TGUMB4ie6NeCU/K+jAma8mh82QNYNOinhH2J4MvFTK3E66/AY89ghq0xJi1sctc9Vjo+wmfd9monKJrp4NOgJ6P+F0yyW6FwsqBv22aT2gmKZq16FzEjcEr8EYttzOZgVycr6H2IWJDbJScjMCiNLK73ECRHJzsRHIs9PiCTPsQ0ybNDnoqUGRRjosuvP7ISofQl6Mksjg9YQ1gj0e+jHF+ccSscbjfIWG5ZCI1hvTHHr6Y0VOyhaqLYCjEopVNAJP6RoQpBIr/ABEm6CIUGVkdfUQWPWQFA4JFqEnuhbUjSykd0FsjWICe8rkSmHlzgX9QZoFUKDVqCZnXsEtQaV34mW5AqWJJqAmE72ExWpnc4wtL1C2PwRYTwhUlu7YhUoWCKJE3sGJcERlGFsythrQaBDE5ExA9o6INNsOxBchwQvIl+xd6ehHBEs2NJWSQs0/AhHgdZEx4eZhhHgR2FKG4w78AhDoYesvV/ZfsMXDqjjx/Qsjcllcr6Fz006P7s9PRa1Jwajb0nguTuZYJCmyeS45MpEP2aCEroluZ06yZpJPRR26KKd23RcjFBR1cshMllRJJdo14aijTJQ3uX0azRKekD+yTGBcje4yZJOWRZ8MjKOSKnp3PgCxD1fYuT93j/iD91x0NOh9hLk8iQN0M/GKdSo6rScyybE3gTo8kuGV9dFg+jyK5Ie3cQSreEyhFM3AU0yBNCT1EsyJE7nxB/QL/AIfg/oTRkUrQQhml9GLPT4hOBbGclaCTjsPBKjkTfQzaQ098U6C7UWVrA7RH7DKLqzGunNqoWQ/hi8Hk1oAUryTwK+xAtPsLp6CjTJFSLAhPYexSsEpGkzOQnNMkphpNn2I8IbSSIYlC7NhO1jWxF8QlbJFl+eUqUC5Fmhjb7nP/AJfkp5d6I8WUo3ayT0djRkJNHX2xarfIZUR7Fmjwq2MW3REE3Y8DlGUJOp78ElzmlSBxWcDCTiHkfsYdxT7FobnGjgcX5RGK8DEXcoQRUyvGR7vuOf3Fvt5i/uRIGUy5kkcmcGtRKx3QuBWrQwSI3IPQsSinsxzZI8WGIGPIbEndQ8AofCPuhoGSeY4iBY2f4dEU9YYnCpjlM1sUhEIImRqNQfFmVE9DcqCB/QZGsFaijCJsfY0f6gZ3IHwVgPSsQxKVEtYyhcnBKKxySdoSV2dEqFCe5pY+jS4ZNNloUK4JhNSOljbhZG/VsZFMyiHkTk1u/wC+iVOhTzgS79VRJQ0ZpPjDijDv0s22j66HArRPBkLcRI9usqD4pRI0ExOREpZqy6J5HLNoTJT6D5f4Fkrph7Hv4mnyJ/8Ap8tBYPEMobwPHajGKE5b6LfsXb/w3ajel9D4HLuLGBpaDONBLGJlSSPxjBjAhQOVoMTNJXhIkMvyiQLb3ZRkRDKkfsueYXZ+xx00HWpnUzeQ2q2GvgleBREyRfYjNBaj7mcqh7dELuaF+6vr/hmVyNLO5MEZyjaPZmMIWcp9yPMh+1GtKuA2jkxgtxpo8iFGtFGvIlrLGArNaUxBti+jJMKVQ6qSbScG43qUUommvRxpDo76CXS4OZYjR8vKToXORJkvS7lCgilYZPqeSQDIU3QzWEdUIcNWVvL0AnwKVkQgJO7H/Z9HqCL+8Glopv0htNpZxyPSUVD0O9IghYE7wREllMqJgsYaNrE+gxuGRd8SvQUaX0jXI1KFRezcm/cSy5Hfz1RhnJ0p41FSivB8C1jAmteieiEQx2hpecujUjLfqwQJ05SNEa1Du2ZwJ0k22h2BUpdFix4pjzGIfRCyQ5uzfIQPk0aGYUHWBCQkTmCrs7HdJSU0WHQ92xXCSYlbqnhjIuI4swtTXg8CDy7FuwYOxE62RPc0Tj+hIuR5JnpC+qGiD7Atg90gQsCk0HI9OohIrxv9EsidoM0Plr6FJuKkIyEmpZ7DPHiUXAmyUy2GysyJXtG+Ouo8uxPxF0zSejwVh3X0YhoRwJHzBqSLPX4pEJCjTomzLybfcYuqftIZ6b/Q/l/ghqK9j9HMmGROiR+1LZLErYrBj/ax8M0ENjX7FZeo9mWL+rYjMofBrJrmBPbFLWCnr0bJPUDLo2luTr07dERuBz3JjqToZnGWzcZBcznuRaOiL+zP9oVASNUi1vYKhrsQSGrc1rFhj7EZKdHCN/2C/vD/AGDH9pQ4u5GeRNIj/lNj2n+yW/kF2tLc9xQxf3IsnwTikCSRlKIVaDTgkouwP1gvSg2Q0ypV4G5ZeiXLCls1vEtpbhi6silKa1Tk45Hio2OpdIFtyWovfpyRo9CkOzUacDX38wiIKhIg9FIqqRaNgEqa+jUSSKb8RDdKRxyJyf5xLo9CT/AV4eiDVVM40caNpIjtAlfAjZD8Cp9a9oSUKeuSLRCSlti+jsa3Y2I8RJJD0L7oWw6rcVxwydrMyYfRmg9PM2KCFCLdptJ5Fx0y9hpeS0sEmRsbL4aZ3IjkwIaeQ6N9fJ8ToSIYldjc+z7IpijdNjQNQh4LX7KdGi6yvZApY/iRHR9D+WTuUmf+0JCY5SoijONhZeXaSSQIerhlewS1XTUZVv6olDZ5IINusxolOCv+AsIQuRF8ykL3gnKwPVDssZJjxDCDubbgSP24/wCMJPmeib+irxkocqnZxsPS6jvfomumD4RDxde/RL5wPfRFxsSus9h6GlnK6YhoI9DUUuyV7owQ6B5FTnu5IAKVUmXAeGx3F/RsVuNDGivVkgybiTQuNC0qxXhGI55sYoaq5FOxaWNQTa+Aookken2K8a6QQRXSpX/FtALsRfyG97SIOGPAzwVR9DbZ4LLN4F/kG9C0csSFPuCdjXdPJGJiWRP91ltEKA77k/YhQfDRIHVzAjfAMapYspCU7adx3CQJ06MsFdhSpaw5yRdq9Ff4kPe+kPWd+BVgdkOeUG76URGoDcUR+yo2rHsInRjeKTMjeobiP8AX9ILbshshZRChE0Qp6QupklD2Mv3l9EnmCSRoTOs5RL617Q0/4X1HxztfVHB9EwOxqtxTgVSyNMTJ6xYdTD0K+U1oT36vmCS1HwMTNPuHQnV9OTR7RTBI37Ej4Bw8EiKEbXoyT0Uys4XQj66I0DIWTUbo+/8AYn7KNTQ12z6MOhDYj5MTr/j4ERoZR5PhnxzkXRZow3otOs8H0yODL4/4eljG51ej74oyus7s+X+Oio056O/IMiZ5MluzJGLHT4AkdsuLwV0aCewLJDMtblBX2UZOBY6i+GRXRYNeBWhFKbS7jRP2muM1Z9osb3DcbppRyP0c/sON+iElGlgj/SSJk/2UOQ2hOrIVCZ+R7pirSEE2JolqE0SGugKaOUkJuqJhafJFybkT/wBI3i4eBT/qLeBQyFqcEu3sHtfgIOZparx2DG8EaGAxIzn3CluX5Zv4C/FNi0gX9cLU9RVSCZlh/gj4EktEVsPA4Vly6QtR1gzkqhtIjsLgznoytkNdGnSW5MGkWkEjfkqMdL9lHmxrEzI76BYJoQ0LAgRVPqxVv6jpDg4kVLcoLoz0jgdr/hTs3Wo+J0x5NR7Hyx464ToRbOxJrofQih4LRGnWyFhqPBRqZFl/6oUzQhrYixY/bnolBno9joWZFkt2hI7XUalaGNyJjpb7EwIDRPRPqlgQqFgwfTpy+mDfrS2GyRqf+t6F89fiGBwbGFRPTLO7GSZMFO6NEjUgiGJR0mgiemTokukDQnoe6+iObSP9YcDA3dCHOZ/3h/uD+NTHqBwvTP0Jj02/mMaZ8xLE/ZFpOLGvYaRV8BGkwQZNw+TwRW0d2FfDm7n+KWVLzOc7F7XBqY8rSIjOHuhVXlGwjyFsr7LaQlz4ikJL1IWWrwhuyO57jP2he57BOym8jmexsz7kMlhXrIn+EQx6jbJEEOg2CTReiMYeimnR1pAriyOxBEDHsbZL6PPRLNo8BFbCCCBkf8KjpROmnXghM0no3/xp0nYQ/BwXVOxzkXYasnovoh//xAAmEAEAAgICAgEFAQEBAQAAAAABABEhMUFRYXGBkaGxwdHw4fEQ/9oACAEBAAE/EFDYBykLKFHBZf7g2WtiKlArOykDgC8i/dctW6jlBEWrYLBdeIPBelErurrGXmBwN+IIGo5h+8LMguncFS1YwT8zKGMNq6lkpuP/AAQFNvItJhRX0z95hPNosMYw5NJS1szlzAEoFZc1MjCubYFbF9yM1Gx6bIDS2F4zj1MAm4rda2TJvNwWRmupgD0JAGxqIG9308RAFZzuF2BOalXAOPrMKVvnk9wy1RyJTEaenUHLWPcNbteIbaF2moJREZ5JqNb1gwLDkdQKtNSq4IENsZqcAo9JAVV3zGq0Mww9D34RoJgaiYFTmsxIrKOIBUHfPJFoQfFcRNyjuRxqBZorgeRuRi1a7NpjmAPJPxEO5saYDXUssByCo0lLeLFMiMcVs+alM3WEChMCAqBk+sOgdggkeYUcZEHhW9CAsteKiYvnNEYO1TsCROXY5RUFDO3K60nncexHAWAjylL+I2gsCr/6g1WB7riUC5CrBv6QAFbw0+4N24usTOwl5mTXtihQKm7qYA4Yq8VBpSAreosVXX6oWG3ARG8ymn4gF2qnlhYeRfZCDTMbiKUTscRW05WalC1Pd6jSAFHOyYW08Vw1+oGhfZNBNc4lSsdzDN/WMEjd5cNETooN9wUAt8wA2+JgBSd/2JEDCj6QobYJTvUGlB87iwLauojF7RyRJhZFBVNUGKkd91xFB2PMKefdxzFFNWxFiUCzkYmBX7DLsH80slLZK8M/ERgQ3QqGVSsxlmCRvKr8wikOsD7S4KL1vpE3pRV9TMsUCvRLkUajmGFW0vMGlN8kKKcr+Ii4FHFsZXLTJxm4UQCpLDMeWOBLDplYKuHklNX7b1ERyqLbrOpWw0rohJ0DMhgzmFNzeHE4DETJdrvMrnqUWrB6iTQOMcxrYsI+uo3bBZxqWjNt4aguMfKLRmW5yQbu1nWZgbUfrirTd5OSDts7SCgqWtEDIulxG53IU4rOJcbIbolrvA7SWgoz4hiVb67hcoxd8TZEHIy0+YhMrXFS2BSviXHit0kS1LXzDs7T7EEHNfW4KbFe5g3olphhEqYJXjMXYGzFA89JdzahibBYlajLkmd0SzRabPaNgs/eXoDjEB3MsGPDECNM/ZZEDANxcrKeHiCtD64ITRSnO5Ws7Z7IgHBh+IC04c4nfvFmYKyV8yh4Gc8S+BkA19UVQwVDqWFil4W4tll8xo5VmoxdKpj4YApFMYSXk7GkZQPDO5Rn0t+paiUDr7RhvhR4gIMZDqOM2I5hUbX1UtFcjlPP8l8qsbpT8Q5YAZVH+3G583/eGB2064VGsEO6xAIsmnSXGGWi99QAEr2xwGwgKurcZjmBTvEuZcpvyi8fehfg3vuHJ3fqHtgdUxbTR+YiorUdywks5wTKrD3KpoA7JosV92wFxpZ8VKiFrSMLqcObqvpHqy7pHcMZ+LcSt0TBHwQI6+2Ki8Cg5RQbYp4ZaWKBmiUUUsqXo4iXTxwQzhMV1DaCC82cQCBq7cjv1EPblVviXEuTOLjIVfygLAdlxDSqLpigqw6JwNx58Mog1TFMZTByQEtBsa4f8S8ORi6ytGA0KRlgqMBmxZ/1ECKV8hBNVnV/1LgqLNo/rzDgA709dMISVagEy/dS4Ge3h+lkeG17pev6/SUj1K4x94gIUqxNb39Jg0DLexvqWoKyVlH+2S4CbMt8f6otui8kr/VKRvXi8wqpkKB8wyhRQX5huh8wdub3TMouvN3p6ZRYF8LHQbcX2mWGn5g0S8dLA0IfLCWUBvYxF3FpqEuqcVVQONmXhzl44mVmxi4gjlZeojHoRjRMXXDHW79P5miSoqrzUVC7iGWFl4sRBAoefMG7WI+suKLm8wOzXOalgbtfulSLL6hXV2TcDB25hUAXsmOhrzMo65dcpXYPWYsAWl7jQqU8TEAueYm7ZHH0SjZY5GA01KsYjUZnFlji7A9iMz0H0odxJA8pxccZliznhwrVNXGn1I1hYByi/iVZ/sGSAIRYpp5hhbKUIa/Pv6y8Lkozw58+vvLtMrdv+1UsB4VC5QD8gaZuzEfiEUefHqJocEDUldmO1B9WDWi90f2MBxKor5sjkZoEY8jGoVApeQfx5hdWHtF/6plVcNVRqKw4fNxl74ovq0uyheU5gOtSzVXFsoCwmYkz+ZKAtxqwx/yGHKxFrBOsQeMqeGO4zGsUirfa9wpbXmXMhO45jGL9R2GHzKQXYb+V/JhThqC3vd6lQWtW/iUVXNQ5jQsTqsA1eBBG21ReDi64YnCmvMqimWqtlAFu7xlOEImGrg0BAigXyOcS3FXTdyggt5ZzVE4YDG5bSY9yrNjTiVRo4zCuZBfiWuuHDrU0AFXe/rABVHaajiDdzu2r3MGHCc+0AN18RAofbDLKa+nUKayPiotwog81y+sECW4fMFObCspM16dxgzqK2WJS3fUISjLV+ZdTpbEmoD5zGwXZ5jQiNn3gpVTja1CwhxW5VyUZPU2DfT3KejOeZYHgb+U2Ba4xcsuAV10x3jDDBELPvFEyGJmBtXzvNG3HcBhq1MdxMnG4uRPkjQlgbHxCiaU8lTTk+KjpVLqZLUu+pQUAVsoHdA/SWoQa4iAjYeeIpQRDhis35gEA2rPtHGGI64FxiKVPaUFF47KlmFWFbUA7Ly1xMZb4yRFeTuCqnOGs8wK9gZRgVRhkQGlLPmKt0veCVTIOyMgA9JZ9GKt+YALRxpzL2Fj5NSwXum/cUSH/ACMJXCMeZVWzM1QvXiMGQThyTJSVumWZZL4haztLK3aGym93zK+zcBcqzEKphxKhQTLfNKjBVod3OQWuI5K41N5+L/c3OTzdRCgLULjXd7amJFymuJiFKq0qdW2tVeNfWXZK0JO91KVXVpV5P0zA2BapK6/pKshSxG4EbhgCIM1o2GCvzKFuPFiNxSdAshWzXcEUQvqClYKQvxPX+sSjlp4JiXddG5UogOFx8SkC0YHENV0BKHpf3AAbxuoQjFpmiM81LCGk8eY9VDe87jSkD7MtcoxSNtq9RMJZzhthB1x6e4Wk2DldmVmIMS8Fa6gRoriMDncqHRS2wpVgtVs+ZaXdLe8wF1Av6y2WUv6Qko6SzeZfGwLH1AnA9VLbQ0XjMvQZ6bp7mdrBO42+4K+YAtETZZdQFwFOt/7Ear5Qal+z7yP5NW0iWT/iAjVjDj3/AGL2p21su+5itJ4XX8gwCVqy9Jvnf2IN8llouvUNKiApVGOPP1g0btaAt87hanzeRzrPr7ywABuw/chcrLLt8REDQwrGMsrgNPCMOHjpaGHdwXvj+/mDSotEvHcrU2hFUOc+pku1ZpzK4buoqWBzhEDfp5SyoWM3BWgtWAmCia43mHmCmobsVyRaxizvExKEDn5YcQM2koQE1w1AmI7mZgaebjBqmNN4sj3hYF6SErhyUGEs8BMi206aZsDJ+KBCFwJSkyxKJTfhgaBRWmqgoKrTUohs9OGyYXYb7lgxXfiUrgt7lkWg3fEXCA/F9YSgL+qDhDhNRyluviWuFuFsxAItU7h1Wxs7gAbH5QpBtF1A6F1VxBFXeKJUAA+QUxtW8zdIVw+j3HLi8CZ0m9pWL3EKuNkQAIDB58EVJbqwQuumttwDDcJgZ1/IFdLjL+SXUgHIVa46qUKoYaF94zKawueB6xFa1c9n+xCiqas/2I7gADM2edb+sCSvNmfvM9PCIn7fEIzbyn1xAXa+GNeq9zXCxZXqEVhm76QI3NpTT+oXaFJVlq01L2bYu4vCEaCxC0XxGZ3rxAGjoUxNp+BO/iKM0N1Y1KLRoA+iGiWDi4EtYTspDGdyrMZrmtRnExGNNJcV1Nwom0YqAFLRuNGxz1cZEaMh5k1TJrOMREw1xUuG2n6EDS3i7jQg1U+IEQWyynxNm8SmwefrAtivjmeTZ5h0BA8OdMTQK3qI1dTYOjDXzK0wV2cyxNd7D0i0BTFJB0V4E24D3CcJ9m4qzCzHhhZjWVvREhkpvfMeUKdPmApayO4qoS4D1eBfypYtm1uplgjXdF7vlAdCuSVPlhmIE6EYyYlOSsfvGyhBdTIAPEKehcNQKrV1oSgtK5uHetah3X1cSgWrJKiKWw+lfuBWhZnUsoNdmvUcBdeJb259agJDO5ziJcWg1xRFCha5m0WeMQTsryTQH0T8TBwA4vEV2PgJRQlZxc7KOGuSEAgPEACDG+8FU6puWssuzUbmlMsKK2DKS03GIb8SolVWTwRV5weYKWG6ZOoujVDZ4jC0fEFXCkBfbEGSUE0OOmoUNilY7GWCvxi5kD6TWSYiVgD6QKNqThi4RUcjCyiCUtXmVaVw7OIVJwlD9ImsGLLhuoeZbFscs9E2SgZiVitf2KkrGL1iWtrXmbSsOoAYG923BZZZMYqAKyhDzqKUrTRwzJW/DKqZG/r/APIxegb6eIVBR4SygAY6l54cNyqXldniVBXf1JcstC3CBFPURPb1L0FC8ZgWn7tDT/Ia4JWusR4cE4f+5i0EDlD/AGmU5A8mK4/McNUwHDHgRJzZfNSgdkiXA0gHAtjCsHOhuUDk+KYCUalWdkIw9VsuIwqo1K0CmIrFo+SDmFBk8y/Vb8VXEdFgcjOPN3AkfMN8kq3IWuSF8ukclK88RByXF6lcWZBcfviImfOKfuUXampX1YVFdVfu3UBVqZoY+LljA+rL94SiQi3h8Zhge1Ie3UTFmQce5q5WWroFn0j47HogpzWB/MIV9p7Syp8ImWBui8ZllDd9PKLQYTYzqPCK2md2O4hKQGHmAQhFvjEF2UNLD9J8qrUpsKpwMMoHOBwuNazWqOT/ABFcBUmmxvHzHNw20CX8x+RCtL1/IpS++Mj8PllhtAdAG4w5sO6EbyLOAb/EMQU8BzLQXV2NfGv9c5480v7gQ5hzT9/UTewDyNtG9MSm+a6PcuQUt2u91bLncKL5YXl8TQpVFK58eoUQ2dJyxBxahm6f/cwvs+Tpe014gI3mlcDuge+YvMQCb/SHA9ksPbFBzByIQE3tresTYeFULXivHUMtDib4gKRwD8wQwBELsbvfuKfIBs+V7iS+maAv5YqRt0VX3QE22ziyvzBKaFix05gTc6zrDuFLvmsoTjDomNI36gBb/P8AkZkbHVxm9mS9lQiW8kLTVKepaNiqCQoJzW4ErxWIeNRbUWVvolKEs4zAMgB4uIqimVNbed6QCt7urjuXgT9wW2F6eoZM2WUWbYjgW1VxWyS9bj+C6a6lcBL1W6lzaW831LdyruIa0StZi7C7vF8Ra3p7uJaxDJZ+4mxNidKSzBuqI9b25arf0iGWpx/yjkB4Y9f8lWK9AF54+X6wogVHBHH3jMkl8n4iVfCC5+/mKUK5wj9wgLB0rx58EtglYltHuVS0eQHnz5YOIrbWiY89W4EFWq72vP8AYHCbq9RJhAAvgjTGzqMVZfZqVSPTnmCAhi+o7yYpiigtPcy5fOZVrPNkV1ZaaZmCtpSEHGHcbhbSAIVHF3Ehuw54mla93F0Xs3V55iCw06i1QH7xAgBKdEVXNL9Jv2pbAt0Hi2IrPsYUrbEeGtdepemWiWeHhllOCRWsKXiAvYj6l+Tg9QA4vMo3aMJ/1EBguaVgxzUSMzMQ2Z+YirLXmkqcjwlPOIOSxrHTDNKXplnZWDEDVuPXDG+gPuQAVQha1h8sVNGxOYWQNcJLCsjjuAQCjHiLNJYeoNuKE35ilXWuibwgoDfm5+0CymXiWvPzMGbs8x7q+K+JQBCupYHCZzXliJYAola8ywwBdW7JgvCRSZqzvMY3Fa5ctRjjYE5ylApKF54iLSDu+4NkbZC3qV9oYBpr5gNgsZIGysSocGysRV4aLiEQGumAlabtYSyosNcWlCO03QRYGlvP0mCY1B4hJlTTek17iy6M1USnZ5lgXPkYqbb7KwaICDqpQDmjHyQCplVUI3n4qUOFE21MsNOrOpYBCmMwcFdL6wKXkR5mUKtsyUqncDQfDmEKFe56vEIXLXVYmbuBO7L8Tgq4QITBUgAFWQKvcS0TXuImCW6umZjEk60ROaUzGbZpB7sfMRlqqr+ViMoL1RUE6pce5iKS4KpQ2qjmZsosl4VyeIwqgtUg5SWAUOHlBWCxjJi4KtH1jlegGVQto5ih0sbZGUpS/uhdhVhX3lax6YL0r2eZc3XmswXVwchljh2ymniamidRGwPiPCWDzmKXauS+5UaGrQpdkqWkXD5T/eYLW21aZzXcWKGu/T+/Zh4nS1XUu4ekVY36g7VQ8aDMVEVzl9RIgUaWk/3MVIbuasiBcBp2iGUik4Ac4it2V+YOFoDiUwAlxUFjpisqlxi63Kl5eIW3aFcbzUIm6mSDPZ/IY8oQHKGfEx1TJTBx5qDApRemYQaKXWV+/wBEYNGoUBrNyq2ku6xAodYNCtuG/unungYB9gcjd4PEwwK2YNGvvA7WZesDXBGtiOdZP1EzKQpg8GoNBNufJmNOYW50BmDErrqUgN3VwAj8MNfULLYW25vjiPSVTYfD/sw0AumIKXF0juIcFPZBZA9nMS8Ep4PCc0tYhBzEim/LxASs+4UJZ5Ym6uhHhGrjPHSXWhjhrMTlA8Mf6iOxVxRx5l4KcbIi9bg5sT483LUs1xQX78Q4AGCv8uYgqtld3PfuMbDWEWr2SiHF3IuvHiJBTVACuSuoLw2IBFqtyjFJcxbCsiuYgWFKADnFP2laKOVGnHBMsCYLDDdWeIz6l2OL+0tZPaCpT4a+yILcSCiYO2YVUrgu15FN0wFUYFajiFJfqHXn/VLAEaRPpTDF8lJe4HnVzEshYNjpeo3AbkiAPhszM9D0F2ZFYNpilbXS8x6UjapfSmIOynOk7/kQIJnWbM1UQJnS7148xCsMMV1eolEzwvt/kAXm4dn08xU1ej6WKG3k6mQnJqFgrCa5ZgVmpQXgSXtoicHsVAF43rcyaSBkUHgio1Iv2U7BUQFgy/EVLseLSwmnq3YQhM3De8MSwu9Rw1EK5XpIPfIedP7MhB2uY2u/MRhKVY4wlheD5hKpXgYIoO3A7ceLgKIL5vxEAtFeB3lLYNW78MwEqHmAHwAMTU/lYymgrSLjl3Daq6UbLx8S4SCqUVxAotp4xEsX5KlGdnliWFGIqm7X8jC6KKDuWxPmYKSrdOEgbC72kATVJv0w0Jyhi4zCI3YzFpm3MHowCsWs2kL9QqLJQXBTQSFV1fmCjktYqIo4MU1XIjwx2p8+4ZwCtxcmf3AUDA8Zp1MS3uOXBG5QJAZNnOTBXm/tFsuIEBW8Y/kKguG1ZD/YMW8lRoZ3ZEp0IKqrE6l8KtVJySo9IWuf8uUZVlK1qWPI3GWoBTQzGuyM3xLddljGazHtLQYLiNLXu7lC3LWH8waAbN5c4gtMstPlYiAUV8kQy1BZUIAao+HJDqu3P4rASDN6lbrELGmzzMo1SxX/AFLsNpTiquXZGeKzCy2w5lNhj6RQ0XqBqhcj3wmIMowYS3o1M1qviGme0cBHAWtXI88Q9TfCWQ8CKSuJrhdoRqy4PuWsVv8AZcIFEVi63UVIWnjWFywxVusIZy3KgLI4TiZlHwrAstfRfLMzhaOSkgG1GZV4sywRJ47jwEckdUSpRb6TGoPiiBXP8y4cPiJGRhhUzKsb2/uWIN27ogIC3Gk1EDAoi1QzlyGnHEYLJfrJhczbUq9wBilzAsKeDuVrJTMDdXZYYDlF+5YF88kpReu+oEW0fuHOlXTCOQF/ihFtbdQoU5MWxY1a4uD61AG64Lh4FrStGA/L8zIrC0G8GY+nPXxdOyCAtYkY9XwzIoCg7kexKsepZQspvW4VoHLxwYgxI2tlwHeZyFoKB1bvxBjfLhFeFjvNQ4X2moDQO22VGfT6gppdOoHElcYuOlvNShq7u7CYBzkO8VCJtQX9OpWoUTZT0+/0wtgLp/MCsQDpIXSs3ZdQUlblRvFepRMmsanFKPBK3LlxVYguDbWmH0khUw6OOokF6VvjP5gwEHo3np9QHwvCVkWot5DRj/v2mxwhy+fECiW5wm2+IC2etGNnEDvklovpUr7bSF/P+uK5ZyMUgwNxsNEpwzlf4QO1lC2fqBltay0n1jr/AFGicD8NS/fVgEM2ciZhzZWhtlUDmX+2LcWy1fs8zDasBSjNV3fMN5hvzhfVvxUHq0ceISoeO+bl9Yq0g8Ha0+Zj8Sbexfd8aIUMYqgo+IyGEi4DsfQYboYDaWnWIHHS6vkmBwTl0xUJQfOo+quxanqU4BCis+YECXQq/EXG9dmgYP1GyTkbHivD4iyAxeaz5iFaM9ZiDLFNDAEtSu4o7DnEVtY8cS1ewLriMdLxpfmYvgG9krdGz7yueiVamCsVxEEzZPFK0FFsuLlXK/cEGN4uYLeQ82RAQOdjBqFsrO83E4o8FQMgHtA3sC9GEMjBHBZ4nNItsdrW9v1lpW1QHtdjEjoLbCx2+iBRqaAqx7gjB5v2dvmZaKEr6OsMaS8A2Uarx4mYmrlLfdIBvkv8pYOa7WCA48wHKFoLSxTJ4frBpKnhY4frNwRg9j/n0llLdUSG9ur8yyN0WbTlW3m48ajBWZsLb/7LRobLld9w3UtWivTp+Yt9Lu1QUeMi15lkMSVwnvzHsR4yrf11DGOQWNqMh6uOrvvaH79R6yGBWX81UvBDm0/GJRyAZQghYsXdy6yGdeYFkWxqtQXN5zn8xCwlxAGgfRMLwO/nOAmYo1F8WpqYqzzqWvJp7JhQq28XdkGAcNcQY1C0bKtiZCqp8zJVNDOtJoRGV6xFCsPmHQVFdRauV8xa2e9Q9I/MSghWn1/cDowOi/7F0J0GDaALPEwmAeBx+zG6cPX7iyqwqY6qDKsSokeemh6PvTCXRH30P3EhMwGj6ht4Od/peo+8E1TsI3niNQBXAMB1MdIY4jJJiYZ4f2WgAbzmO4CL3EbUY9Qu1grUrPDk8VWpktabb5grA+GLFlJ/tx0lOCWGSKnVS5Bpx2Vymg1nwxNd4c8R2wuJgZAY0assTtsgS9m6zG2WQiZOEeblBkL+IoNCuzjDzBiObOSWUtK4SKad3EtsNYZkRcsodwF6tksbS+gybACBYtkFe5eNn1QAUo8WbgarRot2A56gRRWFxChhzULBFYxZhhdNbULsH1o9k8wUavCHUfJz6j6NXRjOVDF1Bq24BuXkMw4FKFO6P5DwojJeSo1SgbEsRt9XmClNIXZqVAWefe5WIHPzZ4nyF1ZDDYHmWKqE1tQ2idLKaO0Ko09yg2NYwwM1zzBQQTzAsBCshCaLeOZQLzWnEbwLkgPCs1CLRxrvrDGbdcSxBTRd98YRnSLs+IWyVR0QtBi9wFC11+X8j6baDoez7y/4LuCkNV8fWUyrt4bgCjprUeN8IQi5AHTLUwed3FkNdP6hWDoth0jBGarRowMfaKbMXx1EMbFoaglF3cLLZcXeyK4Jt5hVZzzdNQIIXsw8wZpKzOBrjMUUNGLqZbeT5ZgnItlBSN+Gz94qki1sihl6qCgXsxcQbZm1eUw9g9OJZvF2xFZ2nDuBchpKMtZsYPYg6vjXmAXb6nmXjqAcgiQnQpg61nEg0oig+n7g8bk9nnGSo5vNyUfVNlwblepg5vp4g1d2nGIz28jZuGB5YPdWynHhBbcArfFgvHMJ3nzyrafrO1NWD8m5Ytps9rKyoaXxNrBw2ZmHoRXIpiANi0zTuGAssKt6agiMQYDRFLtHiVvSsm4+ixgrmBCMmHMK4qLHYYsO3NWcS0VSzCO5Zp6nOOeL3D0IwGqRdRZFDkQp/wBiWPwQsmPQ9F358xOhceP7QvYyN2XFfyW+UNFVfDB2cziftGBhsND/ALX3gpJ5FH3HEUTeU2+fUOTTu6y1Vyi+PVce/P2l0/QH6iKm5oN/tjiYcXKDXz8RxWXCwo6MxLUK0M1NU9v2ZTbG+pGPbuW6MAtpn7REDRCNrf1uNqQNIhev7EPDTy0qrLd+JxIDU7Hw3FJ77bAbZ6L+sTgBMjgrPv7xmO0ZlW8casDxUsy5NTC6W9moiysaAD6infwAjX+xE2iquwE+5+kSAN85IloF4UXd/Zi5THtaQ1+HgsRuEtAOxL7Pww1qvmyAYQjtuUrOFRbL3xqYilt3mXbB9MC6B6WUHIRuu0RoAbw4Y0ZzfcLVUtiFXjHiI2oC2WRI2Cfd8S6BSx5Il3pcOdkKqaU2PMNkI7IYAXDZVZfyUaTzeYJSc4zzA2adLAC4lNbmAT4QU56gbTQinmWQOBbbzbGJNYCe1W+0A4EF2urhDfExiJAt/wAtwqJVmauMMxaQL5x9cwkg6INvH8jQAAAAUHUF6ongz5gkPDNCHce8UXss59Rxos6LEG0i1rfHjxCamrgNg/QYJGzmj3r6sMk22ExSsrqHVoFbdLqyGqHAopws7jEBAm3s/eBBl9Zp0/kIbV4LvUplQTwWn4jVguEpvP1mtchTNo8Z8EVG89fqfMYtNOaQz9YhymOa5Q5lb0wsNwDZ3LToy8ZpDdzAWrvcNXmipOcxxrK5Lic2543ExYXYu4EAGM5aUjyqNZ/n/YVECORlNQX0wKZlzQjhJaBAXK97lBtQjObtzBKF8F7gOSzxcyIPBCa6MXZzFg12pd6mRl6PZGOFX4gpZa8cIW2AeWUvFLm1mVbRgZqrmBQRq8NVEQKJpvcaooYNBS+MPq4eBBYcDn5KZx9apoq7PLN1KiCvsybJYK1woWUhttcwRgNYpKtTrMG0W0ljAA4Gb1GUW27N3m1zQh8xv/hMWBdEViVT5KIQEqk1uFhv5PULix8hS4lNsKrN83kZYAcsXXEsNuU3fbcBArBQ1BVVqsJW5lSz4gownsagcVZlN7YZAOcvMNUhY4dRrdeR3AhBVdmJ3hswcZ/EMH7NSyi1/mYrtXFwS3vLsbisXBG0LNQm+uyeXiVItXNqWnJKNpUMkOZQ+yEJCs9xQ5cBiKoLHPcCQJ1FNmEYliYmUppWiuT7IFB4jjJu5rvu40gDTvMYrU0vL7i1S83cUXGfUAJLoHZ4hLDRSbKz5lgoWHFo0sMO+patCngeZeVrTmXwCwzzlCZTRWMQeQPZ0wQUeBzKppWEVGwsoecQQpujUKXVA56ge7cKwylHIY6gqGwd26lNIVAPv+w2Nx6LnzuUA0tuREpsHklPKtp0Zlmyi+IJewaoxCAqLmytfaMKq5h4e5R6S8GGYWd1Bp3EIDS61Br47qBTuk+YnwkB8dmNSgemJajR7xUvwMYTuAoVu95gphCNcLlXDnSZgrNU0XiUA7KoOa9RxAs6Ih21bjxAmChCAP8AIywKeswGKWhwxQ1QX/Mx7Sn71K5k00CpxfEKC2NqL+sFYBw04a/v2hXgeEr9oPKp4v5/kLwOU1H+uViFdrjXR5g0Mu1GIUkqZ9/b3M0BQZzh6uFvkPZst/3xLRZGs4SOcP4WUWKTOHUAAZbTNQGBNmadOIIUtbMrjkVRmjaH9hq4AVLcwactdHUVMvDCaxLwVHebISabq1G4DtB5gKaETqOsrskbdDzBRQXouKLDU6uYQV0Lca2ALxh+ZikFQXcINlZoCo60j3XcttFM5xqKtlN3ojo2IjwYYGgAsD4l7tuq2wTBN3dTDpyZxzHmYHMzwA4sxGCAq5cC015gcYKOO4VFYcjcCsbRJfqOmXCg64jQoNZ91EaBdnOLCg0vFgPED/iVr7Yg9YIrGbusfuNshXYf52wYrCUoFPr4IdBSwg8c1KSckMFgaWo4OTHmNxbcP4qF0cZ8PX8+8Ne3LWmWalp1inP/ACJBgldXTzfqNB8CIaOM3PIu8/77gSyrq0rC51ad/wDIrRAMUvbFamzwbousZlayWZQn6jWug5HH2mSKHZ3R0eBXkfXz9paXhwKTV3X5j5SGgaD4q4vcqLUOrgsJnCL8DcLDqllEPLeWPTqXaUj58feHpWDSn7swkNYFOtZz/wAlVTXseeLgMB4JVM1e4iQS96cf2KzXJSBRd2XqoYOFSzOSFANYlDAgv1jRSzRnOpdrK2YeO4oW6ohmxKrNkQPQP9lDKo8xtChtzjTLGdjNQGSiGUl1pAUujTUDRC2ID4b/ADDC2BIaE3Y7hNXFWTP0ZqlOqF/UImoy3SsfrMgbjKGvpFAQFVxT7zAPsCsKkQ4WlfYgaApdGcNI05KP3gQKjQv2EzpOAWeXEArO4CfWLcmlOP8AmCFJkQ1WaaalBtm0s+qv3qWnRAQ1XR5imK60Qe2LQY8CoSxkr3hhQK8mnmGUBTYc6hYpWcrfEWhfxP6iVwb74l7admp4SQzAUF4mtR1HLLMCql3sjZy09MGwZGPpCgwaaviANEFw8xQglYb3AoVimBuoV36r/VLi4FpgTwosYuv+RWL57IgrRmHVwLsHuLZ2fJlCq9ZrMRBBdGPrGiq2rZDEdCi6slCSwFXUx7gOF1KVLNrRiixS000wcVQl225ltWxwcxNFYEb9QlVntMg2dwBbZ5YtIjLnGpRpbxrWCJbXdmeJXRt4TJL6fRKA2tVLYlBoPEIQapj4lluvdlTi+I1VC4igALhrMRYHAacD9ytpI+OIGys8Ra6Q7Y0F03sjctOZprhhIjkEzwQmq0Db3GwDdOYcmuzEvQaa1pnYf06zBUXwFxA2u/MGaVXbGm7TVWbgdrZrlzzHhZXeM1LwLxTRLCmx43/5LWElc1COBcyRpcAFeI6Ry1LodORqUu730ktrJSckMkLuuz6wqiU3lDiUFHN04mYqQcKXNBSi63Kn3XBqFqshItBpM4gK100PUyWEzLrRTYY+YCvCF/SWumnuZCt5rBKCyfGYqRC3VE2bVc3wTTymvMDY2ON3C+37i2GxTWoKE3wbxHVgCV4izTF3Y7EagoX0eIahsGsZleAGlvMuAMmH+e4NCwPBzHis1myZOS9juFRCoLmTc3eXE0DQ7K1KbVY65loidZxKmg51FsDSzB/yUlYtkbg8IrVFh/JT2LklwWU4TFpL3Fr1xAZxG2eBg0QlNsL0pyy8MyBqg7Sg6BkuYPZQ7GSJbA6MxRZA4vqBCzu+/MBk2uK3GQs0lvkipJTRkhV5MOpsLT2THDV0XLoUW4viFkc5a8BzeItl8MAvP9gboD3V/UaQvZVC1x/H6wtTtc7Jgw6tBp5vHH0hHzUOZ83mNszw6+z7gImo8LniLUBWkP16lFbOGuGPEu0KEDQ0eM/8i6uBgDL/AH5lO2q7AaJayu7df37TDMarPrp8xRDRBVlNBzF8eXl/Y+ojzT1SyZl7RPz7Iu4a0tvzHlXi9s5J5YebhQ0xUIpVabzdZ6IlSuiskK0/OGVq+czKqVPFa53ogAUvq7uJwh4g28a56lq17E1HdaIoR8k3o7Ossrv6VDAFHmGJYAFV/EMxZDHDZEILcb3KQWYvdxxWTstp+8S9K6nLb3EiStrTwQFkfYuAY1nkjQasM1mBrAb1e4eRpi/TDSGSi9alIUY4r9x0qseYGzI4GDCkZtqAMHKv1ioLnvxHKVWsMvQWddwSwrO4vQG9fNH+6icAYX2DqGtLOZhGDeDiMzmDtTSqd6YOPVSjOJWAAwGGX25l21Ahg1/qgenXnX+CINgXijb/AFzHUGW7AWvzK1T67K9U04+Lz4IGNDigr4uLM0ryE/nzBadzpWtObviG8ag8CuL8RE+XsOK78xJM2VtrfHzGhwe7zf6jNcjdsC6PH3ixYXnKtQBo78Hz48xO8Di8H2gI5fkXXNePvLe54F+o9PC5zWCDJKl2xDbq81L4WobMk5jFj/5QKhENh4mgmHAsNVDSzMzsr5jhvuv+yjyn6EwLWnGckFpY38QotaPJklUhb8zEZiBlV6QaqsMMmSw5iKui+piVy+GoV+/MWINMmJgNV3VRjg6blgfhjrGwe7FwsYri4OerKuoXdVl35ShKNPIkECJ97gCiraxxEVq69QcbtV+YsFOJsICo32FkHWrxwTzFeYqkOkZvGCmQp0u5WiVa8y1tLcX5mlTvncClLdZiLYSsfiZm75IYKLTrMKNkT5x4g2NE5OIFywfixC5Aq0dajkVC5RIadbljk34tiiLNtrPIpwt8ILQ6eIWIcrzF6BGqywo3KGgZJX1RNvBqZbAquGC4677jGA9r1E+CqKckp8ZlpC0rFxNKUMKLMn7iW8VpdiEbEDSZajrWWowGaV3N7WpVzHgQqqWmuoLjEd8RZDQO5kLkKdKvywKWMeYLaCDVRpB/7G1jnsNRW0MlfwhQFY5G4qii7YYTUJzmVuw3WMwlGXWGNS3aTjUAbOHcawNywro4GmOlNao6l5ARZneoM/VvmpZODqhiqXBwmZQaUrxhYTsA9RBUEL80Qiih4UgOCX3UskuuG47hR9S5GR0vqbwHgpblGEDjeIGAFOnUeFBeLTUVPwFvci4LJlmbYpwKYZSANYdqvwXBCA5dS+62PNkYDCw57Q/NsKzzAoQp4tlG3zByDrEV0hAPq5lFZe+oYRahpGLjoGFFTBQoMowEVw/kut+I1ydFiEQ2orXp8zAEWsEHKvmodqLV4bgYjInZUcgTywQdX1//AHEGiZMIP1BSr9n++Y20uwN+oMGCw4cY39YEyROAqNACmgJNsc6uoDNAlYdQHWio+CNdbfLGo7ZrnVwwBC/NwBZTWiXEOx9SKYd+DMAo21zcEc2VujmYdQazEA86McWKEyeK1OwW8OxgyrCXslxmzquYiRRPEpKbXfNsSw2JgRjfLEJyNotgfDEthD9hhwZJ3UoNof8AJmKTW6JYqL4zMVA3eS+IOcGD/iUsQ+uGGEVSPdzFlVX4gANDkIWCEufJDVbWIQdFObZShv2Zou8VBNhUpqPA7YQ3Fbo4IT6xLioaxr/sQ6HXSL9MFYnkR+/Mu0uqKqPnc3fuiqEGnxuUDIJWb5icG+Fn2gxFlyCMfaKG0ggULLNePvCvbJYZc3ihDIl09E358n0hLPkOdQOyDQ2ornu/tAKxKpsGcQvIqdOTn/kSVddv8ggD43l9oL8gFq+3uHQb2PoV3FItzob5/kEBbijk+8vpSCXsNd+36TLMg5f6gHaChRmnebr7xJWHxWPvMAFRujGTz5+0LfW5P6Yi1ZR8N4/3cJIyo1dXg8wMxnlK+sqAp5qm68f2IbO1hq+0L0NrGKr5+IpAsdnkQtx5mKckhXkjVQ4DRG2sD1EKpmsNwQCjygoADse5cSCAM9VKKSrtiihvFJKKQVtvMtCuF1GFeixe4IMB5Iy15gBFS0uxmJgffM0YvPMI7Wp6oSwlQwYrB326hZBStMGHkqruNIBTm+EMo2A51HYojVaRllBYnrEWxK+kueQQCLeVVDAVtZswk7hb6o5Al3sdzbZRosojQr+zLqU4yvMaILN4Lqpc0I7CY2BeE8xJNoUZ4fcVJY+oxCC2VWol23lgszLCq3hqFMTY1fRLi8ovuyoEU2WUZd0XTxcXkrdn7i0li+4iC4Ep9kwioBX0l5Ssb4JbOrqBYKvhlUG0J50NOIS/UMPYC52RdfgqGkoRwK4m8K8jcHLqtOZbmrHTAjSfSfqINB5uJVc9nUe0AlZp2/UsrwYugiUC12zH2u4uQ5NWVU3C0HPW5zl1WV35u8waaPSmoZK6/wB1BV3d6Bbgv9LjwZxl+H+yoFNDuIha9p0twFis1bEtcqq9ZTJwnqKxW5VKPnEtdBhNsRLsKemaK5rv4RGK5NwGh7iRAAzmonlnY8fSAGwNx+SAUIpFPUuxHTVZgrD6IYN14CLYpzCVkt6+6biERQFC+DuNHYaFU4+tQVkTtWoivCuYaZfAvm1zOa9kCkprERbAjs7gQk6S7DxzOotYcLEuwHuFBZ3Vp8xC1xOg6B6hkXYP9jk7rd1iEsTC08zEF0XdJiApvnO+YRg8El6Wjkah2g5sH2TV4s1bAKHwJLDFVe1l7pTfj6QLirLPaNMihiFnJxTHeI4xM2t+mIShk/pMlQBieyaFs5xFDa0eIkAB7mz5Sg7ChgzyRIaGCwCNFIjrD4iZVh3BQ5N2NZl8dCZu4isHL8XhllN/WGKHB8xKsBtzFKMreait/AD5XxA15DTRGbgcVcsMLHSTIBl49SxwJ3chfzcaBkA24HzLGmTKyu6l115oE4vvkltG2GoPA/5cyMLeDZhl1RzALbPCZgjfLtIB1nqJSno3LLF5OPBjtWQ6Kgi93zEJCb9Sv7Cj87at4+R+5RBRfh1KTq+pRGr+5tQvJLzGXLC07wyshoMWWpP93OSgS6R/u45S9jhf+qBxlXFp8fiA06+E6v8Aczh9Wrd2fuIijgYr3/5Nq5lsTlr9fWCvnyozIML6R6/3xEZBVhR77g0iCCLzbj7QxDaOFefkgJxZ3z/rhbY10oPH9mYsR4XMv1UBVby6q5d3QitvUVSCxu/55JpXi+UOymiXg/8AY1xETRRUt93EBV3Qp5dsMl2KAPg5iXngynqqj0oQ4CGzT8wSFISvRxLdUCI8fEs50YGoJSvm2AOlyw1aL2yzw4Nr4b6hULROIai36uoyhmNLuBzSMYDj5lVstC8wJgR8cxCy/aUY+GIiDK+JrThPiFVYl6iwpesa3LAqjLlVd+IFTdvnUVQrK34YlNpF2DxDKWoC4OU2RFmm+WUphxzcZRq2+7Gdb2Aq1/EywFCfQRB9YWVqdnJEusnNzNFRXp9wuwLd33BtdAaNnv8AEsKXjIr5l+odFL8alXANXwVoPcEBw8Col/o/7UGAdGFGCEWXrkBO/wCv1g5UB5atH6suKCV3vH8mcNDVFsY9y0prSsONjlFseT58scTUfqe/BKxClDEybvMdr7C9/wBmdTJdD89+46I1d6QNHU4zev8AVCSmAclDZDfHN/J48/YlSnKoL+oCLBlvL8QVuBsKV9pmtyxyw9Hr6RTGrKxGWG6UJQpHA4PxFmw7GVA1kb+EbbC6hTY4gFKpjXD5mVCZqW2UCdE5+Lg72lzHB00/oykX5GgTMAcvIq0Pa09S5Cwt09nY8TMORh73McFxnP3gil28QFI0/MAWCI4YXgiJnrAItmvDMFQtuBYhRg5l3TINeIW2aHnMsLnNvwzczo71OCxU9mIIGk7GG1QuF8Sy+GnNYlDXobOm8xYLYu8cS1ob8E2dlOGYNqPSoLOl0vWNajQZtfW4grLtm6hYzZ54iwlhgaiSpLl7mBQAxxANhVq6H4hayiYyZ+YJa8i8TmrPcRbQUrMcIFzB+ZuMTFXKWUY54ljOtVxC49UwFFtesS66SEi7zFO5T4UUmoTmBEpoqz6S0O2D4dZgSTudRvC4ymM+JULV018MVVSB1cEDVO4pY1fI4hDCZMipm/hl4HAEIWXjzLIYu7WAAGFwrLOTQ4MdxNi48acziDvvwxqiIyVfEQpaeEIF4FmQqKNut8IlCGeyXXaaPQIcmDwmJSwBb3LKoNphdZNXBbejR4MxF6KeM3Cwo8OmXszKANTu6CJei/s2eY0UK4uYGFFWy3mM0sIQTCmmnXmF5uuyWdQPpqUDbjZWYy4tW8VK62B31CUk9EJEHSZGWsyuWXV78Soy22URTu/URQyFAsEKJbTGlF/LCqTJHB5qXKKG30wUGz2zehvT1LN0ucNlRwp3fErVJspcnhGQAXONTMuo8piNCoPI1DRVdw1Ol6xOQL1b1LqJOblEKnQZIUQo93Dmm7ftCLTka3ghNLdmsSx0ALMuPpEusC8Epms5trUNQGxVzxN974pmnztYrMK+4GioL5ZwKNCnyJRRWa8ZIptScr/dwAp2ZNoOCjPQmtzhEmDAxU3oTNBao4KCHO4DJlydfEqeIdxTFBq89QDq2NcbjkdjNLHVMl4Ggo+kXYX7jeEQqnMJfW3J0MJZvZTdsdpbWswTar89Q5h/aOzVo+YciEXglWXOGh+0JtzKSvJHIBWul1Y++ICKS2q9TEJVDMwzZUBRIFbjAtkOKmcGn3uBpHBAxiozhk5Kwgt4H2znMdxBm7I2nWm8jUActjezUdCxysKmsnFlyxGU8MIfI2DukBQXSxV2haWuayI2aBMifVQBLenOMXtRrgzKoWcbpQ/3qDW80NrNfyVgLTAXj/sAthVqzF3/AGMMQ4tMJRBoluq39I7mKlAMGMy1v2BnJQ8QlfWijhb+59I6ov1u4egI7OZcVpMHTFl4j1jjIX9YBaq3S/P/ACUVRvbEQmw4Lov+/aIB2Ygc0cMXpVsAueahLn6xmSe8EXpQ2H0IBKvsGBY+cprNhW/asyyDxi6/7iClOX7yrdyqoGNX+4ZnEFlauNo2N1/3X1hXlKkw3rcDGk4Dx/viNV7rLH8xTsN22Zxd+D6y6BfJMX3cVIlaFbTIXqDwqJQO1cX/AKptIif4qLbEL2Vj/wAlAEVN3V9JRtoi2aHZEMXSFlZtAXaLfFzBYY8uoEENmFZrd47jtWL/AAopD4Z3MSh4GcTQpdKmQ2o8wFAsBPUrWeLiY8fDGsXpqHuKtFC7VYtYCwL5Li5cUncQC4svhOAFGccyhbRnEsLTa4zAGwLWhltwbpTSOq3lmApZUzq+CHdb1TdQleM8PSPDL/S5Ruq3zuE/NhpHtqJllTD+oNK+NXA5KjprUrKrCCWS8JW4Gr+NipGk95mOB+xDoUGDk+cRANdbabYADQXaPLuB0e8394WPD27juud1LwWHiuY5Zt9og1uKU1Vomyh7SywC9XNgWj94hoBd3eZRuLX41GZSu+sxxaX90S3ARuyFUsifSAIt4j6ITABumJOLzd1cNTjjOCURY1Zpm4dienqIQ8GRrhAZLQVmOWAXuKXlrk4mTR3cJIHv51GXZQim/UbAsI8ShyIBnYsrf8EvqIgu9ZMQ4WSAGAVcSwx4jyIU6VJRbwI0JKhjL7vlqCqqV5gGzYzmCLIFwauXGTlGBi/U3l+I4x3WGI03yREA5XFZuG9FviUvSIKN3nUyy7T9U4nhBOiuuoUUqy5pmxpfBgBmaBXGYZXZNgLWY4iGYtnaAkDJlTRG1UQZeY/qUGYVWwr7RKGQDB9pfDzPSRQL/ccGcliyy7gcqF2M4jfXwhSHfJ1Fgcq3iAiydcwNoWMr1A47L0ombvBjUNpLdoK1CnI5piZYb0p3Kk7qkC0B9v2jVoMmW7pOWNuIWSIAalLF/K4mF9rah1yJfG6iU1mx9pjHBxFzZIsb7Z4EK3LmZXujdeWIawlIVHj6CALCoOF/eNCvy4hwXV4TnDDbOR+7KyaprMA5Zdx2Ao64lEb1e7hnMocaWJECmy25goo8jUdZHXF7jAFxL5TR92EAFa8IX28TN+y45xOGFHEOVd3GQoSvgABlxcCImrVVxRinikCjJ9Spa0YXX0I9lZQAJwVV4ruE1kumVUhMnBluKAXWKQHLf2mZAIOdBVr3iXbF5rJFTdAyVwTANF3LoN+HwndasVcAJ5RbqEIMPP8AyHCgtrEAApw11BWi5ru1EHaHOuEK0ULjE2Ag5qGIocXTzNkABausvEclGrxdqmZeOLoJlLPhLgYjtlKcmN1nl5nRAtpwtr9Q2EF6b1/5EuKjn3j/ALK83jPo8xbT2KN8xIlgkuF4g1gIssN5D9wYKBdjQ/36l9TpeA4IThtnBaw+YF9FSVajh84cRJEZL446lJ/Cw4iP4WWGJksua69kcy7pMYbpz7hixsGgKqvf9TIpc+YQZMTfn/J9YOAlY3ogigDlwrf8YoWa4u6Jn2gSdKg0MGsf53LJhNZFmP8AkW7MaR/uGFr1FmXCWCejGlzDFojGkJ6JF4IDePU1FU0dxaxvfFzElB5FNrAIBoYc6gixp9wri4Xe40ksTe6hhOVtufMqZVfC6gFpF1eYilpnFrqIZB4XcPsjFOUNFBRntYC7Xe7uYN6+IKSmPvCi0078QlklUj5/kEuqh5Y2TI1VTF09FB5jqrE/MHG7MaDC8MOD1QBZV7u7jV6iyJNo28wQbAbwxSxXXWisKp885h3LFxRUDJpqG3xKW9nUXrYDenUFgb4xrT1K37gHzKlFblhjOij/ALEa+OCU9Qk+tnGefljVqZrBD+J4GlDz4iLwnVk94TCokXQ5RQwC3UGSG08xZrj+EECbbDXpi5erKjO/6wdhgyJd+ZaCnSNRx58TQ8Kv7eIXBUNWMjtu4Iq/IDHj5hXtb6HqNuONeXX8jUxU9G/tMoCmxgOsY3K5N6OdssRdLAswp+YUq7bLhwOa7DEYqVnX6ZQSIs3jUBm1JuJsL7qA1VfcD5XHtKmLsftBuCJNovU2nxcGQGqgNV1ELsLpzVQQTwOvMQBUenMpcavxEM05OyrYteD0uLUnmNP+fWZnI2aVfwlB5YLHlWhPOWLmZk9XDuF1y5Th3XcwcANX/nEVCWTRqFseWLlBV5HGPtKGG/N5iybMHE2Qo3W5cWCmHiaAMcEVTkh3C5c70+mJahgjS1iVNiTjMyGFOl3AUt+epbYo5BxA4G3q+D/cSwsm0frAhFt31ETSs2G4u7Cgw/24IU3TrZHeoXF8MbcYNZnqV3DUE1i4hb042JBjQDRjhjBreQ+CGWCqLtfwS9OHSEAUKF5wxW9dUvuV/d/aYSjfjcuFluf+QBAvvKVULm71xDAMFlebWYEKrOmcI2xAw6mAvsrf3iGu0202Yo7GI+RhNVuIpQI07J4EajY5qo0Uwje/tCi0dOiHSopSy73MlhPWYKMiL1UxRR9C4m15rTiI0wsegEFix6hZTzzFYZT6RlqyxAokVC08EeTgG67iC2jefEDBFp23UAtjDOb8xg1eGiNdtVt6Ibj71aQFS18XUBHAzutwF5MqgFg4Vp4gpQoG/Uv6IIAcA7jVxF/Uea18RpgbYxX0jEjhwu2PtDP1MQyCm+0W+QmxW/cFIWBvoLR5llFRhFVzXyidABbj0ylPZ7P2gVQWf4syBBDfi5lLTWmOVJ4XiDYycwVe4GsqNwHADXZUQTJovmUiivHMqeFDCE7QDVwi8lOM4mdOL+sBhd9syyFZ1BsYkhs5p6/crUhRCmbT9Ia1LsXfdC1NQUbG9Swxll9XEDX0URAhkTGBur7i7Nlc7jqjTlnpSouxbuCWvBRiGx2HO4gCGs9yxEKll/EcATBOtRekd9Qhy9DA9FHlalOSuauIG1v1yho3StChGCA73AYPBcWoBW5dn5PfuJKzR7LJZyxsA/dEA1RkA/iPGX2h3qUiDZTFY4awhzG2hTeTiAcF+qAbOZYzFbkvXmIIYAVzU8tspimaI905l2g4zbE4nu8zQ5qYBeELBhrImZaqozrzLAlnklFqY4ZS2180CHEwdLuANZ1v23+WAGbRsUYqMWqxJx/IKRehR+ZWltaPSL35lpt9UP3EFsOQVjx9oCyrvbqvHj7ykV8lP8ma3Gz9WVAu0UBWH+/E4xPTf1lg0wqlVr/v1lDuF6r/AGKMrzYP3MD+rC/L5iKLxA+eNPVTzC7/AH5h0hVITx59ymEp4dP3h2thWwzVHericlTYiqJWadiEWK6teH/ZmaQHnDGIoNcG5Lad+NRoFzU93VQoFnGEv17glQydn6gZkt4pF78epjPnIk7qoFUnkjxwHuHCl9B+LiMnbjffj1Ma8HSfmDDYHSi7mA0KaMW75l+z7s/pFJwrA0AUFwpa+/qBEyGW/wC4l5CtLWluGIzjKD6Y0BunVy7AMqDRahRfJjdSsYKvzhbdii8PEI3y5P8As2mHbuHHXnmZFvUoWBUF3gUZuLUtrruNhLRU2F+Ygayxi3fXNTCGCOMRFajb90oo2bc5ohzL94lQFG/iVdomatwxUBA9+Nw4qzdDbHxR8BlCx1kcwoiOndy7CXmxjaUoMJqnMcCy6xfcEUK3vmV4arohbaVsfEwdZXz4iLyA6eIi2aE4gtKLzkcRTdBonfzFTuhUQN0WOZQGELq6ioMUeagIFDWLO5bqLbls+pA3LBc+0Yjbd9ROB4aqAorhxmApuOw2R5Csj/PcBiHDiWYsb5xC0PF0RldumzUaWRr1f8D7zbAhbgCowi0GVvvUGGyhSj0YPrMgMZhiUlhBK+l07xxMW7zn2xXAV1mLKA88xGNWOM4uVDRXC8w1MuVXwxNTZV4JWK3h/wAlYOh5ai5KHi7JZ5SyPpcRajC6Z+8YKVPtBoVfEuSAN4Yi4zqfUSqXTSsVBLQkIU/GoA/JXUsIbfH9jFVb0b6lEu8tDMORfllWhtVVK8qNalb7BFZD5Qn0PqLM4fNxyXaDXCFgbyqkzBtUfBl28RvEl2bXxqNH2Li185LYKxwLy68xUlHupgt7pYwemxGjhCAKGCjW99sZvLuxR9uYElymCjzL42MtI8pA62bS/cvFN9wuoo6goLLp/UDRXDteJQdU3fEGHd0MFlK/WEMIVN1qADt3FViRNUNxtdOvjUCRUMPATvpF/sTgDvjUsJemL3EXha9XBruUZS653xDErCsjMIN8XMAmaUl3Ghs+8BS0K9/iICWnqCgV/wA5l9nl2gywr7hOEpXJ/M3zNhowKLMOCAC5ycQTaNDou5lQX5/UsEYQR3nEDbR70zFotvM2AIVZFBAUKtGxxUMERCTwurgWWX2RQLUu+cxrI7NFfcmV5fPMY6MBKvj1FQGjAYzLMZeXDABA41lgtLjBbMAoG/tXuYzlrHYU6mBaLkKJ4hiZRYDPzK38dFCXG1qxdEVcNW49OIlDCG6hRQuXLRHBCMWIxuUH73LPczHrh5ggJx58QzIJ7zKqaFOWN5Eac/5UQYuXbiLIiW38wsoZPCA2D9pldGvM2g8LCopBRewF7ba18zFhpYYDpWMy1XeN/Pj1B4Wnh558SrZF3YOcf9lVCi26ta/79Id1YgtemYOXA5B55+D6yhvE4pFFbyD8xKwABm3X9+0vwzlU2OfrLGAWcjX1gKMQIAKv0GMMo2dFwQBXPgvkgvYuFIOa8eYO2wto+h5gEsDu9nxUEsPar5vHhmVEC7GJ1CZIyBXxhl+QtmiQwB75zLhJAopZvqn6zM++DSmVG+mUoagBAA4DqaBZo2hLyJTAIVDAqcrvMstC6palKxj1lIBXDHlbDJmuocrA0m7ljLnF0qFZyuatxBNHQYAuL6SqCgVoW3cXo58CfMuKToJUUKNjzRhkoA6A3LbEXHbLCl0P3QQSi2A2ywtAuj5CXQH4ZVmlt6gFrFrOyFLs+YnFMG3RFEKLvZlKiAv9nGYhUAphZoY86gjoR7YcSk+2QarL/YYFFKshVUti0+IAl2K5qBKSjktjYqHxAaSgreqqWTg4MDAR0EW3WB+IjFKoRpUHKnFfkv6xaAh5COK9wo3KK4sE4rFS7QRsDP2lmXHFf939ZUEC+Tv6TYA4yCKdiLEz9IlXBdVd+fmOAs9JUAa7R/h4mDZPWWxt9f1CpKgN6t8e4I4A3blAYA5RZ1X4IWYXTafuVZM/a/bMU+6Epq2+bmR5AdZPhEau7DdcRAbd98TUDXy0xGB7csElgW/cB22tdkdYAaHqbjXG4wGhd5xKnG12aqvETf0EyXTXnMryiNZukuoBFrAYKesQNWL5S6N1i+I1SoBzx+5eMrcJHTqgsqUBreKCmKLLC6SmMhZpRpw3MnK55zc5JTecpZKQGFA/MFDx6/kNMteH4imAWktJusRXeoRxR4FwqqANYfqU4xY4xv5mFBSB6jdKKyJuUSp0vcsdrN85+sBmWG6iMCeiaXJO/wAAQjwWu13AEOD8/iAB0HN6hHlNC+eJRvpR18YLVU/LMwLbi3mAoZVquJXznm50W+2IyvDGK4iBoss51EGBrN1BFClMXsmJaxo9ZdCha9GvzUQaixEG6XuFK8E0OnlMXEPAD848wtZeb4YCxo4NLiNIoL3/AGAUpH5B9IuRkxu/pKByKyQItgpNGqlNQbtocUuSBkRV5puVV0GOICmHO7siBZH5Irh8BNIORyQVGA7ZQhmBRlMInnJWOJ0Y4DqJAF8nMBApPcoaly2OoqdnEZ8sQFWXNlTtb4zAKtss3gJYdt7uDYV2Nm+cblCSlxMGkp6uILa2sJLXAdksyR2zlIfWcPgl88O61HJhfmMoa5q0lXGMHUagUJo04RrZLTOeMTCJb3VMTrG/pHYbPUymQTJrEPTe47x3GxeGDKomKovVNe5VjhojC0y9OyAhEW0qZZuicFyiWWu4rxsYrMdS7TwjsSlCezEOpPEHBRyNrcRkRRV25g2S3gVe4FNXQ+iMoqsYqKFKo4IRkBbZuBkA9XCqTXp0+Iyxdt2DWXuXLoeSNgccM0Es2D3uLlfgJFd6gVb4YfGFFQvHUzCp00jcoz3cGm1YtMwmnC+GIQvYcagNlFnBdQuLdHFQtSih0V+JWoK9gpJeD2Xw8kuJyPEG2FDxLFYr3kjiFEXmUGbcFOcS+tkLq8EsjdNnNRwxyvSwS6M7O2BrS8jiXILODs5QqEHiWsVONZl5gyXdCQyCyxzdwWhasZZcla0cRe7oR5uWII7ZuBy0ThGrPUVA26HUIrRDa+HqUktXN7gA+I0lm3W6HTBG8HxeJdqAeYzq7i6tcvLBxQFeIUy8dFssGRm6rJEvAQ3bMQ0scW3hivwJQQwx9juIB+IrSUARPJi/9bLonDLmz/WzNIL2H+1LdhyW5qq58RNCQPm/MzCs6fs58sXtb2Dpz/ZRIYaVoPHzjNjMRoB5p3x/JkVjWX+QoAJXsrfjz9iGkjtr9vP2lBBFQI46qM8eKBMeNQkGgccK8ePvHdnSlX/P+zKwFX/4x0BAQbCVmqCCyWtGjRnn4IsZShYB2TKikDYI5LhTD4AvSgC29+z/AJ9JhTkv121UGUoejGvPh+s5A8nj7l40y71359fSNVmuW/v1BhLo2rOb9xhC1RmPyzLdfar+l+oMDvDR+YEg3i5+5geSp6+vuK5DFrX0YUUQXLmOIG5E07/7UoIg16RDIB2lkx/2WuyKGzTFQOOrZnmkSbnEUeqPUI7bGFzFvAxgVgVBzgPZGwadKcVKK4LrGIT4HFkzEvBq5um6LzB5Vb2N1LmNj1BOmuepjFWFXDqgU78R8aUu51iB1gpshkNp2sSINrx/I606qW9D4/EKo9QFtgdwWwJcN2B8vXUK5MNRvk/WZly+S+HZ95ndsSslHQkxXuC07g9PxGRHKhKyWbxzAWqPEaKUXiHRw/v7JqViHRHU2MXkgCxeXUaGVu2LRScjRL+k1YJvf7gAUVhd2tixQY+YrWwnmFgtxxcZRd4HBpzUyBVR5+EBEUX1eYYOI9sAlgHJLgBt7dEEph8HhAhexpmEnXhiRuY3FFg3r/i4wmNK1LMwscMPkmHmJK8jRt2RdQV5DXrcRa4K1cRqTDkripeNupniBkV46hohR3XcAISuTRl83RMsQpiLhLlqV0YlINCyg6U2eJVoAYP/ABFThd6qY+O0hPUZO5vWWrbv9QIFtOYYVNteIBXNmpgCQ4YCi+Sz3AQwSuLxLzCjvEClnN4gaQA828S2mO3SalqMKZuCOBXJ/EEKCdMFBVhirx0xp9JZEBY1rGOrGXLOmiX2bxsjSlju4+GfPE26W5IjnpxzhAuqGMLKoiJ7qZ5geJlQqNL3MtRRR7ZZQAVh8wmQAV0INfNQLaZXR8lt8O5eVdezLqjw3EWl5FzmAaK6Je6P1/UvtXvFyhG9c4nMV7MMXC4QFnbz+5qG2nuYLyDTTMxR8iyMAvRFmxoifLORXgx5BVvTbEXastx40AfFRr7jVzuOl4WYLzKErqVKl4Bt5yYF+Tu1jxjYeKriPfFTxG2r87pINvCuYgVw+xDRT2LmcJXRfp/uZkKlUVqyiBkBzzLKNQ40QFiN8Uyi1UmhlFlzqfSUGTYwLQiIWfCmLsYSy0fdrfxMeFimuBloAu+GWIgPjH7lETRxbviI7t5zw1k+2GUpC9HBzs9xQXQYdMQzkc5g4CXjZZFyWHb1EVVu9jX5huSlA3ZbzKbBlazXWTiyFsCHvhEU05YgE02ta/ksKEYl6tgrTk8zDAX5ZqTJeh3MnA4u7hRVNRRcwA6WMFZMtyxaS1zFNttMUZ+sbQF5qPEuaUBujmoGlEVsS6NW/ERO307+8ys1fiX8DdOXBHdv3vY4XxqOIl36PHuD0HV2n6RBs12Z+fHqIObXNWzvivUpE2FaBe9faJmlUdK48e/pKli7FIOu/b9IAbyaxYowMm7Xr/dwCrGhVgJmr5iDPBZVy8XmCmVgATm64zDbFSmVl3R3cELrXQk8qSso4imc1t+JTVEGx0Vu/H3g9Xbqijb9sTzzZQf3AxlfJCj+/aZqCJaFj5lBSSBY5XcAB7Bas4xpmE9oq6lcFvIrx/YatOM24kNTwHgvZNcFazd9I+iv4H1ikTFWf8EUs06z/KVPuNzpfjLKDAc7fwRTK7er7J5jVSQHRN5Vra/UTt2ZIXiHzMIYnHiFw/Di+3mYCleR/UD8HQ/UU02mNLAJ2UoJQdS4A0YawBEEE6L3AxoPoMCtAO7bicDPKym4b/hGxvF4zzKKw26iginFOJiiNOGGAravUGxLW23KnM9PH9gyg2Ss80+VDFtpWGXtUqnStkewpAy7lrd27blzWTThIBhXWCoDSjZwz6hTdNVpeWGhs5LbNPmKANYuMkBVCVi6qC6uzhNTCYylZzeHEOgmd7iIXhZZMZdd/WNljnjmVhpoLTWGNUG+xuPEDq5UVGzYRi0aPOISiGrG/EDWAc3xcOmT+Io0x7bgXv6VP3i6W6GWLUAoF34+YEIA1168bhsNp8X4gO1Y6mTLxxTF0VXvmAYnoXub6CrlRi6KXKBrDo1bKNgmwhtUSZ6792yvdVShuv7CzRQADtYM1AAuz1eDRmvBX/YUKfBwiE360uWa2M5Kgl2o2Eg2imk4SVQakwwxtlhHCazF4pA6tSUcBTs4j2BbnU5EBrZe4bdAZ8ZceoRQS3uZmQDhLgbFPiXGlV8LNQq+L5QRyKfDAYwzkzFbC3o9SrB6CXMm0AroahAdAd4islDk0nIUDyGLim52MQIlOEpDdREMv/WJqooJ8QgYWtMRi2HiZ2ru3whxQW6gl0pMYKCvHfKVLa7xkzA2wz2ZhCOG4OUt1ZMkOGS4i4Su1cdnmITjBQS//F9IhqO6lOnzebiPNZdPk+Tw6hAQhSAumA6riGF21pc2RLmse4IGRMNbRBXnLMroBdBZ2nRHLBsyeDqLyQKMnqtlxwaOKxcrMjSox5DBTcdxogl8kBhAi+WoN6t/VAUDJlzcDBUeIidNt+0BkLrdsLgWnyzIu/rAq1R1EdrkbyYgX2ROXr3Lxuj2n7lghZMA0Rr97hGbBXszMLhofLmMAo/LjzLWhpyKjK0XCIyA4lStCWxVWaDFXylXhpXiqgBq+l8xICr7feJcWiuIGAeTxluKMG6dGrSrg5kbdh3GtAge4bgZhqs0v0YKg0hri8ue5dVg6YZpp0Lfi5aNkadVUB08sl2E0OLVAWjwBfxD5UFVw9FVFliwCn2MoxEM+AqdDt93GVwOypur051C7BBmu5lQZALAhZd4tdRGLUd6iMDDN2VBEKXFmkIsUrEbre/7EMlSmxNOG1yNsrY3YtfuKmm4+Ily4yVl1FpNqcV9YRZm3eoLQy5q7mhSNdQO4xeoQvRTgHmPpDG1WX7gluAacAHq5lsI5ujB6B211C8x1mH9hj+gu6BtKkdTLQuF1iei4cBrvaVCDcRfgMu8B/nZC2c/d/3MTg70u5ygOAwXUMIBtVmt5JnHNU9IqodTJ8Jj7zEKuzdRFMndJcXlA4a4IDcYXFSU+oxoC3PdQNal0zRbg9srPW04TAe5qC/EHNeU4INaDfqVYXAS7KfSN6pVuqv5mCQLwamDgO8TIQa0Y+0zABgecQGAPp1HVY8FGDg2TpvEahueHCcWS3uUMyQKrKzE0yWKgnHk8DcDFja4QYqQiLC/tCvBdznl3M0gMDdF6uJFJkwH8nOC3rHGFZkq1MYStaBLhaulFWrmXOz2p/FzsY8PH8PpAHIejcFhrwoqD8XQUKt4lNpvFNjn+v1lrZdtci3P5ZhtFmyAU1cYZ/2CDg8mYBBj6QS8KrFfH8g6layWrry+5RF5VZUef6zOwdrVn59w7OhXgbX+almIxcCspcuOYjN2FyFXvo1cs1YA9NsJHDDrDAzS8XcOUxdvN8XLGEhpHA0o28TZQef+seMB6wfeBMUji1cQRurNLf7UFcyLNSji+4QVwxYn4l90q0J/IuBd7v3K3GGgT1Kts1vRNdQyuBisT1iW+fugn6mGYOH/AMwLKV4H6lZxL0j9SrFooDOXOoFYAnk4uCijqpZkr6blrANkEXRXUZBJHKN5dyqFp5I1XI86ZtTVPUpQBTpNRKHbpHlADdWeMwEBoApRar7JdQIDqxLIAMWnnEbhigTnCKZUhxQQ6AhipkhzvB9opgo/KCLbVnTE39FqvhnMtzkd2RRVKz5gHa1RFQcPnFREBXHG+HmAveh7iBbLVwUHR5ICmF1mmpWYKbnxuYqlnis3LawPNhAoNu1rLBBxdoNY1YryeJiAlHMprT0mIiAmTTElWW8qwq1zWX9R3AQaKoGXr8RO00n/ABCYKHlgXKFbzCood3hggg2jnLCLsaAdYtMwSx86gsAjxWPmILAsOMo84oSvcpXS2s+iUgu5tq1fSMaGxo2DizDiVVZJ3SAfqHqh8jUTm5qr4Roh+IiYKnCOILmsvLaTBA5vmOvZkCkdMuNoWCz8XHioA8WTcTIdZRvY9kFMcmSo65Ztb0QwWFruCLSj0kfL3cZyHFcjcoBEQF2aiih7BNNuM1FSFizGpkEtHsuYgb0YKZOxgchaHepQEXOrgUoUXyymgVzsl2S68Lcz5F0UC8vglGkZzajABOqIVWjyyzSBL6hw0eIQyQ3vtmKAK51MJVhpqGDl42MC7S+9w7k2YnmiKYukbdmtnzDf1K3rp9CUW+4IBwhrNLDEkAclXcYxjkGuERSgG0NsUbu6b8TEEHNUOYZRLtuyqjXX5jTkZxgcWONHm8S1cBSlOElVeBihTHIULXcLsq4cXHdWirAvBnMbFFQuyogEUYV0xZul+5e82iVjUqUVp9Zcnj9y9k55ErD2khj3V4T3nQw4HIvwRO0NTNVmq/ypxBOhuOIKTGITEIb1HciN6orO4WhRZM1zAtdhu22C8FF5BxAJqt8MRbJelGNTSccspoGuPzEqTkBYhSIKutfaCAZNcMVm0wx8Hn9MpUov3eY8f5BPkZTDONAwtmKHJmYmFwW9zNUV6y4lWOAeYAoaO7smC7DNI8xw0vgUxTM1AReaxY/DmOYYCF84DWe4Usk7zcBRxTwUxZNMbz+oRQUvBujR4hch0PP2lCLubpgZ0OYnKyjxAJzhnjGNfuJi2z5iXOYazcCzRvE4I0NeYACA0x0gKLOsYuEClh3iGQc3YQUtdDomYU5N9QiFiVxm88MaigEB3bbuJwt9P7L2mG/s8+5lKW6x/fuOlUYPP6zJTQWEbraU+WmNf3M9KBdO/wAwG2w7FmPVylLckitZ37gFVSFBq6XAtjzAs/WBQ6Q0X9YohcLrKz7+vvKDsbxff1DJWAmV4tWDlmvHogbTNxq1/wBmLlOS4IjZzKwMeYgtEK1Qp1fMBaQG0p58wJg0G3j/ALA1oMf4YgVKbwKv/Yi62wxhv69SsViyMsaxmG0HmT7nuPSu+KRjzGZlehB+PUClu2rfyJECQuEsytSkAK5wfqIQXC7DM+03DrMj9oin0AfeYg3Kig2TCIhyQTVAeSY/3Tz1DC6HAf2l2puXV6gkhgKH0L/qhNqqMt8iGsKPFYheQZHVxFhLxxUvzXpmAPVqtyngnYlDbDyQMNnjBn6zMgo74m5pcRUtGcY3MwTiPzxKMXf+FHF9dIKnk3mZPhkB500fWZpV47zuKIB/jMIyt8iEVEzbijMdAKxnE41nXjg5lcoEVWOJQ3BzeSUzzEugvwgWCVbobgaQHEIvJbpgAuY2DxiXjdE73KBVn2uVQFlU4yczFF12qmAQibM5iQoe8SorY6xPKwpXhM1QXV4KgZA93iMuQ+aL+IAtCuqZZiim4shSwZOmy6gW5zf9UDIMX9YW1A+IBxj7CJiRR4isKVz57gQXI1qZhPBOQrpLlsbHAl4wwlXUVWzLfUGGSAuDxqcX219YWgvMG+G/SwuylLe+Xn5maE62776l3k+aWbF9lRbdlXgjlMJStmD71LtrjhrnA6lYEkfSOtQxZAan0muVQWjLFJthNQsISqiIsHrIkQUMdObv4m4gTNhTKsUSnZSTBAX2nHuI1QayZ/Exi0nL5hpj7MtZUdFLPiEtYWazMrW+DmUMR5Lz7iMq68wxQ8kpolfbMyBHbcobCky3wwMgs5QRIwucA76WWc4MCUns7hSC3K6Y51lO2LmNfOpkg2Kq3hlgUBKocxChLWc5jhapOmIJtatl16AsjZk8TOOSdlIS7nGomwGUO7jq4GYZx0fDKYZCrrOYbcWtYurHwwrjM4QSOlhTu4EweiLhGXJih2+tS4IViF5KvcCYqlKwgEFfuA90feNw4QxDgc7e5gcuL4wo+sXk5ku1WfpCCBbCRwRD3cvNg1ze44yqdwcg3OGDLIOxcnCohVTPMAgsv2NQZL5wxoL2eyU2g7f1k/cVlQRwko8I4AAvTuBaF8DbiBYZpYrplyKwWAePbL5Is0q5Qax0M2Wg80krKe0UONy4hWOhw9d1Emi84zPMA6oTYRTO6gWWwcQlBwzdZJZBQyasOYryxB5FW+yzYCT4HzHkybIRyuLI9W5F4HyTAAKZvOh8YhQUw8KMByOr2xAwtHq/vUYVatV2oa+alZCmhQwPe8VHC4itrp0+CX54iVpX4YI+BQgabRoPJxAMpXAobxy6MTLmeAS11XjEVh7avlDznmFlYT3Gzbt2hxD+ASICrpecbS5UAurGo1QB8cxCtWeGDyUHKYJcNRbWJ58kLbyvWFxFvwEzHCY5x4lhDH1UC4NJXJjzGqqJzk4gMrkA8FXFEbVmJoXfjxKFKjK2fiEDK3uv3jzABqdX4PHmLUbSFeDkCJlx1a4vx4mwD0PPiOuM/wAa8Qc7iUFe9VlxHRF30u9Vf3gkMnCSkrmOgCy9Cxn7TCBNkr5lAlqba2GNWQZ4GLXCDnJl3qC1Y85QPG6gCEXTmvX5JVbLQORx48kdFJd3/wAofR62LHK2oHc36B8QCVw7uYQwwoivGoWhlwq5uuZXPwUKGrXyg1lGUts+KmNWrm6VZaxjxThIXi/BggRUL0uvMUGXzdw2xRC92t8zJXaAJ+JdJRwgqGpy80Zyd5DLNI6EwU+YJftMK+8DMx2Vb9xJsHV0guyxuv8AYBLaZXeIUEAWjLvm3DFbZgxU6qIsOHd1LA/+hEodO5hZurXJgXVnklNvByXFjbBOGG+NpV3uBj7MdMOz9y6m5WvrUUmsECjAJrJj29Tir4MPrF77fIB3S3R6h0EXTRW2vMdBUx3FEshxhqF1mLEaYOAoaur+sFQb0qgM8ymMkKDTBKrJzqOoanF1T6loiiZxp/7Mypbs3DcqrRSHnW5mYK6UGpSAPGCJM4MWCc6L2Y5dUUA3bxf6l3B5RpUMRnxgRYsr3T7Qir4YBrV4Gq4P1l2kcwBy8VCSq12MCBuwPQgAY9NDGhUW4sDgZug8vEBjc4xE1kE7ZiVhV8VFClNeKj8ILcQ0FXXNwDBR0HcSKyHq5YSlFzlGkAbgP0gYsHwBugO8QRybiisFlRlwUg6M21OxJe9hGKDEIoWDsgFQHsLv7wYBKdLNwlOTxUsGEreMe5W1AwaqvxGXa0aTP/s3qo/ADWmX5UlOEiXyNhumG0dsxLAr99xllzZBlxSS0VSvIdwwosY5glbDfBAY2E+NxougjxUBE3yVKyGh2QtoCVMN9Gs1lCgUKxlqFgXbxcAqbdWxNWTVYl3Kw7snMcR+UB+lsFrfshxa15YF27Bi3ccTJnm7qKlY1nHwgjaTvhGioNcQUWm85dymuLYyiVY1zqG/seeLA+0MKc1BbcJ9hgu2VN27e3OjzMVYtNrpOElh5NnkIYNRxbASlJxdSqFLavZ9I8IIBXgNqrJLHcgnb5rUJSUJ5Rctp3GBQ7igri6YC48k6Qm8oZ0qXesvMvXEote42tF0JMSQPwygUrG8TDQC53gZi3qjmoHNtzLM1pmFaL3AcuCzYXi3UaMrXBEayPB+4OgTvkio4R4XX2jIo3kIOLPD+IsdRNXmBHLw81W5cwMfmCEb+8LLYfLBK1SxhjkA/G49jJzqURsHJPiFmGvlmKxVjg6xTcbOdUJqu74Ijov5FKDStxchjhbv1BENAjSvOKlL+uQENIMCxxlirjl5h2DWNlymygHG6l0AUO7irqk919IqpCK1fsFSJm7VRTozUrJgpcjP/IEy879TN1EAsB5H+ylFveMwvhhla2x0qBz6l0FhvtjUplvWGO4Iyrs7jsQLXeKw+ImQZ6eSZAqjzBcV+mZRsu9c/WG3wO2xTD4ifwZqJNXwuBB+T3LBkrq+YLUWqx4WdDAQUUBqBOZfLmOzNHhSM4u1hAobTmoANK8ahyQMBfh5gpgC7I0VanuDqV5OCDQpgah1mXJwYIF21zriYembcEsfhGQBt5vEqO3eVaBFAc9hKTqmlN8onbU4uA1pa8tQZix2NwslZ9YYOuEVFmjs4lVGBL0h51c49MXSwtK07mACnI/yBqvdhQ0p8myWmhPksqUUVS1O2FG6kIyqch69S6or4YyFl8YaZlFVG0uACX4SpNGZtx6/kRDQnN0XNzAc4gbsnq5YWk+aRce1geDwxdVh90lEMswT4S2odbEwbmu7Mvx8xdWlW9yBwvK2s/6pjRqs7wG3M4VrukXBGzPLr6zGqLzljf8AYxfkzf8AfxANhc02qPLbY/cPiFF8e3qr+RKjXtH7ilNaMINVqCz7BFRh08QGqKV3N6+v2lROAUrhZfBVLmp7Ysdfz7sxqAMFsMjEpbO6lFaRQCK3x8/aNqeB/DUNhS8/xAbFjC068ePzDwVYw5dgKzTh+P8AVLCGTpQD7Ra0BVn8gHJDun6iTglgXhzRG2svo/mLN7vB9pQAIPDdfH+uXbwu7PxAsRVAVjiiiPGPhfMcpuXpfb/VFMo/44lrL/FPxMtBwHszglfBODAS6m1Wp1M8QXsK6bqoBERZkgKFA4SrIaYxUs9IUhY9TiV6gFULvy+Ip5+/6iCdcICW+9QsEHOY1LWS4Kd86hFkXkXtCrpyvzKFKrJpUH/cQtUze639IpoVYWrqxEgo14jnzZVkJ7gqtBeaGr+GEcuwZHkTh8Qb0ozVcYlLoCVk6lVsqAOC63b/ABCgB57mluC8kwXjVD8q/cwgu11UEBhdckMoGOqgOFFvncoqztG3BjX8nNWrFxC3We4uDHlFjZORFhrYHh8xqwDot+jHkACJeQRTkag1u8NLBaCl4NqgJY8IrRTr+Hj+wLYS+75jsMLQ5uUIWvrzBhaUeJanhLfaKRbhBQtXxgYvuzgL4jjJ1K0N2adRABBxDefolZKsm1NzDYVn6fEM4c53mYGAOKCP9BSgAvzj1CsYKBYdiQNcNNYjMLbuyujwykl6LgLi/ZpmWoypPUJgg4EqOlChzsllLbOrcRLLd5qIYq7e0J0DoCqw8f2Km1R3BFr5vEo3l+dytNNNVcJaFZvpMM17zKoS/pWZLXOfMuKxK5YQwWo95lA2e0okAwNiqxBscP5KteJjTVZNTDCgXOalztPI8I0WUviNLYeJQIPlFIZI4zmIWOyTktNH7jXgWOB781944sSht0XuFr+ir4X6lJHgxeo4jVhN4sYZg5e+ZpAvARCy8mrOY0BaNTR+kXgKOSll69VW1fs+orCFyVPwufZcVLFdncCtrPaw2+/sgm88jQMP0Q+IBCkr+PiFJoPGWXaBVbMsUqgeQtzwDGS9wJfZoadPmLfAE3a4TlavUolPwNRqMoMm6F9k9B7RSZBXMWcOGKNKCTBVV4vrEcH2GMTgRrqFzSuLr8ywo1XVxtll20kwypb1EUfV9P5Cm6s8al20zG/Uqgo+UKBLreOoSgRf3ldR6jaCLUXOt/eG9IAs1dZI2sq2xkujgLmQDThT9RIWgps019pVE3XcRtZZvPcVREzuv4gVSWVwxL0yx5cnyINoqI+BCNy3h9LN/VFePPggGsGLghhZybvmNWFxSrtteX3DLuBrj+fiXF9CAWSU+sxBrytZiWy7OBD6QBcclz6JboVju4jaYHGdTkCFYgFNXjxLrTL9bJyZVYjNCHnELu7oINyXxLHZd8+mFJvoYyoACATGfv8AaXnuLJyKh5L/ANj6xpQD+38mOio8poit54BajDLzKh1H/b+kVYshSoa+0s7SG0H6mURWMEd+PX1lJxSklFtN19ofH6wNNiYw4hfALsgB4z/yDQFcKcm+vL9JWGu81/xE6Q1XFrusSlRaHrz49fWaA2KdPpj1MUA8/wDEKU/Qq36gZTYuXgrtPpKQu1WaC2kpdswveBLPVhqAFZKxp/P9cI2U4D58QUKhnBo5aqUDGKoseqid03kD9QxYwdBIGQT05/1feU2F8hf4hEEWCKxiXmyoC2DxZMVi8MNSy6Qn85jHdfkMl7uWtremrB0eUVP0ijV5NIf5hdv2sP0ZY1sRFVT1DATogl3fBnggUJnm+SALShpzmUFterdwI+hUYi05mTwTwSafhCrR+S8QgULaUjUA24oYcIEZMrt/JchQ+TEpysDoi+SlNVOAtNO0zC87SDbdvGkFYTOmJeeHFXdQSVJeVLgl2atGTDimYUqIMjEartgsvVho+KihsxhDHqLj9DUdZqXRDw6eYhdFTriIVtXhuG4ALGD9S2RCcQ5ANqTcZwhHdYJQUHhqmNu1Orgg2U8QwCey7+0arTsXxmFmbBWiWyn3laCytIMqlAO7ZWdL1Ds9oqpyfPU0O7LXZUsgERRj3CnLMqmNVxFUBB8GCFGAr7mTtW4LDK3e5RdcbgSGD7zdsxBTfmIoWHl1OYKq+EoCkCvGYrChyBi4Cu+K5uK8KG6SUGC+4VxdAukqMAXdOPSUrpQEmYXY6WOT1PcAOEjjqMvzf8QgW6rqbgPlYzdd+aZbGGORi1YhebLZ+sSoZc32m/2ykF0He4VDl8RBar68xNcJj+WUJsHyXUW7DPkMMCy7s7zmUq83CXcJh2+v6mbKMncaJ2VeoOLs8zQH5UlWqw8umAWzYXllVxCmvhAKShexgbzTGOIULT4OYtr00l1UBUrI8ni/US5AdCACFjWLYKhmlXuCpeFa5iWtMOF+CAAjIyxu1AL55hdLAPjExCrbSYYCgrBaAEmomghTkQKer+mB7PmFjQt1nmMWkbfhlM+q8XxOIZOYlH4ainY3YYZZQpOW5kR9UfW/56gUhViniFT/AFLg1Lx1W4ho2c5xOM8JLusvn9QZZ1xxLBUDAFIPOLib0oisFW6WlwRgIJV4lAsVg+IZKLb51CoceZSgufclgIE8ShoU5zvUramvOyDwaVl5ljJrmU3uTMJQvqNzPbO3Ivd9zq0b3ny6JeQDa0+OT1HoFKMEeEYTzEAFK93HNl3xzgxvzEDKXy5CCgpM8jMECrzcRd+OZgA4TM+YT4muTgUPrE4RzsBQeXk1ATtsdms/lIrQhRLBWyUAuLhVxLptQsLEwZ+jiNYl194tpTrO4i6Rv3UCEUXMuL9xuZtiaq36ypy78xaZIOz9xVcOH68REUw7QogCUTyM3tr5huxuJV0Cq/BNIXLOoROBb8S/lX4MuEsHaJmGrB2WQCNx2Myg3qDzb5idAryOYcFy81mOYXwlIy0gRHYkYKDBYH05KZoxIFfq8PMMUzqAPgiPOtsLpj8wtLeItqGnwwbRmOG0DuBy5A5xFoy0GphKzSU8ymJNrurgAIeYoMQc2KMvKNXRbl62S7wriWBcbhhpCZ2A5XUEMVO1LeecbPERKq0vbSfqH1AEchmcCJhE4+InSkOmlTNC7cIMwociqmUVibTxBElvk3HKRcaRle/rpLyieClROv0DTi8TNgTpMsRX9D8xEQS8URjDSdKIMDYUwzU2R1wiVoAV8zGcXYev4fSePrsjHaf8/MXFUXkf87Yw0YZMDqY4Lak/X3GnJPrECsByU/2piUXhgd7UlZuJYtvkx5tOAKjDM2UN2gfieCBkLWPtMYULA9cRC2AcIIIs1avGv3uXSbOiQyiUKAPPn0zAVpmW9WY/LFVYCwpxl1MJ0dabcXlVVzEC29j7Es50Is1dZ9ERDzWjxuVyDDdCMEyd5sAxsR82MBYQ4UJbdOeAgjYCzkZ4yzLSVxi2YrhYRt+QEsNODIQKaoMGMN4v+QuVnTRmMSd0zFimNqgQ6XZzArbZGOTjmYoJxQN/MFTQzL6lrBXw0MCBSvcYuha3eohseBgbQ1ked7nWUdCK6DBAGqYOqYVnOYVcyWHHMBsFRR27ZxgcPMOLUwfNb+1QCwGcljAVt5Vl4xEO7qjcpoLeiBQD9wUKNMJGstyb59zLIEdopgdIAvAFBCmRc8ktoHWpgGscGdMBZcNLcQATmSUjKLnJuH2MIVLLKM1xzAB2X7wRDYbv1G0ze5lm4rPB5SoReAIyVr3/ACIm36blLU34cToLrNjECddsAsCMPyef1NsUnEd3K8UtdddDGAaeR/sowpk7xMArZ5Y2Qc2XAi22xpsDcEXRfmOIhSd5IJYDA1fTAlUBZbQ/cx92z0l5qHqBMUzLfpFwhFsRZYawwrPUSxoqsQBEHuXExvJTmAOjzhhq5MneZUEf2MahFu09/UmZgLrYS+SrimBgK0fE5iJLR/MVUCJbkVhysU7lECH7QlPDUoUZOzjMe2k7El8Ih3UBRZnuoYGreiDZKNafUEMWr0cS1Xn3UpUXHuXTSvUd56QX5hzQFfZiClpZXjmIEBHlbm6dC7qCYOHxFLABWTFx3ECzqMCvhs7maGkb7lJw11dQADTlAMrCJIAoWGLV1uU+ILEC+RY+SOWABcs+lL1uLgrTwvQ2MXFW+LjauhcN9SiyrXNpU5JQ7FhkUl6LmNYJ5iIxbgvmHiAnzwPnUuR55I479wUMjQz4i3Zz0sft134hoUXXPN1Nr6qmS1s+8aFtXDACWY/EL2OkxuYwADh3K5l5g4aR4CPIaSHLht8YEbNPMFgTvHMQaNXdwSy4GMbmxmaD/n4lKlFrA6QrBRAMJbSB0y6q6pc5Y2cp45iCzdMpADsQSgwPGIKYO9k1oc+Zb6BsnJdpDBJKik2VfioL2AobFpl88IMVBRYF2c88w6GQG0PgNf8AUBMIUTL3/Zcl1wfdQCxXtcs2cP8AGJaUeUDWFvYw0xTjM2Ls6vaooEX1i3SuCoWWljnDEuq7R7xFhjVJXsvj3ADx4g4LzkzcqlxuOD7ie4ArlDxHTnURzmumC9n4hpaF8pCMV8vQjBRROLdkBsH1tmBWQiUKEzmUVhdMvcARQM1mZFWWlsU/1feAORK6WKDNooedefcFAvbX5l42fZ/fUQIBuzNt8wrAsgH5Ln2cA/uWVaKzh4/n3gsdpSghS/P5gDi2Sx7MZW/lijm3d9HAFShpvBkAX49fSPaUcGnZqUjxyBasXw8nzDjYDVC6VjVQW1HPVf2jnQKV2S+5zyeXj/VMzR6r26PP2jZoBmsbzqVyRpS0bP5r6yuC2jCfyFKg/wAOIHXglbHWeM9y1nZWKTONeftKfaxWHhqXWQ82fyWZFK5R68f64k156Vf2llBSttY+0YsqKStvCR1SziifqOF7d36iZQF6pX4hRpPg39oLsszU4cxIhR6Msv0KGPtOP6ZP+zkvWCtvYtsme+omlt3eFkVYNSuKvbuZTJzXMXoU3m0vWA9XL1bziXWU0TNDvOJfd9m4SzYxVxTRs41CqZygiAZR0lhdvluplVtnEVNoWdyqjVOL5Jy3YdxCxmOApwdRBg2wDTTW8e6jPkElgrmVQZyAac0nqBoOwij/AEDHMubpXKjz/JfBoUtBdMSrKriMQDd6lF724oIdUcQoUFfiO1k0J5fUs3hEYIqOiYGin5lFoM4a1AXvK9QrRb6iuBex2QDRV59y8gze4iEvMTeIExLqzzCqNWBAorc5M1F0xv4ghow8y+u1WK53i0pTxsJWUY5HEQGxd13ElctdxwBypvwxGsaJEtWfDmLNqpzSsIY10xEnXR6lKcrfmItA8RBd8YWFKza6vp15EwCIyrYXCVw5YYlAUrBXIbmJgaoi/LEPoOvjEOOkvOcqGB9wY5+5gVWpTXbS669TKde4Ko+0vkxXFRLNVdpUWstRW8ZeMQpfbiUrC2W+IObvUyOFtutJhUGncFVLqzFn7isBu+bmUenVIq0oBk9sFQ37IENiGKhi0LcBlxS7AlTeKhShb55lVKorT5UatCWKtwMH4VHhwe4666aFcXTzDVT2XTFjmhUF1jUDRrHMaNDwuCsbb1pk5hVwNeHmKgi3KJao6q9xgaziWFslrwyx4O1Y3h3/AGXVbit1EjCj3EL7PCTJ3Kiq5+kQGOH1gFilFaiHJkTUsBZszuXw5zCmsLvOVjZbeN2VDi4e4aFHxLBcq5a1L1UoQpnAg+gpWKtlLWNmxdwVQXXbqBFVMTB5YM4DjmIMrQBlCqRzdwzs44eo43ZDk4hPQFQsrFoGrMGWZrTnzAzqCq4N8kxLnBemmWcWwOLHJE5mm+xNfLXzCgQHwXBaLG/f7mbLenOeI3IcnF7hZKeyOau9XxKrF2O8zNYEquvDKjQX01MeWzXmGiwvOJlop5EI3Cioy2F0/EoDYd5qoBhrPLFWH6ZItqGWLSC4RGz9/iNihh7ium+nMOk9ogj92IgGCdHg8RDi21hBgBalaY2s7OnfuW2UjFahwGEvL4hUt3wBE6+mS7/2mBrl74T/ABEKQe2nf08wdLROD+PJCjKlcSKoUlDcWvHgidsxrN3/ACWhjg/wRIDdWP8AHmDsWPTH/ZlxcRVrg5OJV04MhU5xuX7nUFoWn5IsN3GD67gnsOiH5jYjAahzWd8Qzs0Z5PvNa125H7haq5sr+ktOA7yfeYQYYbYvHiL5ocpmFh4zHV0bxctCoSTCx5OJblwx0/37ggUihCLLJGnn/wAzOcrGn5jaRVzX/EAF5QVX+QCUN1dLz1UDdej/AMxpTBx/h6nC/N/zKcKrVLPrECo5MlNHjMMek839QUCvNk/ESwmnn/IsUI5t/wAi7aooSkFputxwE2YtD+ICiinLhmILCt4hTbtcMa4V4G5RRQu2ECYzZ8kCUoBxubCFV4czCXOcgRSwFyeJW1fMK4hAdWyXDMqRwXsdcGUkArsiHA6lV6i77kKRfDRFLNnebjyc4xMqLUcVzAV4IPwylXWJoMyrTu31qO0FpxcApR7cR2Sg2hhVdon1iSJY9aibUh7vESl5OupZZB7ZxCoEvw1GBX5iKspXVsvAOlju3CKs50Sxwi+bjVFvZqHsxyywqF9wVQcUnRywQMkPMGQV1luAYVHxklPL7tuFa54xABvO4LDolYtMHLz1Ggv4LDLxdUPIziKJ8y3JA0Ze8JACqLGGa9xAWX2DqbQaealw21bnuyU4K9lzNyU+MEQUu94EilCxbXMaOgI+cOI2hHYXcKnpQ7L2SiLGs31iKhcThCAlU5zATAaqMcvxDLKvSxpTivEwbFW7LgZVrb94HBbG2qp6e4BFxxQwkowLyDmAoyHjvUM1cPmKlmuEYLQPtjfda+0OXfxbZS3AG6GN0wKKqohSOauCNkS+GDOIohV3pxARYL/MngaO3UrTAlZvmK3QA4piUsYckVrdtrqDQu+oNivVeoIo2YmjkYlVqsH80iRlIOKWeh8y9UYOrqLkSu6XErjbadvlKqW0cQP4BsUsDzxCgwnDjUoFN/EdMp66hsC0cYhgFXTRC78yxql9FyqFVMOpVdbauXCgyzMHCADBVcQcL+sZsUd30licr2kctOOeJwFvqUKd5DklZlaPsbqAaQriXQrle2ooA/dBbG+dzbH2RyU88w4ru9vtGC6A61BtVUmL7gNtP2nMfGI8N3Fiqqj6zDLf1nHirKtjhSvYzQFi3xmO3kbmYoruoLQ3lx8xCCuYst4KaW8OI/Bu6xFW6rM6FZoSW5C9kQhs8OM/ErGjjUWraQiF1cWtBjw1NicC/aZVVXwYCSGeYIEtvhN3CqdHaQnjXWHmWcsuomqVgZpF8Mw4v5ifNffgYLNZvjuNliuHM2FhjUoUj4lP2GAxSlbOJYZVqjstYYHK9xGy1/iWrmzi4Ds41FMsWwBV2ynDYtMJcmxb+I0XSXTD5SL3BNEpebD8TDo3GwF3Di26I+0MNn7pLzJU8BuIIrfCbEwaAp3KSJeEyhC3yzW/XcIXczxmDsQGWyBENVVeYWiD0/51A7Gn3qYenWcRvWwwDuCRpSl3/rmA5nC4gG8Pv/sypUAXZes5mCAbwf8APEaGcqNsvcbiLy1/CXqufEHAen/hDOReMKIFQaUrwepdaq5C4+0ekOYK4Uc0B5/v2gbhV0H9S8PiKPweIAKDtJf2jgFVErqIRcd9iok7Ob+f7C9bnjJ95QPPp/pGDvsw4td6JajHgkn4JcoihcnvtXkuFAyJUi/3MKcZdYzNPOyFZep00ea9fyBFYux/uCW6s1nCXskLcP3M6YOAOy2ju8R97FwRulN8w9ySt8BcHEvHBPCQ8BEVYkG6F1Lyk0VBAPycxQtmqMRtAOKMQUcjkqod+iVOJFqCUCHOYpcb2ELti+oV7A8QFDM8zIa1InKX9IECi7szDCBTsfNwKQKrDPUFq8vMWq4qWK1Xsmy7WVTl6m/ILjsJ548sB4Y4YRR5M3C9l9sehTV6JYBYcN6PxVwTwSiz8vMTn+7BUprA9I5ein39x+hHiqxBgFFl7BqC6QY6I2i0fMYFhh5ItjavFS5GhGzd9G35ibCmgKfMcisX5SvxceuswWqRfAJTSZRhqKX0JDGSxyLhW3thNVniC2TWMXNU08ZikKsd4qcGUXPiZqmT5gFUHvBEQyfMtDBHy7hJlzKYgJavC85jFgUmWFHzBIbHwErXPVXCVA5OtYljdGohZVVjU+Y4l4GcfaNOSfwgtUH2cyw8GzrlqUMVWVNv0HcoUWisk6QS7pGKuKgewrEFsob0ktQiBHd1FVCCtedRvlWrO/8AVHcncflGJfiyLJS+oWbYlRNnio25YwsotX5g02CQwoRf3FXttQ4wYrOA3ElhlGwOYw+LSBfWpdGw5FabdyxXMMXDRZvqLIwaxmXzrMVny66lHfrV+uY2GLhiUus7OZZyFbBhaWbustwlvI54cKzObYNNU3uoGLAGJGHD1CbK5GtQFloFw5F81qA1WWOC0xBQpvtDZEAWklcHZjjmCj+ktQzxohZprvmWw2aDpHYxITke3S6OEvcZBQcqHyENuxbGz5pGG21ujtf0IN3GKN40XEs4uohvaYl39pgNCTMvAbM3UysRfeBCWFOv4gAtZUo90YuAdxVREggqcixXW0OZ7gj7ICgXVYxLNDfbVwQQV3EVplOok8Kc9VDnrYpOZZ9UsTa/VQXGc6iQETJVxzyPY3zBVu4qGQXEvJXuUqH5i0Y/UQoXaurmw2HMC5WmGIFpbO2LYn6nK98JraDN7mCk+0EAC11WCC2o5sIUOXOWScgfCHBFNEbVG3Rd0TvlGP219ow3HRg+xNkt6ih1VLflMWow7LgBdzGKMUFuG7lxAhuDxFQ2vxLgplUB5Y1McKFGuyVDm5Qd82PhAyJXmZ5HMQFhOKggNqqyQua1PmcQUG/UGDS4BWSgXgqIUMjmEC18sUagsGjywAVUcorS+yUCqN1piAmjV7GUsQaHvBKaF1l7SxNtZx6f2Y9QLoyfv4ha+g4L+8Ciy2xCOGi4tcPv/qiwCFUqP1+Yoqt7swWB/wCevUeYObf89QQya6Bb+kVQEXdLrjdQLbuU8P8AsWVjAon2amGZ5AV4t34mEUD0nvzAibgZmTWLi6gXn/bg20a4pKAryUPH/ZhtNHSKzySqcMzMu5MUYfb/AFSuL3TTpa4GM2FiXDNV33HGZ+cSuFUKGNniUc69K/kodh8/8g2BcYf+TGKaute/7GCsFztRpgqKB0PiXd82KLwtvtc0meP/AEhi3PF2UQGpt0XphRpnttffzKCvDP6RZFv4t/2cQ9cq/PiWYU2tmDLzp8M/ce9UzKij+Sk2HmfZW7gFYaW6qVty9B3AUZeFjxr9E0qAeLmVBv7cGCZUNo3Ci1IAewoTeXb9fiXQlCkq+ctxaklEGfE5vqZHhp9L+Rlty2y76sREEGaJS5qTS3OSV3iIug+YdEHk5xECxbZeo2UDWMiRNRO6wetTItm/pGW1JhPSVLx7lYAwxL2ortjVAAeMQLByL8TnoBV+IFgWrjOoU3TcrRfqjMQFLZu+YFpu31CXAU+sBQfgzGq0yQWCieoFCgoadQ0W/BuLel8TEU+MRKbQ8QLRP+zaKMNM6hu1OefcSRXE4CsWUyEI2Nl87ia6CgvRzBkVwNGp7CeJW+LDU1CoPFHi1/RK7eGvlgFQl4vhmXNMC2wpr6QQXk8k+czvGJnFj1AFt57iu+lbi2wZ7JUTl4fCZllrxncF2cPZDCtxK0U8QV56vpORayxalPcshE9RtVuOHqCBgLxKOYPzMHT/AMi3fOpnINRVQMJvqMIF3fjxCiFnVagOMu7lkyB1FshZAFDLiXMbMO/UOoPD7wCkuBrCggl2YYoGGvtMIc/wQkqrZFAmGoJFkBOG8CdG+xsAP1udAofllizjcP8AggySqTmNoZ7IywUXPoilgzxxMmx+YEBqu71BLW3n+wzOKoz5mOsqO9zIaSuLnLx8xocMqUzVhfiZMWJxqsStA5blc0rxBXgx0syms1mWBpYD9WXdNPWIH8V5guETiLWePrcM4QykbuPZe4ZFmbl2cWTe2X1EeD7yyxRBxFxl1eDYCeDCzUMBNiF4UcNmZax5/VKq27O4BpUfMaLiSPYYEICgKAOI5Fer7sQ5fGLgHAOMyhbYce4KWVVW5YT6vEWEPEVGqPk/EKMALXQO16nFoEvxH8tQSUUzC+wIFOhrLV5fARhQQVtOfrA24OOJTkBOfE0yDn1BmrDZTfEoFxrn4liApRGBHNmcymQzq7zDVxXTuVAby+XmIsgHkgGVKiBs93EIlHZHt3Kjx0+0fF7FlFjn4RatX0gA3XqYcE5zLxUXTTExkVRxAi0emYGbzc1g1jPDWoRoU8BY+myR2UZJhNS+j1x8ktunxu/8lRQC6v8AhDPK3X+uJY19IbgvEtUJphw1FNcPtAryuUVBgpLrFB158/aCA6mAELrPEXRueq0Yo57OYAUpSSp5WoLUjLKPR9MxwGStNjCypYLnx6rcSAs75faBLBd5PTx7mfs85fiAZa52/EqSARZUVnjMLWCjendVKbDNIv57iYTy5/yW17r5X8QUFeGlK9a13qm2+NXKV5NF5DvUooo8uT5jUoR1aev+wdbjyhcyS4EVawlRwmssrJvf2ijGq7o8HnxC05Jn/wBI1qiHi/8AfMbRHTQqWNIBvL6r6EGuBUev4S0fRqGgp1Qgeh+JSnsRVNcUYuqCLKxnIGJoqagYJGeKalMEPiNu9CXRAVQy19uZWsj0Ez3Q6mJgB8S66LlXbFfOohT8zImjmpg3kPErIInTEYZEn+O5uGqcYlBpL8sIUo6Vubjpix/JXiK7tJ16nDe5lGXiOIyeDMEk0RMwN3QRiudahgOG8bIAMrkhgpXziNvNVvJLCrCFrQo83ElnF64iYyMcOWzlJdk1zqVY2rfiJelKWag2WPpjMYob6YWNUPDmUGNQWReX4JZcUc5uYezCLsD+oRgphTNJcpUPA/2GQhgbpnLM8muqhdWOPJmCsWz4Jks4jmqZ9RNSkxlIgIn0lKu8Vq4ixI6hKMQzR1V93EBlPiBQmDUQNm94gF1+Y/S2X4gpnrp4qUwKl2y9Yx2IyI/UzE5BLxiEKKJ4K0xJskaiDI3mUwcXqUqng6lzi/0mD2Dsq7hKLrDu5VQ0lR5KrfU8QhqnpiSjkQBtiZBAWF3uoQMZ1RfWoYm8buHRvmiFCnL01K1jpWwDX0hwfi7h9G76zGwykWdXBQpvpl+CPFP9jXTl94lVFEQ6hdDUtrV/qP7jamn0hI0WuqmPG36rN7iBQFc4gomkgrNGc9RsYXOpaSmVeOJewLZA+JZAEHTEhTcUFxxmsQwWyO46HC7R0YZgDn6Qzm/FxacbuWXQtyeJl2qLvvzOEedQM6H3DRXUq2Wy8l5jE1YkQvdJPOIaMksz4RyVefEMKFs7Zq236xxbzrYa3dRcDFZ3HWBurgm7+IDOQ4PcUEWkeYIabouzmJsao9QcFa8wl3AcOcS9jRBWgMBttgeHMsoEDCFpxi5YXCvuZCgZfvLwNzjWuY2EV3iUaYPDG8Eh9mNeYUr6QLG8PrcQVTSx/wBiaRqmMP4hVFPJKAhvC0xamvospePpKdhZe50rjhYGjKX7yqWvOpVSy2cCq6uGqaznLAV2rq4APZbXVSgtaxRvddy1sr8Qvyruo0qoLjDkNxF/aWYBfpguT9IAbqoshdO/rAtbEvayywOYACqfDcOFJxZLcIROccQMwDVh3AglXVLgrQXqscyPhhBQMoaHMxOviBCh2UZS3E3Z/UmVKQRG2nEHLAI9Id097/3ZLfr1TEDbMkLtTTbY1EaU4C6WUhDPbBazJ1w/zBQp/vEQewOIO5AAuLFxMeLPGcQCgzeWfqU5r7tVGiy3u2AiUeMxsUaKhlX1miYVu1jm/csCg2ZAX/v3BQW/ipBySwBX8ijZDu9RebxpZHtfM4lXN/0hI46af2MSK6CT7yvQlWo+iWoDFuIQUe/95l1gc83KiS8cwBT4kpENUDaJxBzm2zFKEbhez3CWjpvAxWFCgMWX8SsbHQaIKUZfBK60OaRW/wACYZYiaw1HK2b9E+tEVlEWl0MzZ0dMawPxUB7gWXWZnMVNNYjjRWrpiAo1D1EV+9ARxAicbf8Aal11abwgbMLeId4KKqrlW4WU0KaltA5PiIZdJd7qEMlJMaYTzAKrHRUwtQ+oahGDIYJ7L+kyG2W4EMl+4FHNeIF3V3zHChQWY194iq/TmYMODqBi1WL7PXMSC2+X2ahWBUIO6LlCylDNx14x9ozOcs5EwAn0iGo2hwjkZZfeENf+QurcPAze1o16lpmvGIlAn6EssyJVd3Up2VyMDbN9kPgfUUpobecy4b4a/GIpBYPZqXBQFMlQpeN5jRTF+owCs0fKKyOHiuYsAzzM92XEOc71uHVf9getMnwyna/VDRgfrcfN57mLG3mJVA41UrS3hfLK4JomcAHjmGG1i6TKtgsYfMEArFoeE8MuIVNTrEuIN2dy0Lc/mFuh4GWZvfMsBQXfeYn6Abu0DuhYfEWdKgDqFl6SHvBrtTl94GG7lKoNWXxESx394nxvnENHf/hDLP8ARMwdXiUXnDzqBfD5Y02E8EsJ6rqbB5tiEOHiLilbz3Hpi3xzLS5XmeUW1BjhHLuAPhxU5DZzLUFFHiEXSji9MGHns9R0BivGJ6GupllV+JwyDxdwDyM72LB6uENFUVVYioRj3Lajsznu2I4tPZbD9FlyF3ZgCJm+Y2VKeOYAhFs8TgBNCjdG5fBQQUrJZrt1DrtRZA4cgIimASyF13e5gBOihUJOkexzoPzKyo1pogA/SJlNnHqLZnT5lrAFEKNhfRMRDP6pQ2kA+JlenuLUsdQEAy6lbXuYGqb/AHAC2IOSnDBM0n1RDkbVe6gaEWtZjRmKHF8viIqGwJzEA+rmZOQHGMwKbXLycRfB5shCqs/gmB8L+kOuF5zM9iULcepkIuc0gYRcPin7TmNYAygiPhYPlq6U9AbWYhpyNqY84/MuBy+qpu0nXc8hckso8VVnEQHkGeYvLgNAts8RoqFNkGo1ObBqg/EODEttl33mEcZAn3Rq6fMTUadF8XiVMFN62QovAdOKjay19MFfVkteGbFohpvEJeV+oNY8lRr5M4IF/eZmohz6DqXSw44nDR9MwGm66lCkFety3HASnlllnPkIsFLXQsdSPBj62oMbvGzj+ylxxMOCCqS6QwwjCABDHUAHRxWP9f2liUDwP3LaZek3AlXnGf6mSlUksOsdyzJ1lcTgdiASHCFHqy5hwNYKjxbXxC4aYK3tW9uczHBcZBfq5hEw/wC8xJe1/vxLDv4riYRyPSBkxaIYLLI6qD5teP8AXMmTgDD+MzYfOUv7RcaD4B+v9UDCwICUK96msq9p+oIYVaiYz838JUAE0UfvAW+zY5K1KSEEGj7SgrcLuhC4AOgMQu2HAVX+qGEK9CEQ+IVV4XuUsvYG+P4/WGCiOn/hMI7WMlb7/wBiOAVzlcm8Vxs+kLBDbQXvWtRegxwEWCjRXQQK5cZl5rL3xHMGe4D27R64l6M4pXGI7Ia8zXkIKG9ephX1EdFGFfqYOMXwGWsk9MxSsG/Utf8AaEe9Bn0Si058Mom78sAcGHzAwTDpZp9/EWR2B1CMY9Q5DwgrpeXE8KlN+4BQVTNxpsElrFlhK1OnXLEXOK1eo2yKPwRHRe8sa1mTOYWmOY7Bq3OZVT0/rRClsY08xCZANXDQtKFFk7BbpIgiSluIKrpZm61Az7+0Zdhz1C7aovUsW3g3zHYrl84l7F1d9IUyt3LARrvpisy1i/cqMWqDKdB7ZSRuiArbp5QsV1uD9CoR1SgVusvPEc0/rwVWrj21DleBOkVDSfgS2+4qXeHqJvkPMQhWFUYuyXfNkaDfzEIopXMRejw8wvZWT4mJ8MfmXi8QK7+YvBl45i4DRzKLNdXwwElYKOpZW1H0iPPH1gLSfWpe7bxxG2iYe3OiGDwvM4TAy5qL5ibDBRxzGjsXw0zygpZXa5VwWZQy3R6uNi8DeKmLfAZ1NkcNniCHo6jZgTuoNReWVX2Ra42ZQUlljLbf7iitdWmIgtylZBy+vMXVDzZWVeIV6BjSNYflnQdw8wIsiZwTEN/NRpQJbCdSsim+JRJVOX2RV0N8bl2y3Sc2vi/rBwfBrmKZWD5goGXb5g04p5mReDyQ5wtMHVFy/GAzrGJctNes4nMX5gzOF3LDoaxi5szs2+ZSqzar9EzeEaO4UHbfFwV0uM1Mkbar5mdGyMxbQeiNhSPEL4aeouXR7zHFjDN6jbfqZDKB2VxDjV+ZWSkwxsI724KYNX1LPmAlh6FbpPOSEDdqivhtceIKs7wDvG/cXKqwFrF25w3UzKQ7YTwLxCMGrhfSVavbPMCKJ+YSDYeHmCoaIbrAfNmXVUXecTjrKXd+pJQUFixuYRWrjsFDb94MC3XEqjATcCcurIlNZq/kgvoufaDZK11HA2nNMEguvzODfllVpgl0gs0+hKJd3XdzGAtniCyG2XWt3Ue+AFZ3SNyQVChwjnDFAbL5Yb3zCyZth4m2FeoEIRQ8XiUZYeLxLeRfWA1eN6ZgcMRgyingAuFq7G4Ouo0kdNLdagVPtH+eJgzVx+6pQN+LLCtQ0a65KghtvhwPOlktAf0zIq97RAwLWgOU4iESy+tceYCGVcKAEfNnPcMlrx5ff/XLm0dUf2ag4wAYeM7hos8tfHmOQgOA5+/+qV6u8f8AUsFf3kf7EtrNjhjvEBSjqF90ezMMglGaVzOwN9/pcpAgdQw9bIcNYr/ainNdDjePamYsSPXdNf8AkuFb6GJKbDvlOIZp7LtvO+V4D+SnKpmiEQm7zjm1Ntp/cUiwIUQc9wcsxdruGws8lwOE8f79ILD4lSBrKVwQYsvsLFgZiNv8l8Q4N0f4Zetga9x1UF88xFLNGA1g/sUqNDioRoFvNwU4WQEzqtXB0TMHshoGTcYlh7/kEgtxHQcZJSxA1tc5hW9DEyFablo2fMACiqc4gquG1O+IMiKdYjddq6ZzULTKhUv4hfLYnHcKNL9DIlDgC9IxLQMuUgVQ+0oXNR33E+5AA1al1XLeIrciPmUGjadRkBeuI2EoO4i0wmn4gvbmptwkzBszmKNCVqNgK19ZRow5vtAIOHWdw5jnsjU5mRY/kmDRL5GHhKOpyqqSA05mKW/ArZ4gt0U1Fopy7ZVWX/IIVeublGpY0ieYKVSItwFgZe5gufXMscWU1mHtNOHepUgCUz1L5K04xHChfSGQV9oUjT4lmNpP4RBrcuwtdVLCzjjO4Base5iADT7LPEoVG8zJBwjVR6c/MCKbRycwLXl/MpQTC3iCyLsY+IF7KYAwrgtxddQMLSrzcIJdz4yxskCK2sQ2UQjlE5Y5GOlLpVREYu4SiV5PDzESq0oSF4zRFdZPZEUlL/ZUT/LJOZlRJQ8PcFE+DD1cYsC35mwWpDIiKlHlpjTRXuFoV11KsqiRFTe3ziU5VjDVP3JV1h/+Fa2cseM4otVeEbd3KRvNPqNIbogPNcZlEObIUaaPWWOw/MDTeDiC1dHyTTRY1ECwKZ1qIALKXUoyv+waCvmYdrdRdme4R5wxXLCmAQWG7P0gILyHqZpU+RlVgWU+iGHG3xKgao5xF5R8iCOlVdQzvThDDmFX3SCPzOwvuWE68RquHE8D/Zg65IA4cZxm5YcJWo0unnEoPPOJw09zCyktrnEqIOFSiWViGK97mW0yx2X+IRjLXxzhLPTu+IKd3cF2nsmS3fxDVq2oXeyDSwxjMMnOOoGjOYkFQVq895ju0wOMIYpARYMOagCtXUtLgpsyo8m0/ViM2Yl8WGXd1EoKUXZPI9LESboU+o6VZ5biVKp7QL3mr51FI/m/UxBBJTign3+0RYGiwa3hwx3Bw2l7P5E+zmrHxsm4KM7vBN4SSi+XNF3GgtJkZjjnB34iuILbIMaM3Ypa4FORXPxMnY02Zl3AVzUHSJrGS5dhc3OOCVm8GVLoZ5IkimIBASuoBI5+i4jqjOtMvWZ1ov7wXjvnJ942CPTFI865XT9QGXLCz+JiDEVZX/tRIstZoVqU6gTiv+2WKbG6EFks08FzkPH3gjEF2yh4vmaDMvBJmpQZltvDjj4ndTEV/smSMhXkYfIh4Vppso3XMCxc1a8QwCDs/wAcy1gk1/2nbFeX/YmFbrbviAeoFY/9DPxDuoc6Yl+H39gsmWNYSBzX9QdnGgA7A897lYLx3S+P5M2NYYR+4xQfn/0jY7PmBjbTILo+8o+YOWMU9BcrQpK4X78xp6iqFjzuDVdtmUVAUnnoYk4f9cx2h+byuCa83g+/mDW+3DIpaNh3ivPiN4w9P+ywUJ5iPI5hypmYrBZzLCeV1AIAcEoPKFcFtyl8I53M3C3XoyP1IJvsvBoS3hhU0S2OTPbKi8dhmrA3zm2LWAqiy+zo8xBjKaLSvepSB0Y6wgFvXqFxhoI7mhC4Dt4hMV+g5ImVdbkUPsthBa/eAsGqqC9BnubV8ecbYWipT9pZRKSBQYo0RCrVsfEV9R58QMsviYAG7ybmFG6ga5Gq8RJYqj+EuI5LzUbxljWYFmXCyNF1p5hiC22n1HJHhjRUGyZhll33OMjwSoUIjMxbfUNVo09SqMKkBCqY1uaFQfSWDbGFrUZqldR28mSbP8wk9O/mKQsjAUfEyYGgi3eJRVun4TZxdcEQAZMTNhT2bY4MZ5xUzyhy16TYLGVEkQQRS/EQohhLAF5rEqZW831iuLz3jMybMeIFkXXFRsB11Ux5SOK8Si7uuYBtcFCy4UcFucXPLUDQJrMOsItAbc5sjCZcypI7lEppXmNrTlfkjRmr4aiC7OYADV15i3Qt+iWp/wAwF3F2oV9WAMsYa6LPcAZBhVAAzbWISxmsw2bYmM010wUDgrfUQpwFk1mtRWles3OWcXVX9Es4cwAim9+Zqs4iIWiI1FFZ/qQZxTkl1wyhUclHHj3A/EjcNQXF28S4uSnPsjovF+oU03+oCWR8XFc7DZzEbXAn7RbCqP2g23wObg1pvvGJrXH2lUVjt3MGaAr4RnDPVXGAoUzUJwJEKjeyWAzi+0ES9feCgW50Y+I0sb3UEhYVuwnkwtuJe1KANwmAT1Mgl3rMyuEAa1WzVUH7nYEdZl778w1QmcDeRg0sN4alGUjrLS3y5ltrMttTu5Q/FINIjSmKg3aqe4qXh7zKBr6SGrxf7iXEijki7q/DmOzJ4bjzK/qC0py55zBdvXUrYYAob+kN8PjiFpHYivqHLBCJqWBY7wynGPbBTWHzLMBl9Mvi3DQt3ClM15lFEpVH/kCdM/uTOWxG+mYnkHuH7EkLMF7oQ5SqFMEQhsRn/UygiOg3MoWU6T+pVQXNrjX9guuBoIlfuUqpKUuxXu5uqryXQAyoBcFXHhWAyN1rO86OO4EMKCqlRGaBaC1HMw8HOIAIQdJP9x9ZeoGdJSFeMf0xYxwKosXmokbSxv2UFx0A0ND5NkQF3PT5r4mAU8GRJjNVi3epbs9Jn+5lhnK77+kHprSaH29TLlxMZH6lAq2N5a+nVwFWFNL9IjwDBar+kKhb/H/MLCGuF3v1LBBXiEZBKuA0aazEljdt/wCRVHqtfz1G6Dnt/uphtYbymyjICqsXxLLVZvaPTU7F39ZYVm7zmLClrx/uiV2AS7pRUKjRZUPwN63NAfglAoV7YCgUcS6LCjcHrQZmol+8EWi+xlAW13zHTr4gLWRIWktMfETzkchxE3LD6wznNazFAiwS/wCov1dn24IoxnH869DnzMvDgmgr12ktAosWQXTpHg+5Brd8GOlQCwXslWbs7IBeDyRKcj1AGgo4hFFaB/EbJazfEyt08cwa1iBhtiAOa+0SMHJdeBFN6fmCZLfiNXn8wAixL8GV1nZLYl21VzHIwLLo+Y6u34lVvmOkwpygMgou5i028zQ0B7leAByEOIFmauWHbJ92NVUBHiWnDShoMv2uLmvC2asX6xSWh3lqaYtL7EQ2B5JqThuCs83L8BeJWeehYlmHqDKApiuNTD8JjpIA/BCZwBWICvkE+7EOZdCjfzRUKEMtaxBd9vEGrPSWWYqKr6q3HiAU83qIaZPPMvN6eCOZBAsLBd4lnAAmvCVDZmbZYM4xMLU73GzDiuYVzOC/EEhn/sovbf0hadiS1pqvMQypnqMMu2spRGKgQKlsmarAS2Kbe2bLXfUyUZHNsuLg3+TESIhaLSn6Q9C37yiYbU41psPtFOFQDfePxJ+cXAYErqBpTNlyuAhZ1FkE6+bj7eIQBkwkPOzF+I3OgRQDleCW37xjMMRJTZUG8fL8ywMWgl+D2wxmtxuilVzK5EpW8XiOmBjTiOVBKxFeCF1qXMKzwktTGW+yJmL81K5GOo26HAQUKVrnqDbxb9SNKHdxo4cynT+yuz5gbc1KA1Zh94GoiPEaNHiLeN01maAofiF/SXEKATavcIEsF8Yv4iV9MycWpcK2j9Al2GFI1JmvwINtqU58wUENt4IdVUdUEWGLYJcqqV8kqrRnMSMiwILgbKLDvErh6Psi8Uqwuu5kOSJW7+ZQdZEfZmLysXH5BnmWfPiCI4s+YrRR7m2y111SBZ1VuCut43GwfdAEWqdRMP8AxsljY6zKalF6uJWuJVplwULfzE0Nv7QFGckBETXuG3e3MSFcfO4p6YVAwXz5hrMS7WAI/GZVsupw1T+4hQUJ4vj6S0ERaTM2EQQ+kV5e+LMxG8ibyWR7R6E/2N6ZzGT/AGPpOh0XZDgkreEXTGoYH5ymblYSBwtLL+amSnXgGYnuLJemIFWfAmQrjNdgDhyJcIYcaMWJgEqmYP8AAUpZASJOxTLnYO65graR1WBVtvIVgZ4QV6BiPSxORFTUTNDubslf7UtKTvu4sX1wWmIZRL0LK61nn/mF0FOhOJZtQcjcBNCfaf37gKjDOLHthqidUf8AdRdhHoEK5RPBChw+Lw6ihmIds1L3SMih9mUS6kGm/v5nWCzn5PcXrToOYHsFLutVz9pZwAkMAYr4qMXeeIazOMNwILuPHEX085ErhsnyszDkdYLDMoRS0IFjrPxD4AbmJWQe1mCIpYngrCwKUT2hKU9rYgTk28EXlV6QDgAxiK+hmy7Y1bl5rEjefwxB6+tHM+OA3EBXjBHVf3YQJ3/BGu7XdEyaeQQ1Sttr5IHkPJAmsvIROAFlouqYFWa2S+Rimb8y7jggWKD8zKmPtKtWS4rOsBoqVpVnO+w31ORcIqR/kbIXtyF9v3mJDWCzBOpQVOlHNO681KrBn15D9VDB92F837qZB5mTJKmPNFtOtkQ2w+oJWF1zEzYZ6mGqywSYKOPcowCV1LsvgOWUTLJhmdcGNQ0qaTe6xHGDR+IqcO6lFpQ41AGmIOCJOFBPmiJW2eWW2oNaheg5+0SNt5hgKWw83ZK4Co1lfWG9YeY1e/qS0/iO9uf2JhFOUxGobz5gzin3xK+yPyjtr6LPlSMQEvOHno1MJ6gVgrZB3UhNzn4a+J9sTwbfl/Up0AAFaoagNi15hYNBXmA6++4Abiug42/ZHciiVqPz2vBLSrilD07hkiKApwpHWfvKGBZe/MCNYp5mhWzSEWmAHeZbluA1M/ohqWNciWtIEuvS4iFPszC+zmA7YvvCIPXUDQ3AGnCLR5+IwgA5PJAx54hcZx3FHH0gjeMTG7c7xDeSij4zDbal/Hm2ICtO4r1R5CNbUtx8LLAppSvUGtFj1MnxLLFaGDncFrWSZHg9+IrsCA4cCON3l9kttG0H5jtCkJiuagqkoqUEMox9SNOxruX2c6smsE4UoxriYZLwrWH8j8Rvr326ml80kMJzM/Kuq4Jb6hlVFRDgKtM0CDWrmTF/E1YVXFkbFwSKuLPpBV0f0kQrH1MA2/iYlb/cKqmm6hKUBNHOSWFLwallp6WDVPyig4KhvG3LmEsbSBZ/AwNylFHSGBdfWETsN0gFfkfiCAgqnDmdFUs4fMM8QETxkO/LKGGUvdnl7hrSVW7SV8JWVKtz2b2TZaFPtU6lFjF9blZxst3F8KRYiVhq+lRvVLKANlniPzPMML3HYHwNCbB5hwTQbSFZeY9i/cVC1o4l7CmOqcwuexSoORKhZVKV94WyXG+Cxl2tVm+oQSqW/wBiUZblis419I3Vn3mm5fzMGso0LqexKi/hH/cRE3Z7jg+1bLcyNqlAQq6cAb3POJsBXxWKuc/FL/MSglQVU9ytNsmF+cfSLk6Wsvt6gu4su49fb7zCjV9SCbg+nMTZqcVl0ajjdbpymQZRr/rMRxHyeYFGeZTF+dy7SzanejE+okD+RoJGBG/p4hxaZbEPT+pdgtwHJd4faKJNQxVPZMgX46/kUHLDX8RW43uz8Q1U5/riUlxS0j+R/KBgMfaMoWMFD+ovn6A/UqUqvQfyDsqej+TWKSjldxW1j7A/ErFqss6J+iLpezSpZ17dbe++orU9l/mIIOY3SXbxdgIotJtqFZWzglVHB+ZQqijd8zwCFSxqNYMhXVSktBrMQuJVPJ3MhZaX9Iu2/uSzDg5qVblrPEbYSsVxSsp8Mp7LxKu6GKXFFmxiqWLvuQtHAe5cW1iK0d69RGqmgcVv1m2U2ckMYcxuiiy8kvACaxcvQaVX5xML9hsYilYK6guSqeo1ZW5alVrqBS6b/EXJljQNjcadxDdtj1EirBpfmUsRR7hko31Gqq+IbcwcixO/Rb9SAXrLM3oi0je2rDcsKIbArcVcbzlXli4WamDC1xUVJjEzWcnmUr8fwQt7I3uPTlURYI5LuIVbiLey4uskDkYlhBV6ZYN5ftFPS5V8gzrDErpiUW6olzijap6ZQNrb8SxyKuvEFbVI+ILbSUNLUsGM3DatvPHEcYCn3EFao9x6Um4jW0uIUUo4vWX+QtG9/eLBQ5lC6+8q8J8waUQzzCnhFh7Joyurmi1Y6LsOIbUGdkovWObj4MYfdKGhymt6Y1vi/EeQtVmMG/owhStElg0/EQMJ6mt0F+cwZlwhvySihx2wzSXTnHEbCrzzCndL5xHnrOeBCuJdukxCgb+IVWaS113lWZuZwT4lbtj8T4J7iFSs+cwRdNR2tKWv0lmAe3MbUy4O4tUjXiJDR9wq7H/ScsqfNRDB9XE0BwanOaCIX/JYoFhTrmJRTXiOgCzjEXmpbWKGI0HPUwbecPlgZY3yRELHD3EKKXDdxouqDOGKxtb3A9rqCIMfCFXecdSlGbavkigyZ5uDQXjUUzy8wAfyVopi3jmFnSVzMrW35jTAx3FXPMeutvxKAFFHPqDQUtrMACm+amLbkjRY+JVpcmpknGftECyqNzsWnVTtq65ZmN/aMy6NqdUTI2G4OGYJu5QZOa3ACFOl73B0tNROBE6uDp8wwl6bJssoIlqZQVcsBDVVZEQfgIv+FmBZFM4ibvBGm8TyJv7Q1jvj+EAb7lilAiXyiFzmGWUzUDC6tXAmBPgP3F0K+a/sNWP/ABzD4gpRlhUKHFmB3Y8I5jR5DLFZHdZVpTb/AMw7ZMOGPpB8e/X9Sw4Tuv2Ish5Com6b3/kJoMXld+JZw/yIq8j5M0BT5X9gLdozZavvKKQDnd6LhZwXhGHQL2fyy8KC+CBOH4Mq24cQCAVTgP2iGlBM5r9QVbMe1BMq73IOETv+3iNIr0VU/wBiI3MZrywHIzipa/IIWvoKRKxM6qHWCCBxpCigPCUVW+oIAbfEogMnEqjAqgbyQytqhqyAUhuc1B8ckseVHDCAGEMyiao9IkLyTiDRDg8ZnCqDiKnU2RqVLPHiK1u/Fx2BwisHJ5lm2A3FZrvMLpKIZVgOYGAV+mJTxjxG+FZiGBSnpMAxK0XuKLsipVDXZqEwW2a+YCi8EbYlO4yqWoC4lG7EpvMC9Gra+rEUU9VU4L/G4bL1KcMAebT8IVmufpNACvMSgAvvxEAOBCpGXSuLmRvZ4mcD5haOMkG3VPmMgKsCX7i4zvzArpPMVr1FoJmBEw/hMrSgJKUuvcGiXwWJ8mZGzRuZJZj80VTHwIcwy5u+8wTbQu4LBigIcVMGhsNRug8rsyy0KHLkgP8AyBwc+49Ks1n5iqz8Yl1ZxAHiGIRhaOamVHP5YUYBTxUKWUHUa0+8MLPpPUU+yGi1SyNJc0ad1M+W4pmkvaenMMXu3dxFYmZYnhJrWSEhrAjpeMdQtSrXONS9LzPVZ4gOJnv1Kzuhn4lKI0QAuHm4Wc6ihtKZC5QRtq+sqt/SLkpa4uUm7EwKFvubnVgHxEGgfrglbGl7lhnD5lgpLrFfEVhRs/MWGbAgtd13UzBC0vmYBb8S+xsH1tnCFxG4HtifYEFstVffiIXZacxuflTOzMF2YmcUxhjzHV5uA0XAtyN9sPDm5sno/mLhVvioIdUZVmueZpFlcXL+sCVjW79QBpke6jZNFOI3M79xaWnFe4U2Hu4v3CUcHFMBffRMIGseYosRWzST7QEVmuS4NiquaVhisAVKHKwX7D8kz6pNf3FVStQVcWJqXoEvmYoaZkzedQq8ge400KeId6155hBwLFz6jhUXLE738ymaj3LhaE8IWqWF1xmC37kQAsk8J2t8XiVrRCyytcLjMHoeaf5CtpTxgiVn2t+orOW3/wAIzOKi5OEgUMGpk84cMpxVmkudD/O5qf5r+pS22tqDFc55JU0sPZFF+a/yR3WLyIFSytwoPhIOncWdQ8JB9ASrWV/SGAtl/gYuJUZ/Cl5+X/IihQnsjWj2bSmz67/s1gD/AJ3BQAcVvvD7QihK2fYQQyfFIW4FzS6Ve7qD1Bdsngb3/SCKe1ZX8zbMeoBoDpErLe+jBNDtMocKvCByjfAZgDOToiRYM+CULznEcpfcNt1omF1XxFwHwglTHc2vL0RT58VKigSu2JMX94gj8zsGNEMmh7vcLHLn6xBl+JdWmK5uPFVRya+qAoo52HEE5YhRsKmS5rxAOE+kByDAoXXqWUJrxACkIIdETKW/OpYVQUdsXlf1hnR9LjlFL6thQ3fN1GJoR6ll3hg3io7gXoX0RBrXiXeBrxA4XPliA07Gty1pUqhzYeI0c69kVmUWcSgdks9Gopp2dwMXcU0FdYgWAmbzzEOKW81CMcVyzHP5hybTimUnBT5iWU8ymnhxP//+AAMA/9k=)"
      ],
      "metadata": {
        "id": "ym67xX8OJ3jQ"
      }
    },
    {
      "cell_type": "markdown",
      "source": [
        "![image.png](data:image/png;base64,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)"
      ],
      "metadata": {
        "id": "zMIH--fuKxuM"
      }
    },
    {
      "cell_type": "markdown",
      "source": [
        "#4. Determinant"
      ],
      "metadata": {
        "id": "u4tQpSyI98l8"
      }
    },
    {
      "cell_type": "markdown",
      "source": [
        "$$A = \\left[\n",
        "  \\begin{array}{ccc}\n",
        "1 & 2 & 3\\\\\n",
        "4 & 5 & 6\\\\\n",
        "7 & 8 & 9\\\\\n",
        "\\end{array}\n",
        "\\right]\n",
        "$$\n",
        "\\\n",
        "$$\n",
        "det(A)=(-1)^{2+1}A_{2,1}det(A(2|1))+(-1)^{2+2}A_{2,2}det(A(2|2))+(-1)^{2+3}A_{2,3}det(A(2|3))\n",
        "$$\n",
        "\\\n",
        "$$= -4\\left[\n",
        "  \\begin{array}{cc}\n",
        "2 & 3\\\\\n",
        "8 & 9\\\\\n",
        "\\end{array}\n",
        "\\right]+5 \\left[\n",
        "  \\begin{array}{cc}\n",
        "1 & 3\\\\\n",
        "7 & 9\\\\\n",
        "\\end{array}\n",
        "\\right]-6 \\left[\n",
        "  \\begin{array}{cc}\n",
        "1 & 2\\\\\n",
        "7 & 8\\\\\n",
        "\\end{array}\n",
        "\\right]\n",
        "$$\n",
        "\\\n",
        "$$= -4(2*9-3*8)+5(1*9-3*7)-6(1*8-2*7)$$\n",
        "\\\n",
        "$$=24-60+36$$\n",
        "\\\n",
        "$$=0$$"
      ],
      "metadata": {
        "id": "Yek0yc-u_AG5"
      }
    },
    {
      "cell_type": "markdown",
      "source": [
        "Valor del determinante = 0"
      ],
      "metadata": {
        "id": "BTmoGQkB-AvW"
      }
    }
  ]
}